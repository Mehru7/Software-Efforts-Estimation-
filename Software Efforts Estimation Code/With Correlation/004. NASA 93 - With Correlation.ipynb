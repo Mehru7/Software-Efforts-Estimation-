{
 "cells": [
  {
   "cell_type": "code",
   "execution_count": 1,
   "id": "ab1d8155",
   "metadata": {},
   "outputs": [],
   "source": [
    "import pandas as pd"
   ]
  },
  {
   "cell_type": "code",
   "execution_count": 2,
   "id": "582685b3",
   "metadata": {},
   "outputs": [
    {
     "data": {
      "text/html": [
       "<div>\n",
       "<style scoped>\n",
       "    .dataframe tbody tr th:only-of-type {\n",
       "        vertical-align: middle;\n",
       "    }\n",
       "\n",
       "    .dataframe tbody tr th {\n",
       "        vertical-align: top;\n",
       "    }\n",
       "\n",
       "    .dataframe thead th {\n",
       "        text-align: right;\n",
       "    }\n",
       "</style>\n",
       "<table border=\"1\" class=\"dataframe\">\n",
       "  <thead>\n",
       "    <tr style=\"text-align: right;\">\n",
       "      <th></th>\n",
       "      <th>recordnumber</th>\n",
       "      <th>projectname</th>\n",
       "      <th>cat2</th>\n",
       "      <th>forg</th>\n",
       "      <th>center</th>\n",
       "      <th>year</th>\n",
       "      <th>mode</th>\n",
       "      <th>rely</th>\n",
       "      <th>data</th>\n",
       "      <th>cplx</th>\n",
       "      <th>...</th>\n",
       "      <th>acap</th>\n",
       "      <th>aexp</th>\n",
       "      <th>pcap</th>\n",
       "      <th>vexp</th>\n",
       "      <th>lexp</th>\n",
       "      <th>modp</th>\n",
       "      <th>tool</th>\n",
       "      <th>sced</th>\n",
       "      <th>equivphyskloc</th>\n",
       "      <th>act_effort</th>\n",
       "    </tr>\n",
       "  </thead>\n",
       "  <tbody>\n",
       "    <tr>\n",
       "      <th>0</th>\n",
       "      <td>1</td>\n",
       "      <td>de</td>\n",
       "      <td>avionicsmonitoring</td>\n",
       "      <td>g</td>\n",
       "      <td>2</td>\n",
       "      <td>1979</td>\n",
       "      <td>semidetached</td>\n",
       "      <td>h</td>\n",
       "      <td>l</td>\n",
       "      <td>h</td>\n",
       "      <td>...</td>\n",
       "      <td>n</td>\n",
       "      <td>n</td>\n",
       "      <td>n</td>\n",
       "      <td>n</td>\n",
       "      <td>h</td>\n",
       "      <td>h</td>\n",
       "      <td>n</td>\n",
       "      <td>l</td>\n",
       "      <td>25.9</td>\n",
       "      <td>117.6</td>\n",
       "    </tr>\n",
       "    <tr>\n",
       "      <th>1</th>\n",
       "      <td>2</td>\n",
       "      <td>de</td>\n",
       "      <td>avionicsmonitoring</td>\n",
       "      <td>g</td>\n",
       "      <td>2</td>\n",
       "      <td>1979</td>\n",
       "      <td>semidetached</td>\n",
       "      <td>h</td>\n",
       "      <td>l</td>\n",
       "      <td>h</td>\n",
       "      <td>...</td>\n",
       "      <td>n</td>\n",
       "      <td>n</td>\n",
       "      <td>n</td>\n",
       "      <td>n</td>\n",
       "      <td>h</td>\n",
       "      <td>h</td>\n",
       "      <td>n</td>\n",
       "      <td>l</td>\n",
       "      <td>24.6</td>\n",
       "      <td>117.6</td>\n",
       "    </tr>\n",
       "    <tr>\n",
       "      <th>2</th>\n",
       "      <td>3</td>\n",
       "      <td>de</td>\n",
       "      <td>avionicsmonitoring</td>\n",
       "      <td>g</td>\n",
       "      <td>2</td>\n",
       "      <td>1979</td>\n",
       "      <td>semidetached</td>\n",
       "      <td>h</td>\n",
       "      <td>l</td>\n",
       "      <td>h</td>\n",
       "      <td>...</td>\n",
       "      <td>n</td>\n",
       "      <td>n</td>\n",
       "      <td>n</td>\n",
       "      <td>n</td>\n",
       "      <td>h</td>\n",
       "      <td>h</td>\n",
       "      <td>n</td>\n",
       "      <td>l</td>\n",
       "      <td>7.7</td>\n",
       "      <td>31.2</td>\n",
       "    </tr>\n",
       "    <tr>\n",
       "      <th>3</th>\n",
       "      <td>4</td>\n",
       "      <td>de</td>\n",
       "      <td>avionicsmonitoring</td>\n",
       "      <td>g</td>\n",
       "      <td>2</td>\n",
       "      <td>1979</td>\n",
       "      <td>semidetached</td>\n",
       "      <td>h</td>\n",
       "      <td>l</td>\n",
       "      <td>h</td>\n",
       "      <td>...</td>\n",
       "      <td>n</td>\n",
       "      <td>n</td>\n",
       "      <td>n</td>\n",
       "      <td>n</td>\n",
       "      <td>h</td>\n",
       "      <td>h</td>\n",
       "      <td>n</td>\n",
       "      <td>l</td>\n",
       "      <td>8.2</td>\n",
       "      <td>36.0</td>\n",
       "    </tr>\n",
       "    <tr>\n",
       "      <th>4</th>\n",
       "      <td>5</td>\n",
       "      <td>de</td>\n",
       "      <td>avionicsmonitoring</td>\n",
       "      <td>g</td>\n",
       "      <td>2</td>\n",
       "      <td>1979</td>\n",
       "      <td>semidetached</td>\n",
       "      <td>h</td>\n",
       "      <td>l</td>\n",
       "      <td>h</td>\n",
       "      <td>...</td>\n",
       "      <td>n</td>\n",
       "      <td>n</td>\n",
       "      <td>n</td>\n",
       "      <td>n</td>\n",
       "      <td>h</td>\n",
       "      <td>h</td>\n",
       "      <td>n</td>\n",
       "      <td>l</td>\n",
       "      <td>9.7</td>\n",
       "      <td>25.2</td>\n",
       "    </tr>\n",
       "  </tbody>\n",
       "</table>\n",
       "<p>5 rows × 24 columns</p>\n",
       "</div>"
      ],
      "text/plain": [
       "   recordnumber projectname                cat2 forg  center  year  \\\n",
       "0             1          de  avionicsmonitoring    g       2  1979   \n",
       "1             2          de  avionicsmonitoring    g       2  1979   \n",
       "2             3          de  avionicsmonitoring    g       2  1979   \n",
       "3             4          de  avionicsmonitoring    g       2  1979   \n",
       "4             5          de  avionicsmonitoring    g       2  1979   \n",
       "\n",
       "           mode rely data cplx  ... acap aexp pcap vexp lexp modp tool sced  \\\n",
       "0  semidetached    h    l    h  ...    n    n    n    n    h    h    n    l   \n",
       "1  semidetached    h    l    h  ...    n    n    n    n    h    h    n    l   \n",
       "2  semidetached    h    l    h  ...    n    n    n    n    h    h    n    l   \n",
       "3  semidetached    h    l    h  ...    n    n    n    n    h    h    n    l   \n",
       "4  semidetached    h    l    h  ...    n    n    n    n    h    h    n    l   \n",
       "\n",
       "  equivphyskloc act_effort  \n",
       "0          25.9      117.6  \n",
       "1          24.6      117.6  \n",
       "2           7.7       31.2  \n",
       "3           8.2       36.0  \n",
       "4           9.7       25.2  \n",
       "\n",
       "[5 rows x 24 columns]"
      ]
     },
     "execution_count": 2,
     "metadata": {},
     "output_type": "execute_result"
    }
   ],
   "source": [
    "df=pd.read_csv('04. nasa93.csv')\n",
    "df.head()"
   ]
  },
  {
   "cell_type": "code",
   "execution_count": 3,
   "id": "e5768de2",
   "metadata": {},
   "outputs": [
    {
     "data": {
      "text/plain": [
       "(93, 24)"
      ]
     },
     "execution_count": 3,
     "metadata": {},
     "output_type": "execute_result"
    }
   ],
   "source": [
    "df.shape"
   ]
  },
  {
   "cell_type": "code",
   "execution_count": 4,
   "id": "cc2da9da",
   "metadata": {},
   "outputs": [
    {
     "data": {
      "text/html": [
       "<div>\n",
       "<style scoped>\n",
       "    .dataframe tbody tr th:only-of-type {\n",
       "        vertical-align: middle;\n",
       "    }\n",
       "\n",
       "    .dataframe tbody tr th {\n",
       "        vertical-align: top;\n",
       "    }\n",
       "\n",
       "    .dataframe thead th {\n",
       "        text-align: right;\n",
       "    }\n",
       "</style>\n",
       "<table border=\"1\" class=\"dataframe\">\n",
       "  <thead>\n",
       "    <tr style=\"text-align: right;\">\n",
       "      <th></th>\n",
       "      <th>recordnumber</th>\n",
       "      <th>center</th>\n",
       "      <th>year</th>\n",
       "      <th>equivphyskloc</th>\n",
       "      <th>act_effort</th>\n",
       "    </tr>\n",
       "  </thead>\n",
       "  <tbody>\n",
       "    <tr>\n",
       "      <th>count</th>\n",
       "      <td>93.000000</td>\n",
       "      <td>93.000000</td>\n",
       "      <td>93.000000</td>\n",
       "      <td>93.000000</td>\n",
       "      <td>93.000000</td>\n",
       "    </tr>\n",
       "    <tr>\n",
       "      <th>mean</th>\n",
       "      <td>47.752688</td>\n",
       "      <td>3.279570</td>\n",
       "      <td>1980.827957</td>\n",
       "      <td>94.022043</td>\n",
       "      <td>624.411828</td>\n",
       "    </tr>\n",
       "    <tr>\n",
       "      <th>std</th>\n",
       "      <td>28.229901</td>\n",
       "      <td>1.683459</td>\n",
       "      <td>3.335004</td>\n",
       "      <td>133.597947</td>\n",
       "      <td>1135.928065</td>\n",
       "    </tr>\n",
       "    <tr>\n",
       "      <th>min</th>\n",
       "      <td>1.000000</td>\n",
       "      <td>1.000000</td>\n",
       "      <td>1971.000000</td>\n",
       "      <td>0.900000</td>\n",
       "      <td>8.400000</td>\n",
       "    </tr>\n",
       "    <tr>\n",
       "      <th>25%</th>\n",
       "      <td>24.000000</td>\n",
       "      <td>2.000000</td>\n",
       "      <td>1979.000000</td>\n",
       "      <td>15.400000</td>\n",
       "      <td>70.000000</td>\n",
       "    </tr>\n",
       "    <tr>\n",
       "      <th>50%</th>\n",
       "      <td>47.000000</td>\n",
       "      <td>2.000000</td>\n",
       "      <td>1980.000000</td>\n",
       "      <td>47.500000</td>\n",
       "      <td>252.000000</td>\n",
       "    </tr>\n",
       "    <tr>\n",
       "      <th>75%</th>\n",
       "      <td>70.000000</td>\n",
       "      <td>5.000000</td>\n",
       "      <td>1983.000000</td>\n",
       "      <td>111.000000</td>\n",
       "      <td>600.000000</td>\n",
       "    </tr>\n",
       "    <tr>\n",
       "      <th>max</th>\n",
       "      <td>101.000000</td>\n",
       "      <td>6.000000</td>\n",
       "      <td>1987.000000</td>\n",
       "      <td>980.000000</td>\n",
       "      <td>8211.000000</td>\n",
       "    </tr>\n",
       "  </tbody>\n",
       "</table>\n",
       "</div>"
      ],
      "text/plain": [
       "       recordnumber     center         year  equivphyskloc   act_effort\n",
       "count     93.000000  93.000000    93.000000      93.000000    93.000000\n",
       "mean      47.752688   3.279570  1980.827957      94.022043   624.411828\n",
       "std       28.229901   1.683459     3.335004     133.597947  1135.928065\n",
       "min        1.000000   1.000000  1971.000000       0.900000     8.400000\n",
       "25%       24.000000   2.000000  1979.000000      15.400000    70.000000\n",
       "50%       47.000000   2.000000  1980.000000      47.500000   252.000000\n",
       "75%       70.000000   5.000000  1983.000000     111.000000   600.000000\n",
       "max      101.000000   6.000000  1987.000000     980.000000  8211.000000"
      ]
     },
     "execution_count": 4,
     "metadata": {},
     "output_type": "execute_result"
    }
   ],
   "source": [
    "df.describe()"
   ]
  },
  {
   "cell_type": "code",
   "execution_count": 5,
   "id": "07c9df9c",
   "metadata": {},
   "outputs": [
    {
     "name": "stdout",
     "output_type": "stream",
     "text": [
      "<class 'pandas.core.series.Series'>\n",
      "<class 'pandas.core.series.Series'>\n",
      "<class 'pandas.core.series.Series'>\n",
      "<class 'pandas.core.series.Series'>\n",
      "<class 'pandas.core.series.Series'>\n",
      "<class 'pandas.core.series.Series'>\n",
      "<class 'pandas.core.series.Series'>\n",
      "<class 'pandas.core.series.Series'>\n",
      "<class 'pandas.core.series.Series'>\n",
      "<class 'pandas.core.series.Series'>\n",
      "<class 'pandas.core.series.Series'>\n",
      "<class 'pandas.core.series.Series'>\n",
      "<class 'pandas.core.series.Series'>\n",
      "<class 'pandas.core.series.Series'>\n",
      "<class 'pandas.core.series.Series'>\n",
      "<class 'pandas.core.series.Series'>\n",
      "<class 'pandas.core.series.Series'>\n",
      "<class 'pandas.core.series.Series'>\n",
      "<class 'pandas.core.series.Series'>\n",
      "<class 'pandas.core.series.Series'>\n",
      "<class 'pandas.core.series.Series'>\n",
      "<class 'pandas.core.series.Series'>\n",
      "<class 'pandas.core.series.Series'>\n",
      "<class 'pandas.core.series.Series'>\n"
     ]
    }
   ],
   "source": [
    "for i in df.columns:\n",
    "    print(type(df[i]))"
   ]
  },
  {
   "cell_type": "code",
   "execution_count": 6,
   "id": "d2f7aac7",
   "metadata": {},
   "outputs": [
    {
     "data": {
      "text/plain": [
       "recordnumber     0\n",
       "projectname      0\n",
       "cat2             0\n",
       "forg             0\n",
       "center           0\n",
       "year             0\n",
       "mode             0\n",
       "rely             0\n",
       "data             0\n",
       "cplx             0\n",
       "time             0\n",
       "stor             0\n",
       "virt             0\n",
       "turn             0\n",
       "acap             0\n",
       "aexp             0\n",
       "pcap             0\n",
       "vexp             0\n",
       "lexp             0\n",
       "modp             0\n",
       "tool             0\n",
       "sced             0\n",
       "equivphyskloc    0\n",
       "act_effort       0\n",
       "dtype: int64"
      ]
     },
     "execution_count": 6,
     "metadata": {},
     "output_type": "execute_result"
    }
   ],
   "source": [
    "df.isna().sum()"
   ]
  },
  {
   "cell_type": "code",
   "execution_count": 34,
   "id": "ed0c3417",
   "metadata": {},
   "outputs": [
    {
     "data": {
      "text/plain": [
       "<AxesSubplot:>"
      ]
     },
     "execution_count": 34,
     "metadata": {},
     "output_type": "execute_result"
    },
    {
     "data": {
      "image/png": "[encoded data removed]",
      "text/plain": [
       "<Figure size 576x396 with 1 Axes>"
      ]
     },
     "metadata": {
      "needs_background": "light"
     },
     "output_type": "display_data"
    }
   ],
   "source": [
    "import seaborn as sns\n",
    "\n",
    "sns.heatmap(df.isnull(),yticklabels=False,cbar=False,cmap='viridis')  #Checking how many missing values are there in it"
   ]
  },
  {
   "cell_type": "code",
   "execution_count": 36,
   "id": "b973f543",
   "metadata": {},
   "outputs": [
    {
     "data": {
      "text/html": [
       "<div>\n",
       "<style scoped>\n",
       "    .dataframe tbody tr th:only-of-type {\n",
       "        vertical-align: middle;\n",
       "    }\n",
       "\n",
       "    .dataframe tbody tr th {\n",
       "        vertical-align: top;\n",
       "    }\n",
       "\n",
       "    .dataframe thead th {\n",
       "        text-align: right;\n",
       "    }\n",
       "</style>\n",
       "<table border=\"1\" class=\"dataframe\">\n",
       "  <thead>\n",
       "    <tr style=\"text-align: right;\">\n",
       "      <th></th>\n",
       "      <th>recordnumber</th>\n",
       "      <th>center</th>\n",
       "      <th>year</th>\n",
       "      <th>equivphyskloc</th>\n",
       "      <th>act_effort</th>\n",
       "    </tr>\n",
       "  </thead>\n",
       "  <tbody>\n",
       "    <tr>\n",
       "      <th>recordnumber</th>\n",
       "      <td>1.000000</td>\n",
       "      <td>0.639594</td>\n",
       "      <td>-0.323380</td>\n",
       "      <td>0.222124</td>\n",
       "      <td>0.394758</td>\n",
       "    </tr>\n",
       "    <tr>\n",
       "      <th>center</th>\n",
       "      <td>0.639594</td>\n",
       "      <td>1.000000</td>\n",
       "      <td>-0.485029</td>\n",
       "      <td>0.505346</td>\n",
       "      <td>0.421006</td>\n",
       "    </tr>\n",
       "    <tr>\n",
       "      <th>year</th>\n",
       "      <td>-0.323380</td>\n",
       "      <td>-0.485029</td>\n",
       "      <td>1.000000</td>\n",
       "      <td>-0.471486</td>\n",
       "      <td>-0.354663</td>\n",
       "    </tr>\n",
       "    <tr>\n",
       "      <th>equivphyskloc</th>\n",
       "      <td>0.222124</td>\n",
       "      <td>0.505346</td>\n",
       "      <td>-0.471486</td>\n",
       "      <td>1.000000</td>\n",
       "      <td>0.594941</td>\n",
       "    </tr>\n",
       "    <tr>\n",
       "      <th>act_effort</th>\n",
       "      <td>0.394758</td>\n",
       "      <td>0.421006</td>\n",
       "      <td>-0.354663</td>\n",
       "      <td>0.594941</td>\n",
       "      <td>1.000000</td>\n",
       "    </tr>\n",
       "  </tbody>\n",
       "</table>\n",
       "</div>"
      ],
      "text/plain": [
       "               recordnumber    center      year  equivphyskloc  act_effort\n",
       "recordnumber       1.000000  0.639594 -0.323380       0.222124    0.394758\n",
       "center             0.639594  1.000000 -0.485029       0.505346    0.421006\n",
       "year              -0.323380 -0.485029  1.000000      -0.471486   -0.354663\n",
       "equivphyskloc      0.222124  0.505346 -0.471486       1.000000    0.594941\n",
       "act_effort         0.394758  0.421006 -0.354663       0.594941    1.000000"
      ]
     },
     "execution_count": 36,
     "metadata": {},
     "output_type": "execute_result"
    }
   ],
   "source": [
    "df.corr()"
   ]
  },
  {
   "cell_type": "code",
   "execution_count": 7,
   "id": "9ebc5b4c",
   "metadata": {},
   "outputs": [],
   "source": [
    "corr= df.corr(method='pearson') #for normal data\n",
    "corr.drop('act_effort',inplace=True)"
   ]
  },
  {
   "cell_type": "code",
   "execution_count": 8,
   "id": "9f6041ef",
   "metadata": {},
   "outputs": [
    {
     "data": {
      "text/html": [
       "<style  type=\"text/css\" >\n",
       "#T_64495_row0_col0,#T_64495_row1_col1,#T_64495_row2_col2,#T_64495_row3_col3,#T_64495_row3_col4{\n",
       "            background-color:  #b40426;\n",
       "            color:  #f1f1f1;\n",
       "        }#T_64495_row0_col1{\n",
       "            background-color:  #f39778;\n",
       "            color:  #000000;\n",
       "        }#T_64495_row0_col2{\n",
       "            background-color:  #5b7ae5;\n",
       "            color:  #000000;\n",
       "        }#T_64495_row0_col3{\n",
       "            background-color:  #d5dbe5;\n",
       "            color:  #000000;\n",
       "        }#T_64495_row0_col4{\n",
       "            background-color:  #ef886b;\n",
       "            color:  #000000;\n",
       "        }#T_64495_row1_col0{\n",
       "            background-color:  #f6a283;\n",
       "            color:  #000000;\n",
       "        }#T_64495_row1_col2,#T_64495_row2_col0,#T_64495_row2_col1,#T_64495_row2_col3,#T_64495_row2_col4{\n",
       "            background-color:  #3b4cc0;\n",
       "            color:  #f1f1f1;\n",
       "        }#T_64495_row1_col3{\n",
       "            background-color:  #f7b99e;\n",
       "            color:  #000000;\n",
       "        }#T_64495_row1_col4{\n",
       "            background-color:  #ea7b60;\n",
       "            color:  #000000;\n",
       "        }#T_64495_row3_col0{\n",
       "            background-color:  #c4d5f3;\n",
       "            color:  #000000;\n",
       "        }#T_64495_row3_col1{\n",
       "            background-color:  #f7b89c;\n",
       "            color:  #000000;\n",
       "        }#T_64495_row3_col2{\n",
       "            background-color:  #3d50c3;\n",
       "            color:  #f1f1f1;\n",
       "        }</style><table id=\"T_64495_\" ><thead>    <tr>        <th class=\"blank level0\" ></th>        <th class=\"col_heading level0 col0\" >recordnumber</th>        <th class=\"col_heading level0 col1\" >center</th>        <th class=\"col_heading level0 col2\" >year</th>        <th class=\"col_heading level0 col3\" >equivphyskloc</th>        <th class=\"col_heading level0 col4\" >act_effort</th>    </tr></thead><tbody>\n",
       "                <tr>\n",
       "                        <th id=\"T_64495_level0_row0\" class=\"row_heading level0 row0\" >recordnumber</th>\n",
       "                        <td id=\"T_64495_row0_col0\" class=\"data row0 col0\" >1.000000</td>\n",
       "                        <td id=\"T_64495_row0_col1\" class=\"data row0 col1\" >0.639594</td>\n",
       "                        <td id=\"T_64495_row0_col2\" class=\"data row0 col2\" >-0.323380</td>\n",
       "                        <td id=\"T_64495_row0_col3\" class=\"data row0 col3\" >0.222124</td>\n",
       "                        <td id=\"T_64495_row0_col4\" class=\"data row0 col4\" >0.394758</td>\n",
       "            </tr>\n",
       "            <tr>\n",
       "                        <th id=\"T_64495_level0_row1\" class=\"row_heading level0 row1\" >center</th>\n",
       "                        <td id=\"T_64495_row1_col0\" class=\"data row1 col0\" >0.639594</td>\n",
       "                        <td id=\"T_64495_row1_col1\" class=\"data row1 col1\" >1.000000</td>\n",
       "                        <td id=\"T_64495_row1_col2\" class=\"data row1 col2\" >-0.485029</td>\n",
       "                        <td id=\"T_64495_row1_col3\" class=\"data row1 col3\" >0.505346</td>\n",
       "                        <td id=\"T_64495_row1_col4\" class=\"data row1 col4\" >0.421006</td>\n",
       "            </tr>\n",
       "            <tr>\n",
       "                        <th id=\"T_64495_level0_row2\" class=\"row_heading level0 row2\" >year</th>\n",
       "                        <td id=\"T_64495_row2_col0\" class=\"data row2 col0\" >-0.323380</td>\n",
       "                        <td id=\"T_64495_row2_col1\" class=\"data row2 col1\" >-0.485029</td>\n",
       "                        <td id=\"T_64495_row2_col2\" class=\"data row2 col2\" >1.000000</td>\n",
       "                        <td id=\"T_64495_row2_col3\" class=\"data row2 col3\" >-0.471486</td>\n",
       "                        <td id=\"T_64495_row2_col4\" class=\"data row2 col4\" >-0.354663</td>\n",
       "            </tr>\n",
       "            <tr>\n",
       "                        <th id=\"T_64495_level0_row3\" class=\"row_heading level0 row3\" >equivphyskloc</th>\n",
       "                        <td id=\"T_64495_row3_col0\" class=\"data row3 col0\" >0.222124</td>\n",
       "                        <td id=\"T_64495_row3_col1\" class=\"data row3 col1\" >0.505346</td>\n",
       "                        <td id=\"T_64495_row3_col2\" class=\"data row3 col2\" >-0.471486</td>\n",
       "                        <td id=\"T_64495_row3_col3\" class=\"data row3 col3\" >1.000000</td>\n",
       "                        <td id=\"T_64495_row3_col4\" class=\"data row3 col4\" >0.594941</td>\n",
       "            </tr>\n",
       "    </tbody></table>"
      ],
      "text/plain": [
       "<pandas.io.formats.style.Styler at 0x25dbc165eb0>"
      ]
     },
     "execution_count": 8,
     "metadata": {},
     "output_type": "execute_result"
    }
   ],
   "source": [
    "corr.style.background_gradient(cmap='coolwarm')"
   ]
  },
  {
   "cell_type": "code",
   "execution_count": 9,
   "id": "bcbae3b6",
   "metadata": {},
   "outputs": [],
   "source": [
    "X=df.drop('act_effort', axis=1)\n",
    "y=df['act_effort']"
   ]
  },
  {
   "cell_type": "code",
   "execution_count": 10,
   "id": "00614d1f",
   "metadata": {},
   "outputs": [
    {
     "name": "stdout",
     "output_type": "stream",
     "text": [
      "correlated features:  3\n"
     ]
    }
   ],
   "source": [
    "def correlation(dataset, threshold):\n",
    "    col_corr = set()  # Set of all the names of correlated columns\n",
    "    corr_matrix = df.corr()\n",
    "    for i in range(len(corr_matrix.columns)):\n",
    "        for j in range(i):\n",
    "            if abs(corr_matrix.iloc[i, j]) > threshold: # we are interested in absolute coeff value\n",
    "                colname = corr_matrix.columns[i]  # getting the name of column\n",
    "                col_corr.add(colname)\n",
    "    return col_corr\n",
    "corr_features = correlation(df, 0.5)\n",
    "print('correlated features: ', len(set(corr_features)) )"
   ]
  },
  {
   "cell_type": "code",
   "execution_count": 11,
   "id": "11de8fcd",
   "metadata": {},
   "outputs": [
    {
     "data": {
      "text/plain": [
       "['act_effort', 'equivphyskloc', 'center']"
      ]
     },
     "execution_count": 11,
     "metadata": {},
     "output_type": "execute_result"
    }
   ],
   "source": [
    "features=[]\n",
    "for i in corr_features:\n",
    "    features.append(i)\n",
    "features"
   ]
  },
  {
   "cell_type": "code",
   "execution_count": 12,
   "id": "53513d8a",
   "metadata": {},
   "outputs": [],
   "source": [
    "X=df[features]\n",
    "y=df['act_effort']"
   ]
  },
  {
   "cell_type": "markdown",
   "id": "f30b0418",
   "metadata": {},
   "source": [
    "# Split train/test data"
   ]
  },
  {
   "cell_type": "code",
   "execution_count": 13,
   "id": "e8bb6090",
   "metadata": {},
   "outputs": [],
   "source": [
    "from sklearn.model_selection import train_test_split\n",
    "X_train, X_test, y_train, y_test=train_test_split(X,y,test_size=0.2, random_state=42)"
   ]
  },
  {
   "cell_type": "code",
   "execution_count": 14,
   "id": "7d04cd30",
   "metadata": {},
   "outputs": [
    {
     "data": {
      "text/plain": [
       "(93, 3)"
      ]
     },
     "execution_count": 14,
     "metadata": {},
     "output_type": "execute_result"
    }
   ],
   "source": [
    "X.shape"
   ]
  },
  {
   "cell_type": "code",
   "execution_count": 15,
   "id": "9ac587fc",
   "metadata": {},
   "outputs": [
    {
     "name": "stderr",
     "output_type": "stream",
     "text": [
      "G:\\ANACONDA installation\\lib\\site-packages\\pandas\\core\\frame.py:4308: SettingWithCopyWarning: \n",
      "A value is trying to be set on a copy of a slice from a DataFrame\n",
      "\n",
      "See the caveats in the documentation: https://pandas.pydata.org/pandas-docs/stable/user_guide/indexing.html#returning-a-view-versus-a-copy\n",
      "  return super().drop(\n"
     ]
    }
   ],
   "source": [
    "X.drop(\"act_effort\",axis=1, inplace=True)"
   ]
  },
  {
   "cell_type": "code",
   "execution_count": 16,
   "id": "7a784d6b",
   "metadata": {},
   "outputs": [
    {
     "data": {
      "text/plain": [
       "(93, 2)"
      ]
     },
     "execution_count": 16,
     "metadata": {},
     "output_type": "execute_result"
    }
   ],
   "source": [
    "X.shape"
   ]
  },
  {
   "cell_type": "markdown",
   "id": "7a74d1da",
   "metadata": {},
   "source": [
    "# LinearRegression"
   ]
  },
  {
   "cell_type": "code",
   "execution_count": 17,
   "id": "fd1c3d93",
   "metadata": {},
   "outputs": [
    {
     "name": "stdout",
     "output_type": "stream",
     "text": [
      "    Actual  LR Predicted\n",
      "40  1248.0        1248.0\n",
      "22   120.0         120.0\n",
      "55  1181.0        1181.0\n",
      "72   300.0         300.0\n",
      "0    117.6         117.6\n",
      "26    70.0          70.0\n",
      "39   114.0         114.0\n",
      "67   192.0         192.0\n",
      "10    24.0          24.0\n",
      "44   400.0         400.0\n",
      "83   430.0         430.0\n",
      "35    42.0          42.0\n",
      "90   480.0         480.0\n",
      "62   162.0         162.0\n",
      "12    36.0          36.0\n",
      "4     25.2          25.2\n",
      "18    48.0          48.0\n",
      "28    82.0          82.0\n",
      "49   571.4         571.4\n"
     ]
    },
    {
     "data": {
      "image/png": "[encoded data removed]",
      "text/plain": [
       "<Figure size 360x576 with 1 Axes>"
      ]
     },
     "metadata": {
      "needs_background": "light"
     },
     "output_type": "display_data"
    }
   ],
   "source": [
    "from sklearn.linear_model import LinearRegression\n",
    "import matplotlib.pyplot as plt\n",
    "lr_model=LinearRegression()\n",
    "lr_model.fit(X_train,y_train) #training algorithm\n",
    "\n",
    "#it’s time to make some predictions.\n",
    "#we will use our test data and see how accurately our algorithm predicts the percentage score.\n",
    "predicted_value=lr_model.predict(X_test)\n",
    "true_value=y_test\n",
    "\n",
    "comparison = pd.DataFrame({'Actual':true_value,'LR Predicted':predicted_value})\n",
    "print(comparison)\n",
    "\n",
    "\n",
    "plt.figure(figsize=(5,8))\n",
    "plt.scatter(true_value, predicted_value, c='crimson')\n",
    "plt.yscale('log')\n",
    "plt.xscale('log')\n",
    "\n",
    "p1 = max(max(predicted_value), max(true_value))\n",
    "p2 = min(min(predicted_value), min(true_value))\n",
    "plt.plot([p1, p2], [p1, p2], 'b-')\n",
    "plt.xlabel('True Values', fontsize=15)\n",
    "plt.ylabel('Predictions', fontsize=15)\n",
    "plt.axis('equal')\n",
    "plt.show()"
   ]
  },
  {
   "cell_type": "markdown",
   "id": "04f71cf2",
   "metadata": {},
   "source": [
    "# Gradient Boosting"
   ]
  },
  {
   "cell_type": "code",
   "execution_count": 18,
   "id": "660ce3fb",
   "metadata": {},
   "outputs": [
    {
     "name": "stdout",
     "output_type": "stream",
     "text": [
      "    Actual  GB Predicted\n",
      "40  1248.0   1201.977102\n",
      "22   120.0    116.796650\n",
      "55  1181.0   1201.977102\n",
      "72   300.0    300.670664\n",
      "0    117.6    116.796650\n",
      "26    70.0     71.534806\n",
      "39   114.0    116.233314\n",
      "67   192.0    191.862756\n",
      "10    24.0     18.203486\n",
      "44   400.0    411.627962\n",
      "83   430.0    432.552452\n",
      "35    42.0     42.114525\n",
      "90   480.0    483.342886\n",
      "62   162.0    159.289892\n",
      "12    36.0     36.149379\n",
      "4     25.2     31.463337\n",
      "18    48.0     48.166631\n",
      "28    82.0     88.169674\n",
      "49   571.4    576.441710\n"
     ]
    },
    {
     "data": {
      "image/png": "[encoded data removed]",
      "text/plain": [
       "<Figure size 360x576 with 1 Axes>"
      ]
     },
     "metadata": {
      "needs_background": "light"
     },
     "output_type": "display_data"
    }
   ],
   "source": [
    "from sklearn.ensemble import GradientBoostingRegressor\n",
    "gb_model=GradientBoostingRegressor()\n",
    "gb_model.fit(X_train,y_train)\n",
    "gb_model.score(X_test,y_test)\n",
    "predicted_value=gb_model.predict(X_test)\n",
    "true_value=y_test\n",
    "\n",
    "comparison = pd.DataFrame({'Actual':true_value,'GB Predicted':predicted_value})\n",
    "print(comparison)\n",
    "\n",
    "plt.figure(figsize=(5,8))\n",
    "plt.scatter(true_value, predicted_value, c='crimson')\n",
    "plt.yscale('log')\n",
    "plt.xscale('log')\n",
    "\n",
    "p1 = max(max(predicted_value), max(true_value))\n",
    "p2 = min(min(predicted_value), min(true_value))\n",
    "plt.plot([p1, p2], [p1, p2], 'b-')\n",
    "plt.xlabel('True Values', fontsize=15)\n",
    "plt.ylabel('Predictions', fontsize=15)\n",
    "plt.axis('equal')\n",
    "plt.show()"
   ]
  },
  {
   "cell_type": "markdown",
   "id": "d348968d",
   "metadata": {},
   "source": [
    "# Random Forest"
   ]
  },
  {
   "cell_type": "code",
   "execution_count": 19,
   "id": "5941a10b",
   "metadata": {},
   "outputs": [
    {
     "name": "stdout",
     "output_type": "stream",
     "text": [
      "    Actual  RF Predicted\n",
      "40  1248.0      1264.425\n",
      "22   120.0       113.090\n",
      "55  1181.0      1260.015\n",
      "72   300.0       297.320\n",
      "0    117.6       112.136\n",
      "26    70.0        71.260\n",
      "39   114.0       108.064\n",
      "67   192.0       209.320\n",
      "10    24.0        20.220\n",
      "44   400.0       413.006\n",
      "83   430.0       433.856\n",
      "35    42.0        37.732\n",
      "90   480.0       462.698\n",
      "62   162.0       175.004\n",
      "12    36.0        39.112\n",
      "4     25.2        33.140\n",
      "18    48.0        50.000\n",
      "28    82.0        84.330\n",
      "49   571.4       595.940\n"
     ]
    },
    {
     "data": {
      "image/png": "[encoded data removed]",
      "text/plain": [
       "<Figure size 504x504 with 1 Axes>"
      ]
     },
     "metadata": {
      "needs_background": "light"
     },
     "output_type": "display_data"
    }
   ],
   "source": [
    "# from sklearn.model_selection import train_test_split\n",
    "import matplotlib.pyplot as plt\n",
    "from sklearn.ensemble import RandomForestRegressor\n",
    "rf_model = RandomForestRegressor(random_state=43)      \n",
    "rf_model = rf_model.fit(X_train,y_train)\n",
    "rf_model.score(X_test,y_test)\n",
    "\n",
    "predicted_value=rf_model.predict(X_test)\n",
    "true_value=y_test\n",
    "\n",
    "comparison = pd.DataFrame({'Actual':true_value,'RF Predicted':predicted_value})\n",
    "print(comparison)\n",
    "\n",
    "\n",
    "plt.figure(figsize=(7,7))\n",
    "plt.scatter(true_value, predicted_value, c='crimson')\n",
    "plt.yscale('log')\n",
    "plt.xscale('log')\n",
    "\n",
    "p1 = max(max(predicted_value), max(true_value))\n",
    "p2 = min(min(predicted_value), min(true_value))\n",
    "plt.plot([p1, p2], [p1, p2], 'b-')\n",
    "plt.xlabel('True Values', fontsize=15)\n",
    "plt.ylabel('Predictions', fontsize=15)\n",
    "plt.axis('equal')\n",
    "plt.show()"
   ]
  },
  {
   "cell_type": "markdown",
   "id": "482c3f5b",
   "metadata": {},
   "source": [
    "# Decision Tree Regression"
   ]
  },
  {
   "cell_type": "code",
   "execution_count": 20,
   "id": "a32ae679",
   "metadata": {},
   "outputs": [
    {
     "name": "stdout",
     "output_type": "stream",
     "text": [
      "    Actual  DT Predicted\n",
      "40  1248.0        1350.0\n",
      "22   120.0         117.6\n",
      "55  1181.0        1350.0\n",
      "72   300.0         300.0\n",
      "0    117.6         117.6\n",
      "26    70.0          72.0\n",
      "39   114.0         107.0\n",
      "67   192.0         192.0\n",
      "10    24.0          18.0\n",
      "44   400.0         409.0\n",
      "83   430.0         432.0\n",
      "35    42.0          42.0\n",
      "90   480.0         480.0\n",
      "62   162.0         150.0\n",
      "12    36.0          36.0\n",
      "4     25.2          31.2\n",
      "18    48.0          48.0\n",
      "28    82.0          90.0\n",
      "49   571.4         600.0\n"
     ]
    },
    {
     "data": {
      "image/png": "[encoded data removed]",
      "text/plain": [
       "<Figure size 504x504 with 1 Axes>"
      ]
     },
     "metadata": {
      "needs_background": "light"
     },
     "output_type": "display_data"
    }
   ],
   "source": [
    "from sklearn.tree import DecisionTreeRegressor\n",
    "D_model=DecisionTreeRegressor(max_depth=12)\n",
    "D_model.fit(X_train,y_train)\n",
    "D_model.score(X_test,y_test)\n",
    "predicted_value=D_model.predict(X_test)\n",
    "true_value=y_test\n",
    "\n",
    "comparison = pd.DataFrame({'Actual':true_value,'DT Predicted':predicted_value})\n",
    "print(comparison)\n",
    "\n",
    "\n",
    "plt.figure(figsize=(7,7))\n",
    "plt.scatter(true_value, predicted_value, c='crimson')\n",
    "plt.yscale('log')\n",
    "plt.xscale('log')\n",
    "\n",
    "p1 = max(max(predicted_value), max(true_value))\n",
    "p2 = min(min(predicted_value), min(true_value))\n",
    "plt.plot([p1, p2], [p1, p2], 'b-')\n",
    "plt.xlabel('True Values', fontsize=15)\n",
    "plt.ylabel('Predictions', fontsize=15)\n",
    "plt.axis('equal')\n",
    "plt.show()"
   ]
  },
  {
   "cell_type": "markdown",
   "id": "efd320cd",
   "metadata": {},
   "source": [
    "# Plotting"
   ]
  },
  {
   "cell_type": "code",
   "execution_count": 21,
   "id": "6af12c1a",
   "metadata": {},
   "outputs": [
    {
     "data": {
      "text/html": [
       "<div>\n",
       "<style scoped>\n",
       "    .dataframe tbody tr th:only-of-type {\n",
       "        vertical-align: middle;\n",
       "    }\n",
       "\n",
       "    .dataframe tbody tr th {\n",
       "        vertical-align: top;\n",
       "    }\n",
       "\n",
       "    .dataframe thead th {\n",
       "        text-align: right;\n",
       "    }\n",
       "</style>\n",
       "<table border=\"1\" class=\"dataframe\">\n",
       "  <thead>\n",
       "    <tr style=\"text-align: right;\">\n",
       "      <th></th>\n",
       "      <th>Linear Regression</th>\n",
       "      <th>Gradient Boosting</th>\n",
       "      <th>Random Forest</th>\n",
       "      <th>Decision Tree</th>\n",
       "    </tr>\n",
       "  </thead>\n",
       "  <tbody>\n",
       "    <tr>\n",
       "      <th>0</th>\n",
       "      <td>1.0</td>\n",
       "      <td>0.998798</td>\n",
       "      <td>0.996526</td>\n",
       "      <td>0.983181</td>\n",
       "    </tr>\n",
       "  </tbody>\n",
       "</table>\n",
       "</div>"
      ],
      "text/plain": [
       "   Linear Regression   Gradient Boosting  Random Forest  Decision Tree\n",
       "0                 1.0           0.998798       0.996526       0.983181"
      ]
     },
     "execution_count": 21,
     "metadata": {},
     "output_type": "execute_result"
    }
   ],
   "source": [
    "lr_score=lr_model.score(X_test,y_test)\n",
    "gb_score=gb_model.score(X_test,y_test)\n",
    "rf_score=rf_model.score(X_test,y_test)\n",
    "d_score=D_model.score(X_test,y_test)\n",
    "\n",
    "\n",
    "Score=pd.DataFrame({'Linear Regression ':[lr_score],'Gradient Boosting':[gb_score],'Random Forest':[rf_score],'Decision Tree':[d_score]})\n",
    "Score"
   ]
  },
  {
   "cell_type": "code",
   "execution_count": 22,
   "id": "2fe64bcc",
   "metadata": {},
   "outputs": [],
   "source": [
    "names=[]\n",
    "\n",
    "for i in Score.columns:\n",
    "    names.append(i)"
   ]
  },
  {
   "cell_type": "code",
   "execution_count": 23,
   "id": "e1d1a4e4",
   "metadata": {},
   "outputs": [
    {
     "data": {
      "text/plain": [
       "<BarContainer object of 4 artists>"
      ]
     },
     "execution_count": 23,
     "metadata": {},
     "output_type": "execute_result"
    },
    {
     "data": {
      "image/png": "[encoded data removed]",
      "text/plain": [
       "<Figure size 576x396 with 1 Axes>"
      ]
     },
     "metadata": {
      "needs_background": "light"
     },
     "output_type": "display_data"
    }
   ],
   "source": [
    "plt.rcParams[\"figure.figsize\"] = (8,5.5)\n",
    "plt.bar(names,Score.iloc[0].values)"
   ]
  },
  {
   "cell_type": "code",
   "execution_count": 24,
   "id": "655ef27b",
   "metadata": {},
   "outputs": [
    {
     "data": {
      "text/plain": [
       "[<matplotlib.lines.Line2D at 0x25dc33a6c40>]"
      ]
     },
     "execution_count": 24,
     "metadata": {},
     "output_type": "execute_result"
    },
    {
     "data": {
      "image/png": "[encoded data removed]",
      "text/plain": [
       "<Figure size 576x396 with 1 Axes>"
      ]
     },
     "metadata": {
      "needs_background": "light"
     },
     "output_type": "display_data"
    }
   ],
   "source": [
    "plt.plot(names,Score.iloc[0].values)"
   ]
  },
  {
   "cell_type": "markdown",
   "id": "c70e10d0",
   "metadata": {},
   "source": [
    "# R2"
   ]
  },
  {
   "cell_type": "code",
   "execution_count": 25,
   "id": "9c9bb5e6",
   "metadata": {},
   "outputs": [],
   "source": [
    "lr_score=lr_model.score(X_test,y_test)\n",
    "gb_score=gb_model.score(X_test,y_test)\n",
    "rf_score=rf_model.score(X_test,y_test)\n",
    "d_score=D_model.score(X_test,y_test)"
   ]
  },
  {
   "cell_type": "code",
   "execution_count": 26,
   "id": "71ff5138",
   "metadata": {},
   "outputs": [],
   "source": [
    "lr_pred=lr_model.predict(X_test)\n",
    "gb_pred=gb_model.predict(X_test)\n",
    "rf_pred=rf_model.predict(X_test)\n",
    "d_pred=D_model.predict(X_test)"
   ]
  },
  {
   "cell_type": "code",
   "execution_count": 27,
   "id": "fd341c18",
   "metadata": {},
   "outputs": [],
   "source": [
    "from sklearn.metrics import r2_score, mean_squared_error\n",
    "import numpy as np"
   ]
  },
  {
   "cell_type": "code",
   "execution_count": 28,
   "id": "032bfc86",
   "metadata": {},
   "outputs": [],
   "source": [
    "lr_r2_score=r2_score(y_test, lr_pred)\n",
    "gb_r2_score=r2_score(y_test,gb_pred)\n",
    "rf_r2_score=r2_score(y_test,rf_pred)\n",
    "d_r2_score=r2_score(y_test,d_pred)"
   ]
  },
  {
   "cell_type": "code",
   "execution_count": 29,
   "id": "88e68b44",
   "metadata": {},
   "outputs": [
    {
     "data": {
      "text/html": [
       "<div>\n",
       "<style scoped>\n",
       "    .dataframe tbody tr th:only-of-type {\n",
       "        vertical-align: middle;\n",
       "    }\n",
       "\n",
       "    .dataframe tbody tr th {\n",
       "        vertical-align: top;\n",
       "    }\n",
       "\n",
       "    .dataframe thead th {\n",
       "        text-align: right;\n",
       "    }\n",
       "</style>\n",
       "<table border=\"1\" class=\"dataframe\">\n",
       "  <thead>\n",
       "    <tr style=\"text-align: right;\">\n",
       "      <th></th>\n",
       "      <th>Linear Regression</th>\n",
       "      <th>Gradient Boosting Tree</th>\n",
       "      <th>Random Forest</th>\n",
       "      <th>Decision Tree</th>\n",
       "    </tr>\n",
       "  </thead>\n",
       "  <tbody>\n",
       "    <tr>\n",
       "      <th>0</th>\n",
       "      <td>1.0</td>\n",
       "      <td>0.998798</td>\n",
       "      <td>0.996526</td>\n",
       "      <td>0.983181</td>\n",
       "    </tr>\n",
       "  </tbody>\n",
       "</table>\n",
       "</div>"
      ],
      "text/plain": [
       "   Linear Regression   Gradient Boosting Tree  Random Forest  Decision Tree\n",
       "0                 1.0                0.998798       0.996526       0.983181"
      ]
     },
     "execution_count": 29,
     "metadata": {},
     "output_type": "execute_result"
    }
   ],
   "source": [
    "r2_Score=pd.DataFrame({'Linear Regression ':[lr_r2_score],'Gradient Boosting Tree':[gb_r2_score],'Random Forest':[rf_r2_score],'Decision Tree':[d_r2_score]})\n",
    "r2_Score"
   ]
  },
  {
   "cell_type": "code",
   "execution_count": 30,
   "id": "2394f41f",
   "metadata": {},
   "outputs": [
    {
     "data": {
      "text/plain": [
       "[<matplotlib.lines.Line2D at 0x25dc3404970>]"
      ]
     },
     "execution_count": 30,
     "metadata": {},
     "output_type": "execute_result"
    },
    {
     "data": {
      "image/png": "[encoded data removed]",
      "text/plain": [
       "<Figure size 576x396 with 1 Axes>"
      ]
     },
     "metadata": {
      "needs_background": "light"
     },
     "output_type": "display_data"
    }
   ],
   "source": [
    "plt.plot(names,r2_Score.iloc[0].values)"
   ]
  },
  {
   "cell_type": "markdown",
   "id": "cfc0981f",
   "metadata": {},
   "source": [
    "# RMSE (Root Mean Square Error)"
   ]
  },
  {
   "cell_type": "code",
   "execution_count": 31,
   "id": "fb260d34",
   "metadata": {},
   "outputs": [],
   "source": [
    "lr_rmse=np.sqrt(mean_squared_error(lr_pred, y_test))\n",
    "gb_rmse=np.sqrt(mean_squared_error(gb_pred, y_test))\n",
    "rf_rmse=np.sqrt(mean_squared_error(rf_pred, y_test))\n",
    "d_rmse=np.sqrt(mean_squared_error(d_pred, y_test))"
   ]
  },
  {
   "cell_type": "code",
   "execution_count": 32,
   "id": "040cba2c",
   "metadata": {},
   "outputs": [
    {
     "data": {
      "text/html": [
       "<div>\n",
       "<style scoped>\n",
       "    .dataframe tbody tr th:only-of-type {\n",
       "        vertical-align: middle;\n",
       "    }\n",
       "\n",
       "    .dataframe tbody tr th {\n",
       "        vertical-align: top;\n",
       "    }\n",
       "\n",
       "    .dataframe thead th {\n",
       "        text-align: right;\n",
       "    }\n",
       "</style>\n",
       "<table border=\"1\" class=\"dataframe\">\n",
       "  <thead>\n",
       "    <tr style=\"text-align: right;\">\n",
       "      <th></th>\n",
       "      <th>Linear Regression</th>\n",
       "      <th>Gradient Boosting Tree</th>\n",
       "      <th>Random Forest</th>\n",
       "      <th>Decision Tree</th>\n",
       "    </tr>\n",
       "  </thead>\n",
       "  <tbody>\n",
       "    <tr>\n",
       "      <th>0</th>\n",
       "      <td>6.520387e-15</td>\n",
       "      <td>12.297806</td>\n",
       "      <td>20.905934</td>\n",
       "      <td>46.001556</td>\n",
       "    </tr>\n",
       "  </tbody>\n",
       "</table>\n",
       "</div>"
      ],
      "text/plain": [
       "   Linear Regression   Gradient Boosting Tree  Random Forest  Decision Tree\n",
       "0        6.520387e-15               12.297806      20.905934      46.001556"
      ]
     },
     "execution_count": 32,
     "metadata": {},
     "output_type": "execute_result"
    }
   ],
   "source": [
    "rmse=pd.DataFrame({'Linear Regression ':[lr_rmse],'Gradient Boosting Tree':[gb_rmse],'Random Forest':[rf_rmse],'Decision Tree':[d_rmse]})\n",
    "rmse"
   ]
  },
  {
   "cell_type": "code",
   "execution_count": 33,
   "id": "346bb3c5",
   "metadata": {},
   "outputs": [
    {
     "data": {
      "text/plain": [
       "[<matplotlib.lines.Line2D at 0x25dc3464190>]"
      ]
     },
     "execution_count": 33,
     "metadata": {},
     "output_type": "execute_result"
    },
    {
     "data": {
      "image/png": "[encoded data removed]",
      "text/plain": [
       "<Figure size 576x396 with 1 Axes>"
      ]
     },
     "metadata": {
      "needs_background": "light"
     },
     "output_type": "display_data"
    }
   ],
   "source": [
    "plt.plot(names,rmse.iloc[0].values)"
   ]
  },
  {
   "cell_type": "code",
   "execution_count": null,
   "id": "100f6396",
   "metadata": {},
   "outputs": [],
   "source": []
  }
 ],
 "metadata": {
  "kernelspec": {
   "display_name": "Python 3",
   "language": "python",
   "name": "python3"
  },
  "language_info": {
   "codemirror_mode": {
    "name": "ipython",
    "version": 3
   },
   "file_extension": ".py",
   "mimetype": "text/x-python",
   "name": "python",
   "nbconvert_exporter": "python",
   "pygments_lexer": "ipython3",
   "version": "3.8.8"
  }
 },
 "nbformat": 4,
 "nbformat_minor": 5
}
