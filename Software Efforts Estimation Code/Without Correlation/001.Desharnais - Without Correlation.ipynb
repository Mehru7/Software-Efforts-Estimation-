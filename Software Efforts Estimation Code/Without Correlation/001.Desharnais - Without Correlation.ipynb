{
 "cells": [
  {
   "cell_type": "code",
   "execution_count": 1,
   "id": "c723429e",
   "metadata": {},
   "outputs": [],
   "source": [
    "import pandas as pd"
   ]
  },
  {
   "cell_type": "code",
   "execution_count": 2,
   "id": "6b803e19",
   "metadata": {},
   "outputs": [],
   "source": [
    "df=pd.read_csv('02.desharnais.csv') #reading dataset"
   ]
  },
  {
   "cell_type": "code",
   "execution_count": 3,
   "id": "adfe3d29",
   "metadata": {},
   "outputs": [
    {
     "data": {
      "text/plain": [
       "(81, 13)"
      ]
     },
     "execution_count": 3,
     "metadata": {},
     "output_type": "execute_result"
    }
   ],
   "source": [
    "df.shape #shape of an array"
   ]
  },
  {
   "cell_type": "code",
   "execution_count": 4,
   "id": "46055562",
   "metadata": {},
   "outputs": [
    {
     "data": {
      "text/html": [
       "<div>\n",
       "<style scoped>\n",
       "    .dataframe tbody tr th:only-of-type {\n",
       "        vertical-align: middle;\n",
       "    }\n",
       "\n",
       "    .dataframe tbody tr th {\n",
       "        vertical-align: top;\n",
       "    }\n",
       "\n",
       "    .dataframe thead th {\n",
       "        text-align: right;\n",
       "    }\n",
       "</style>\n",
       "<table border=\"1\" class=\"dataframe\">\n",
       "  <thead>\n",
       "    <tr style=\"text-align: right;\">\n",
       "      <th></th>\n",
       "      <th>id</th>\n",
       "      <th>Project</th>\n",
       "      <th>TeamExp</th>\n",
       "      <th>ManagerExp</th>\n",
       "      <th>YearEnd</th>\n",
       "      <th>Length</th>\n",
       "      <th>Effort</th>\n",
       "      <th>Transactions</th>\n",
       "      <th>Entities</th>\n",
       "      <th>PointsNonAdjust</th>\n",
       "      <th>Adjustment</th>\n",
       "      <th>PointsAjust</th>\n",
       "      <th>Language</th>\n",
       "    </tr>\n",
       "  </thead>\n",
       "  <tbody>\n",
       "    <tr>\n",
       "      <th>0</th>\n",
       "      <td>1</td>\n",
       "      <td>1</td>\n",
       "      <td>1</td>\n",
       "      <td>4</td>\n",
       "      <td>85</td>\n",
       "      <td>12</td>\n",
       "      <td>5152</td>\n",
       "      <td>253</td>\n",
       "      <td>52</td>\n",
       "      <td>305</td>\n",
       "      <td>34</td>\n",
       "      <td>302</td>\n",
       "      <td>1</td>\n",
       "    </tr>\n",
       "    <tr>\n",
       "      <th>1</th>\n",
       "      <td>2</td>\n",
       "      <td>2</td>\n",
       "      <td>0</td>\n",
       "      <td>0</td>\n",
       "      <td>86</td>\n",
       "      <td>4</td>\n",
       "      <td>5635</td>\n",
       "      <td>197</td>\n",
       "      <td>124</td>\n",
       "      <td>321</td>\n",
       "      <td>33</td>\n",
       "      <td>315</td>\n",
       "      <td>1</td>\n",
       "    </tr>\n",
       "    <tr>\n",
       "      <th>2</th>\n",
       "      <td>3</td>\n",
       "      <td>3</td>\n",
       "      <td>4</td>\n",
       "      <td>4</td>\n",
       "      <td>85</td>\n",
       "      <td>1</td>\n",
       "      <td>805</td>\n",
       "      <td>40</td>\n",
       "      <td>60</td>\n",
       "      <td>100</td>\n",
       "      <td>18</td>\n",
       "      <td>83</td>\n",
       "      <td>1</td>\n",
       "    </tr>\n",
       "    <tr>\n",
       "      <th>3</th>\n",
       "      <td>4</td>\n",
       "      <td>4</td>\n",
       "      <td>0</td>\n",
       "      <td>0</td>\n",
       "      <td>86</td>\n",
       "      <td>5</td>\n",
       "      <td>3829</td>\n",
       "      <td>200</td>\n",
       "      <td>119</td>\n",
       "      <td>319</td>\n",
       "      <td>30</td>\n",
       "      <td>303</td>\n",
       "      <td>1</td>\n",
       "    </tr>\n",
       "    <tr>\n",
       "      <th>4</th>\n",
       "      <td>5</td>\n",
       "      <td>5</td>\n",
       "      <td>0</td>\n",
       "      <td>0</td>\n",
       "      <td>86</td>\n",
       "      <td>4</td>\n",
       "      <td>2149</td>\n",
       "      <td>140</td>\n",
       "      <td>94</td>\n",
       "      <td>234</td>\n",
       "      <td>24</td>\n",
       "      <td>208</td>\n",
       "      <td>1</td>\n",
       "    </tr>\n",
       "  </tbody>\n",
       "</table>\n",
       "</div>"
      ],
      "text/plain": [
       "   id  Project  TeamExp  ManagerExp  YearEnd  Length  Effort  Transactions  \\\n",
       "0   1        1        1           4       85      12    5152           253   \n",
       "1   2        2        0           0       86       4    5635           197   \n",
       "2   3        3        4           4       85       1     805            40   \n",
       "3   4        4        0           0       86       5    3829           200   \n",
       "4   5        5        0           0       86       4    2149           140   \n",
       "\n",
       "   Entities  PointsNonAdjust  Adjustment  PointsAjust  Language  \n",
       "0        52              305          34          302         1  \n",
       "1       124              321          33          315         1  \n",
       "2        60              100          18           83         1  \n",
       "3       119              319          30          303         1  \n",
       "4        94              234          24          208         1  "
      ]
     },
     "execution_count": 4,
     "metadata": {},
     "output_type": "execute_result"
    }
   ],
   "source": [
    "df.head() #displays the first five rows of the dataframe by default"
   ]
  },
  {
   "cell_type": "code",
   "execution_count": 5,
   "id": "5aa74d8e",
   "metadata": {},
   "outputs": [
    {
     "data": {
      "text/plain": [
       "81"
      ]
     },
     "execution_count": 5,
     "metadata": {},
     "output_type": "execute_result"
    }
   ],
   "source": [
    "len(df.index) #check rows "
   ]
  },
  {
   "cell_type": "code",
   "execution_count": 6,
   "id": "d2356fca",
   "metadata": {},
   "outputs": [
    {
     "data": {
      "text/html": [
       "<div>\n",
       "<style scoped>\n",
       "    .dataframe tbody tr th:only-of-type {\n",
       "        vertical-align: middle;\n",
       "    }\n",
       "\n",
       "    .dataframe tbody tr th {\n",
       "        vertical-align: top;\n",
       "    }\n",
       "\n",
       "    .dataframe thead th {\n",
       "        text-align: right;\n",
       "    }\n",
       "</style>\n",
       "<table border=\"1\" class=\"dataframe\">\n",
       "  <thead>\n",
       "    <tr style=\"text-align: right;\">\n",
       "      <th></th>\n",
       "      <th>id</th>\n",
       "      <th>Project</th>\n",
       "      <th>TeamExp</th>\n",
       "      <th>ManagerExp</th>\n",
       "      <th>YearEnd</th>\n",
       "      <th>Length</th>\n",
       "      <th>Effort</th>\n",
       "      <th>Transactions</th>\n",
       "      <th>Entities</th>\n",
       "      <th>PointsNonAdjust</th>\n",
       "      <th>Adjustment</th>\n",
       "      <th>PointsAjust</th>\n",
       "      <th>Language</th>\n",
       "    </tr>\n",
       "  </thead>\n",
       "  <tbody>\n",
       "    <tr>\n",
       "      <th>count</th>\n",
       "      <td>81.000000</td>\n",
       "      <td>81.000000</td>\n",
       "      <td>81.000000</td>\n",
       "      <td>81.000000</td>\n",
       "      <td>81.000000</td>\n",
       "      <td>81.000000</td>\n",
       "      <td>81.000000</td>\n",
       "      <td>81.000000</td>\n",
       "      <td>81.000000</td>\n",
       "      <td>81.000000</td>\n",
       "      <td>81.000000</td>\n",
       "      <td>81.000000</td>\n",
       "      <td>81.000000</td>\n",
       "    </tr>\n",
       "    <tr>\n",
       "      <th>mean</th>\n",
       "      <td>41.000000</td>\n",
       "      <td>41.000000</td>\n",
       "      <td>2.185185</td>\n",
       "      <td>2.530864</td>\n",
       "      <td>85.740741</td>\n",
       "      <td>11.666667</td>\n",
       "      <td>5046.308642</td>\n",
       "      <td>182.123457</td>\n",
       "      <td>122.333333</td>\n",
       "      <td>304.456790</td>\n",
       "      <td>27.629630</td>\n",
       "      <td>289.234568</td>\n",
       "      <td>1.555556</td>\n",
       "    </tr>\n",
       "    <tr>\n",
       "      <th>std</th>\n",
       "      <td>23.526581</td>\n",
       "      <td>23.526581</td>\n",
       "      <td>1.415195</td>\n",
       "      <td>1.643825</td>\n",
       "      <td>1.222475</td>\n",
       "      <td>7.424621</td>\n",
       "      <td>4418.767228</td>\n",
       "      <td>144.035098</td>\n",
       "      <td>84.882124</td>\n",
       "      <td>180.210159</td>\n",
       "      <td>10.591795</td>\n",
       "      <td>185.761088</td>\n",
       "      <td>0.707107</td>\n",
       "    </tr>\n",
       "    <tr>\n",
       "      <th>min</th>\n",
       "      <td>1.000000</td>\n",
       "      <td>1.000000</td>\n",
       "      <td>-1.000000</td>\n",
       "      <td>-1.000000</td>\n",
       "      <td>82.000000</td>\n",
       "      <td>1.000000</td>\n",
       "      <td>546.000000</td>\n",
       "      <td>9.000000</td>\n",
       "      <td>7.000000</td>\n",
       "      <td>73.000000</td>\n",
       "      <td>5.000000</td>\n",
       "      <td>62.000000</td>\n",
       "      <td>1.000000</td>\n",
       "    </tr>\n",
       "    <tr>\n",
       "      <th>25%</th>\n",
       "      <td>21.000000</td>\n",
       "      <td>21.000000</td>\n",
       "      <td>1.000000</td>\n",
       "      <td>1.000000</td>\n",
       "      <td>85.000000</td>\n",
       "      <td>6.000000</td>\n",
       "      <td>2352.000000</td>\n",
       "      <td>88.000000</td>\n",
       "      <td>57.000000</td>\n",
       "      <td>176.000000</td>\n",
       "      <td>20.000000</td>\n",
       "      <td>152.000000</td>\n",
       "      <td>1.000000</td>\n",
       "    </tr>\n",
       "    <tr>\n",
       "      <th>50%</th>\n",
       "      <td>41.000000</td>\n",
       "      <td>41.000000</td>\n",
       "      <td>2.000000</td>\n",
       "      <td>3.000000</td>\n",
       "      <td>86.000000</td>\n",
       "      <td>10.000000</td>\n",
       "      <td>3647.000000</td>\n",
       "      <td>140.000000</td>\n",
       "      <td>99.000000</td>\n",
       "      <td>266.000000</td>\n",
       "      <td>28.000000</td>\n",
       "      <td>255.000000</td>\n",
       "      <td>1.000000</td>\n",
       "    </tr>\n",
       "    <tr>\n",
       "      <th>75%</th>\n",
       "      <td>61.000000</td>\n",
       "      <td>61.000000</td>\n",
       "      <td>4.000000</td>\n",
       "      <td>4.000000</td>\n",
       "      <td>87.000000</td>\n",
       "      <td>14.000000</td>\n",
       "      <td>5922.000000</td>\n",
       "      <td>224.000000</td>\n",
       "      <td>169.000000</td>\n",
       "      <td>384.000000</td>\n",
       "      <td>35.000000</td>\n",
       "      <td>351.000000</td>\n",
       "      <td>2.000000</td>\n",
       "    </tr>\n",
       "    <tr>\n",
       "      <th>max</th>\n",
       "      <td>81.000000</td>\n",
       "      <td>81.000000</td>\n",
       "      <td>4.000000</td>\n",
       "      <td>7.000000</td>\n",
       "      <td>88.000000</td>\n",
       "      <td>39.000000</td>\n",
       "      <td>23940.000000</td>\n",
       "      <td>886.000000</td>\n",
       "      <td>387.000000</td>\n",
       "      <td>1127.000000</td>\n",
       "      <td>52.000000</td>\n",
       "      <td>1116.000000</td>\n",
       "      <td>3.000000</td>\n",
       "    </tr>\n",
       "  </tbody>\n",
       "</table>\n",
       "</div>"
      ],
      "text/plain": [
       "              id    Project    TeamExp  ManagerExp    YearEnd     Length  \\\n",
       "count  81.000000  81.000000  81.000000   81.000000  81.000000  81.000000   \n",
       "mean   41.000000  41.000000   2.185185    2.530864  85.740741  11.666667   \n",
       "std    23.526581  23.526581   1.415195    1.643825   1.222475   7.424621   \n",
       "min     1.000000   1.000000  -1.000000   -1.000000  82.000000   1.000000   \n",
       "25%    21.000000  21.000000   1.000000    1.000000  85.000000   6.000000   \n",
       "50%    41.000000  41.000000   2.000000    3.000000  86.000000  10.000000   \n",
       "75%    61.000000  61.000000   4.000000    4.000000  87.000000  14.000000   \n",
       "max    81.000000  81.000000   4.000000    7.000000  88.000000  39.000000   \n",
       "\n",
       "             Effort  Transactions    Entities  PointsNonAdjust  Adjustment  \\\n",
       "count     81.000000     81.000000   81.000000        81.000000   81.000000   \n",
       "mean    5046.308642    182.123457  122.333333       304.456790   27.629630   \n",
       "std     4418.767228    144.035098   84.882124       180.210159   10.591795   \n",
       "min      546.000000      9.000000    7.000000        73.000000    5.000000   \n",
       "25%     2352.000000     88.000000   57.000000       176.000000   20.000000   \n",
       "50%     3647.000000    140.000000   99.000000       266.000000   28.000000   \n",
       "75%     5922.000000    224.000000  169.000000       384.000000   35.000000   \n",
       "max    23940.000000    886.000000  387.000000      1127.000000   52.000000   \n",
       "\n",
       "       PointsAjust   Language  \n",
       "count    81.000000  81.000000  \n",
       "mean    289.234568   1.555556  \n",
       "std     185.761088   0.707107  \n",
       "min      62.000000   1.000000  \n",
       "25%     152.000000   1.000000  \n",
       "50%     255.000000   1.000000  \n",
       "75%     351.000000   2.000000  \n",
       "max    1116.000000   3.000000  "
      ]
     },
     "execution_count": 6,
     "metadata": {},
     "output_type": "execute_result"
    }
   ],
   "source": [
    "df.describe()"
   ]
  },
  {
   "cell_type": "code",
   "execution_count": 7,
   "id": "8a55dba4",
   "metadata": {},
   "outputs": [
    {
     "name": "stdout",
     "output_type": "stream",
     "text": [
      "int64\n",
      "int64\n",
      "int64\n",
      "int64\n",
      "int64\n",
      "int64\n",
      "int64\n",
      "int64\n",
      "int64\n",
      "int64\n",
      "int64\n",
      "int64\n",
      "int64\n"
     ]
    }
   ],
   "source": [
    "for i in df.columns:\n",
    "    print(df[i].dtype)"
   ]
  },
  {
   "cell_type": "code",
   "execution_count": 8,
   "id": "2cb5713c",
   "metadata": {},
   "outputs": [
    {
     "data": {
      "text/plain": [
       "<AxesSubplot:>"
      ]
     },
     "execution_count": 8,
     "metadata": {},
     "output_type": "execute_result"
    },
    {
     "data": {
      "image/png": "[encoded data removed]",
      "text/plain": [
       "<Figure size 432x288 with 1 Axes>"
      ]
     },
     "metadata": {
      "needs_background": "light"
     },
     "output_type": "display_data"
    }
   ],
   "source": [
    "import seaborn as sns\n",
    "\n",
    "sns.heatmap(df.isnull(),yticklabels=False,cbar=False,cmap='viridis')  #Checking how many missing values are there in it"
   ]
  },
  {
   "cell_type": "code",
   "execution_count": 9,
   "id": "9cc1b6a2",
   "metadata": {},
   "outputs": [],
   "source": [
    "X=df.drop('Effort', axis=1)\n",
    "y=df['Effort']"
   ]
  },
  {
   "cell_type": "code",
   "execution_count": 10,
   "id": "d6cbd69d",
   "metadata": {},
   "outputs": [
    {
     "name": "stdout",
     "output_type": "stream",
     "text": [
      "<class 'pandas.core.frame.DataFrame'>\n",
      "RangeIndex: 81 entries, 0 to 80\n",
      "Data columns (total 13 columns):\n",
      " #   Column           Non-Null Count  Dtype\n",
      "---  ------           --------------  -----\n",
      " 0   id               81 non-null     int64\n",
      " 1   Project          81 non-null     int64\n",
      " 2   TeamExp          81 non-null     int64\n",
      " 3   ManagerExp       81 non-null     int64\n",
      " 4   YearEnd          81 non-null     int64\n",
      " 5   Length           81 non-null     int64\n",
      " 6   Effort           81 non-null     int64\n",
      " 7   Transactions     81 non-null     int64\n",
      " 8   Entities         81 non-null     int64\n",
      " 9   PointsNonAdjust  81 non-null     int64\n",
      " 10  Adjustment       81 non-null     int64\n",
      " 11  PointsAjust      81 non-null     int64\n",
      " 12  Language         81 non-null     int64\n",
      "dtypes: int64(13)\n",
      "memory usage: 8.4 KB\n"
     ]
    }
   ],
   "source": [
    "df.info()"
   ]
  },
  {
   "cell_type": "code",
   "execution_count": 11,
   "id": "de8d5300",
   "metadata": {},
   "outputs": [
    {
     "data": {
      "text/plain": [
       "id                 0\n",
       "Project            0\n",
       "TeamExp            0\n",
       "ManagerExp         0\n",
       "YearEnd            0\n",
       "Length             0\n",
       "Effort             0\n",
       "Transactions       0\n",
       "Entities           0\n",
       "PointsNonAdjust    0\n",
       "Adjustment         0\n",
       "PointsAjust        0\n",
       "Language           0\n",
       "dtype: int64"
      ]
     },
     "execution_count": 11,
     "metadata": {},
     "output_type": "execute_result"
    }
   ],
   "source": [
    "df.isna().sum()"
   ]
  },
  {
   "cell_type": "markdown",
   "id": "0267eb50",
   "metadata": {},
   "source": [
    "# define scalar values"
   ]
  },
  {
   "cell_type": "code",
   "execution_count": 12,
   "id": "995057d5",
   "metadata": {},
   "outputs": [],
   "source": [
    "a   =1\n",
    "b   =2\n",
    "c   =3\n",
    "d   =4\n",
    "e   =5\n",
    "f   =6\n",
    "g   =7\n",
    "h   =8\n",
    "i   =9\n",
    "j   =10\n",
    "k   =11\n",
    "l   =12\n",
    "m   =13"
   ]
  },
  {
   "cell_type": "markdown",
   "id": "bb2026e5",
   "metadata": {},
   "source": [
    "# create DataFrame by transforming scalar values to list"
   ]
  },
  {
   "cell_type": "code",
   "execution_count": 13,
   "id": "42541eb1",
   "metadata": {},
   "outputs": [],
   "source": [
    "# Xdf = pd.DataFrame({'id': [a],'Project': [b],'TeamExp': [c],'ManagerExp': [d],'YearEnd' : [e],'Length' : [f], 'Effort': [g],'Transactions' : [h],'Entities' : [i],'PointsNonAdjust': [j],'Adjustment' : [k],'PointsAjust': [l],'Language': [m]})"
   ]
  },
  {
   "cell_type": "code",
   "execution_count": 14,
   "id": "b1ba046e",
   "metadata": {},
   "outputs": [],
   "source": [
    "df =pd.DataFrame ({'id':[a],'Project':[b],'TeamExp':[c],'ManagerExp':[d],'YearEnd' :[e],'Length' :[f], 'Effort':[g],'Transactions' :[h],'Entities' :[i],'PointsNonAdjust':[j],'Adjustment' :[k],'PointsAjust': [l],'Language': [m]})"
   ]
  },
  {
   "cell_type": "code",
   "execution_count": 15,
   "id": "85858f11",
   "metadata": {},
   "outputs": [
    {
     "data": {
      "text/html": [
       "<div>\n",
       "<style scoped>\n",
       "    .dataframe tbody tr th:only-of-type {\n",
       "        vertical-align: middle;\n",
       "    }\n",
       "\n",
       "    .dataframe tbody tr th {\n",
       "        vertical-align: top;\n",
       "    }\n",
       "\n",
       "    .dataframe thead th {\n",
       "        text-align: right;\n",
       "    }\n",
       "</style>\n",
       "<table border=\"1\" class=\"dataframe\">\n",
       "  <thead>\n",
       "    <tr style=\"text-align: right;\">\n",
       "      <th></th>\n",
       "      <th>id</th>\n",
       "      <th>Project</th>\n",
       "      <th>TeamExp</th>\n",
       "      <th>ManagerExp</th>\n",
       "      <th>YearEnd</th>\n",
       "      <th>Length</th>\n",
       "      <th>Effort</th>\n",
       "      <th>Transactions</th>\n",
       "      <th>Entities</th>\n",
       "      <th>PointsNonAdjust</th>\n",
       "      <th>Adjustment</th>\n",
       "      <th>PointsAjust</th>\n",
       "      <th>Language</th>\n",
       "    </tr>\n",
       "  </thead>\n",
       "  <tbody>\n",
       "    <tr>\n",
       "      <th>0</th>\n",
       "      <td>1</td>\n",
       "      <td>2</td>\n",
       "      <td>3</td>\n",
       "      <td>4</td>\n",
       "      <td>5</td>\n",
       "      <td>6</td>\n",
       "      <td>7</td>\n",
       "      <td>8</td>\n",
       "      <td>9</td>\n",
       "      <td>10</td>\n",
       "      <td>11</td>\n",
       "      <td>12</td>\n",
       "      <td>13</td>\n",
       "    </tr>\n",
       "  </tbody>\n",
       "</table>\n",
       "</div>"
      ],
      "text/plain": [
       "   id  Project  TeamExp  ManagerExp  YearEnd  Length  Effort  Transactions  \\\n",
       "0   1        2        3           4        5       6       7             8   \n",
       "\n",
       "   Entities  PointsNonAdjust  Adjustment  PointsAjust  Language  \n",
       "0         9               10          11           12        13  "
      ]
     },
     "execution_count": 15,
     "metadata": {},
     "output_type": "execute_result"
    }
   ],
   "source": [
    "df"
   ]
  },
  {
   "cell_type": "code",
   "execution_count": 16,
   "id": "388898f9",
   "metadata": {},
   "outputs": [],
   "source": [
    "# X =df[['id','Project','TeamExp','ManagerExp','YearEnd','Length','Transactions','Entities','PointsNonAdjust','Adjustment','PointsAjust','Language']]\n",
    "# y =df[['Effort']]"
   ]
  },
  {
   "cell_type": "code",
   "execution_count": 17,
   "id": "84f780e6",
   "metadata": {},
   "outputs": [
    {
     "data": {
      "text/html": [
       "<div>\n",
       "<style scoped>\n",
       "    .dataframe tbody tr th:only-of-type {\n",
       "        vertical-align: middle;\n",
       "    }\n",
       "\n",
       "    .dataframe tbody tr th {\n",
       "        vertical-align: top;\n",
       "    }\n",
       "\n",
       "    .dataframe thead th {\n",
       "        text-align: right;\n",
       "    }\n",
       "</style>\n",
       "<table border=\"1\" class=\"dataframe\">\n",
       "  <thead>\n",
       "    <tr style=\"text-align: right;\">\n",
       "      <th></th>\n",
       "      <th>id</th>\n",
       "      <th>Project</th>\n",
       "      <th>TeamExp</th>\n",
       "      <th>ManagerExp</th>\n",
       "      <th>YearEnd</th>\n",
       "      <th>Length</th>\n",
       "      <th>Transactions</th>\n",
       "      <th>Entities</th>\n",
       "      <th>PointsNonAdjust</th>\n",
       "      <th>Adjustment</th>\n",
       "      <th>PointsAjust</th>\n",
       "      <th>Language</th>\n",
       "    </tr>\n",
       "  </thead>\n",
       "  <tbody>\n",
       "    <tr>\n",
       "      <th>0</th>\n",
       "      <td>1</td>\n",
       "      <td>1</td>\n",
       "      <td>1</td>\n",
       "      <td>4</td>\n",
       "      <td>85</td>\n",
       "      <td>12</td>\n",
       "      <td>253</td>\n",
       "      <td>52</td>\n",
       "      <td>305</td>\n",
       "      <td>34</td>\n",
       "      <td>302</td>\n",
       "      <td>1</td>\n",
       "    </tr>\n",
       "    <tr>\n",
       "      <th>1</th>\n",
       "      <td>2</td>\n",
       "      <td>2</td>\n",
       "      <td>0</td>\n",
       "      <td>0</td>\n",
       "      <td>86</td>\n",
       "      <td>4</td>\n",
       "      <td>197</td>\n",
       "      <td>124</td>\n",
       "      <td>321</td>\n",
       "      <td>33</td>\n",
       "      <td>315</td>\n",
       "      <td>1</td>\n",
       "    </tr>\n",
       "    <tr>\n",
       "      <th>2</th>\n",
       "      <td>3</td>\n",
       "      <td>3</td>\n",
       "      <td>4</td>\n",
       "      <td>4</td>\n",
       "      <td>85</td>\n",
       "      <td>1</td>\n",
       "      <td>40</td>\n",
       "      <td>60</td>\n",
       "      <td>100</td>\n",
       "      <td>18</td>\n",
       "      <td>83</td>\n",
       "      <td>1</td>\n",
       "    </tr>\n",
       "    <tr>\n",
       "      <th>3</th>\n",
       "      <td>4</td>\n",
       "      <td>4</td>\n",
       "      <td>0</td>\n",
       "      <td>0</td>\n",
       "      <td>86</td>\n",
       "      <td>5</td>\n",
       "      <td>200</td>\n",
       "      <td>119</td>\n",
       "      <td>319</td>\n",
       "      <td>30</td>\n",
       "      <td>303</td>\n",
       "      <td>1</td>\n",
       "    </tr>\n",
       "    <tr>\n",
       "      <th>4</th>\n",
       "      <td>5</td>\n",
       "      <td>5</td>\n",
       "      <td>0</td>\n",
       "      <td>0</td>\n",
       "      <td>86</td>\n",
       "      <td>4</td>\n",
       "      <td>140</td>\n",
       "      <td>94</td>\n",
       "      <td>234</td>\n",
       "      <td>24</td>\n",
       "      <td>208</td>\n",
       "      <td>1</td>\n",
       "    </tr>\n",
       "    <tr>\n",
       "      <th>...</th>\n",
       "      <td>...</td>\n",
       "      <td>...</td>\n",
       "      <td>...</td>\n",
       "      <td>...</td>\n",
       "      <td>...</td>\n",
       "      <td>...</td>\n",
       "      <td>...</td>\n",
       "      <td>...</td>\n",
       "      <td>...</td>\n",
       "      <td>...</td>\n",
       "      <td>...</td>\n",
       "      <td>...</td>\n",
       "    </tr>\n",
       "    <tr>\n",
       "      <th>76</th>\n",
       "      <td>77</td>\n",
       "      <td>77</td>\n",
       "      <td>4</td>\n",
       "      <td>4</td>\n",
       "      <td>85</td>\n",
       "      <td>12</td>\n",
       "      <td>229</td>\n",
       "      <td>169</td>\n",
       "      <td>398</td>\n",
       "      <td>39</td>\n",
       "      <td>414</td>\n",
       "      <td>3</td>\n",
       "    </tr>\n",
       "    <tr>\n",
       "      <th>77</th>\n",
       "      <td>78</td>\n",
       "      <td>78</td>\n",
       "      <td>4</td>\n",
       "      <td>3</td>\n",
       "      <td>83</td>\n",
       "      <td>12</td>\n",
       "      <td>227</td>\n",
       "      <td>73</td>\n",
       "      <td>300</td>\n",
       "      <td>34</td>\n",
       "      <td>297</td>\n",
       "      <td>1</td>\n",
       "    </tr>\n",
       "    <tr>\n",
       "      <th>78</th>\n",
       "      <td>79</td>\n",
       "      <td>79</td>\n",
       "      <td>4</td>\n",
       "      <td>4</td>\n",
       "      <td>82</td>\n",
       "      <td>24</td>\n",
       "      <td>395</td>\n",
       "      <td>193</td>\n",
       "      <td>588</td>\n",
       "      <td>40</td>\n",
       "      <td>617</td>\n",
       "      <td>1</td>\n",
       "    </tr>\n",
       "    <tr>\n",
       "      <th>79</th>\n",
       "      <td>80</td>\n",
       "      <td>80</td>\n",
       "      <td>4</td>\n",
       "      <td>3</td>\n",
       "      <td>86</td>\n",
       "      <td>12</td>\n",
       "      <td>469</td>\n",
       "      <td>176</td>\n",
       "      <td>645</td>\n",
       "      <td>43</td>\n",
       "      <td>697</td>\n",
       "      <td>3</td>\n",
       "    </tr>\n",
       "    <tr>\n",
       "      <th>80</th>\n",
       "      <td>81</td>\n",
       "      <td>81</td>\n",
       "      <td>4</td>\n",
       "      <td>4</td>\n",
       "      <td>85</td>\n",
       "      <td>36</td>\n",
       "      <td>886</td>\n",
       "      <td>241</td>\n",
       "      <td>1127</td>\n",
       "      <td>34</td>\n",
       "      <td>1116</td>\n",
       "      <td>1</td>\n",
       "    </tr>\n",
       "  </tbody>\n",
       "</table>\n",
       "<p>81 rows × 12 columns</p>\n",
       "</div>"
      ],
      "text/plain": [
       "    id  Project  TeamExp  ManagerExp  YearEnd  Length  Transactions  Entities  \\\n",
       "0    1        1        1           4       85      12           253        52   \n",
       "1    2        2        0           0       86       4           197       124   \n",
       "2    3        3        4           4       85       1            40        60   \n",
       "3    4        4        0           0       86       5           200       119   \n",
       "4    5        5        0           0       86       4           140        94   \n",
       "..  ..      ...      ...         ...      ...     ...           ...       ...   \n",
       "76  77       77        4           4       85      12           229       169   \n",
       "77  78       78        4           3       83      12           227        73   \n",
       "78  79       79        4           4       82      24           395       193   \n",
       "79  80       80        4           3       86      12           469       176   \n",
       "80  81       81        4           4       85      36           886       241   \n",
       "\n",
       "    PointsNonAdjust  Adjustment  PointsAjust  Language  \n",
       "0               305          34          302         1  \n",
       "1               321          33          315         1  \n",
       "2               100          18           83         1  \n",
       "3               319          30          303         1  \n",
       "4               234          24          208         1  \n",
       "..              ...         ...          ...       ...  \n",
       "76              398          39          414         3  \n",
       "77              300          34          297         1  \n",
       "78              588          40          617         1  \n",
       "79              645          43          697         3  \n",
       "80             1127          34         1116         1  \n",
       "\n",
       "[81 rows x 12 columns]"
      ]
     },
     "execution_count": 17,
     "metadata": {},
     "output_type": "execute_result"
    }
   ],
   "source": [
    "X"
   ]
  },
  {
   "cell_type": "code",
   "execution_count": 18,
   "id": "d9c2b871",
   "metadata": {},
   "outputs": [
    {
     "data": {
      "text/plain": [
       "0      5152\n",
       "1      5635\n",
       "2       805\n",
       "3      3829\n",
       "4      2149\n",
       "      ...  \n",
       "76     1400\n",
       "77     2800\n",
       "78     9520\n",
       "79     5880\n",
       "80    23940\n",
       "Name: Effort, Length: 81, dtype: int64"
      ]
     },
     "execution_count": 18,
     "metadata": {},
     "output_type": "execute_result"
    }
   ],
   "source": [
    "y"
   ]
  },
  {
   "cell_type": "code",
   "execution_count": 19,
   "id": "ae67b13c",
   "metadata": {},
   "outputs": [],
   "source": [
    "#get the locations    #Captical X called Matric       #indep\n",
    "# X = df[['id','Project','TeamExp','ManagerExp','YearEnd','Length','Transactions','Entities','PointsNonAdjust','Adjustment','PointsAjust','Language']]\n",
    " \n",
    "#y vector\n",
    "# y = df[['Effort']]   #dep"
   ]
  },
  {
   "cell_type": "markdown",
   "id": "538f4fe9",
   "metadata": {},
   "source": [
    "# Splitting the data-set into Training and Test Set"
   ]
  },
  {
   "cell_type": "code",
   "execution_count": 20,
   "id": "5c95a7c0",
   "metadata": {},
   "outputs": [],
   "source": [
    "from sklearn.model_selection import train_test_split\n",
    "X_train, X_test, y_train, y_test=train_test_split(X,y,test_size=0.2, random_state=42)"
   ]
  },
  {
   "cell_type": "code",
   "execution_count": 21,
   "id": "d2ea9c39",
   "metadata": {},
   "outputs": [
    {
     "data": {
      "text/plain": [
       "(81, 12)"
      ]
     },
     "execution_count": 21,
     "metadata": {},
     "output_type": "execute_result"
    }
   ],
   "source": [
    "X.shape"
   ]
  },
  {
   "cell_type": "code",
   "execution_count": 40,
   "id": "b01a17b3",
   "metadata": {},
   "outputs": [
    {
     "data": {
      "text/plain": [
       "(81,)"
      ]
     },
     "execution_count": 40,
     "metadata": {},
     "output_type": "execute_result"
    }
   ],
   "source": [
    " y.shape"
   ]
  },
  {
   "cell_type": "markdown",
   "id": "eff6d180",
   "metadata": {},
   "source": [
    "# **Models Costruction**"
   ]
  },
  {
   "cell_type": "markdown",
   "id": "881cf830",
   "metadata": {},
   "source": [
    "# LinearRegression"
   ]
  },
  {
   "cell_type": "code",
   "execution_count": 22,
   "id": "5152620d",
   "metadata": {},
   "outputs": [
    {
     "name": "stdout",
     "output_type": "stream",
     "text": [
      "    Actual  LR Predicted\n",
      "30    3927   3388.537214\n",
      "0     5152   6826.810754\n",
      "22    5775   8040.246433\n",
      "31     710   -113.856384\n",
      "18    4494   4974.404705\n",
      "28    7252   5823.394041\n",
      "10    4067   4677.302020\n",
      "70     546     78.165779\n",
      "4     2149   3381.797207\n",
      "12    2282   1810.270364\n",
      "49    5817   4094.837247\n",
      "33    6405   4786.805961\n",
      "67    1267   1244.400168\n",
      "35    9135   7394.669464\n",
      "68    2548   1355.088124\n",
      "45   14987   8954.066512\n",
      "73     595  -1477.747046\n"
     ]
    },
    {
     "data": {
      "image/png": "[encoded data removed]",
      "text/plain": [
       "<Figure size 360x576 with 1 Axes>"
      ]
     },
     "metadata": {
      "needs_background": "light"
     },
     "output_type": "display_data"
    }
   ],
   "source": [
    "from sklearn.linear_model import LinearRegression\n",
    "import matplotlib.pyplot as plt\n",
    "lr_model=LinearRegression()\n",
    "lr_model.fit(X_train,y_train) #training algorithm\n",
    "\n",
    "#it’s time to make some predictions.\n",
    "#we will use our test data and see how accurately our algorithm predicts the percentage score.\n",
    "predicted_value=lr_model.predict(X_test)\n",
    "true_value=y_test\n",
    "\n",
    "comparison = pd.DataFrame({'Actual':true_value,'LR Predicted':predicted_value})\n",
    "print(comparison)\n",
    "\n",
    "\n",
    "plt.figure(figsize=(5,8))\n",
    "plt.scatter(true_value, predicted_value, c='crimson')\n",
    "plt.yscale('log')\n",
    "plt.xscale('log')\n",
    "\n",
    "p1 = max(max(predicted_value), max(true_value))\n",
    "p2 = min(min(predicted_value), min(true_value))\n",
    "plt.plot([p1, p2], [p1, p2], 'b-')\n",
    "plt.xlabel('True Values', fontsize=15)\n",
    "plt.ylabel('Predictions', fontsize=15)\n",
    "plt.axis('equal')\n",
    "plt.show()"
   ]
  },
  {
   "cell_type": "markdown",
   "id": "4f268615",
   "metadata": {},
   "source": [
    "# Gradient Boosting"
   ]
  },
  {
   "cell_type": "code",
   "execution_count": 23,
   "id": "34f3fd65",
   "metadata": {},
   "outputs": [
    {
     "name": "stdout",
     "output_type": "stream",
     "text": [
      "    Actual  GB Predicted\n",
      "30    3927   2373.146155\n",
      "0     5152   4715.478155\n",
      "22    5775   6582.499666\n",
      "31     710   1408.709128\n",
      "18    4494   6868.063695\n",
      "28    7252   4308.701426\n",
      "10    4067   8368.881930\n",
      "70     546   1035.146870\n",
      "4     2149   3207.860097\n",
      "12    2282   1616.062747\n",
      "49    5817   3020.773224\n",
      "33    6405   4492.991957\n",
      "67    1267   1521.934325\n",
      "35    9135  10087.899662\n",
      "68    2548   1258.547220\n",
      "45   14987  11489.018984\n",
      "73     595   3234.237965\n"
     ]
    },
    {
     "data": {
      "image/png": "[encoded data removed]",
      "text/plain": [
       "<Figure size 360x576 with 1 Axes>"
      ]
     },
     "metadata": {
      "needs_background": "light"
     },
     "output_type": "display_data"
    }
   ],
   "source": [
    "from sklearn.ensemble import GradientBoostingRegressor\n",
    "gb_model=GradientBoostingRegressor()\n",
    "gb_model.fit(X_train,y_train)\n",
    "gb_model.score(X_test,y_test)\n",
    "predicted_value=gb_model.predict(X_test)\n",
    "true_value=y_test\n",
    "\n",
    "comparison = pd.DataFrame({'Actual':true_value,'GB Predicted':predicted_value})\n",
    "print(comparison)\n",
    "\n",
    "plt.figure(figsize=(5,8))\n",
    "plt.scatter(true_value, predicted_value, c='crimson')\n",
    "plt.yscale('log')\n",
    "plt.xscale('log')\n",
    "\n",
    "p1 = max(max(predicted_value), max(true_value))\n",
    "p2 = min(min(predicted_value), min(true_value))\n",
    "plt.plot([p1, p2], [p1, p2], 'b-')\n",
    "plt.xlabel('True Values', fontsize=15)\n",
    "plt.ylabel('Predictions', fontsize=15)\n",
    "plt.axis('equal')\n",
    "plt.show()"
   ]
  },
  {
   "cell_type": "markdown",
   "id": "691100b8",
   "metadata": {},
   "source": [
    "# Random Forest"
   ]
  },
  {
   "cell_type": "code",
   "execution_count": 24,
   "id": "69878a37",
   "metadata": {},
   "outputs": [
    {
     "name": "stdout",
     "output_type": "stream",
     "text": [
      "    Actual  RF Predicted\n",
      "30    3927       2894.68\n",
      "0     5152       4800.81\n",
      "22    5775       6815.20\n",
      "31     710       2369.13\n",
      "18    4494       5698.63\n",
      "28    7252       4933.53\n",
      "10    4067       6224.82\n",
      "70     546       1764.71\n",
      "4     2149       3634.61\n",
      "12    2282       1703.80\n",
      "49    5817       2910.92\n",
      "33    6405       4238.71\n",
      "67    1267       1807.96\n",
      "35    9135       8946.14\n",
      "68    2548       1686.07\n",
      "45   14987       8010.80\n",
      "73     595       2759.54\n"
     ]
    },
    {
     "data": {
      "image/png": "[encoded data removed]",
      "text/plain": [
       "<Figure size 504x504 with 1 Axes>"
      ]
     },
     "metadata": {
      "needs_background": "light"
     },
     "output_type": "display_data"
    }
   ],
   "source": [
    "# from sklearn.model_selection import train_test_split\n",
    "import matplotlib.pyplot as plt\n",
    "from sklearn.ensemble import RandomForestRegressor\n",
    "rf_model = RandomForestRegressor(random_state=43)      \n",
    "rf_model = rf_model.fit(X_train,y_train)\n",
    "rf_model.score(X_test,y_test)\n",
    "\n",
    "predicted_value=rf_model.predict(X_test)\n",
    "true_value=y_test\n",
    "\n",
    "comparison = pd.DataFrame({'Actual':true_value,'RF Predicted':predicted_value})\n",
    "print(comparison)\n",
    "\n",
    "\n",
    "plt.figure(figsize=(7,7))\n",
    "plt.scatter(true_value, predicted_value, c='crimson')\n",
    "plt.yscale('log')\n",
    "plt.xscale('log')\n",
    "\n",
    "p1 = max(max(predicted_value), max(true_value))\n",
    "p2 = min(min(predicted_value), min(true_value))\n",
    "plt.plot([p1, p2], [p1, p2], 'b-')\n",
    "plt.xlabel('True Values', fontsize=15)\n",
    "plt.ylabel('Predictions', fontsize=15)\n",
    "plt.axis('equal')\n",
    "plt.show()"
   ]
  },
  {
   "cell_type": "markdown",
   "id": "d91574b9",
   "metadata": {},
   "source": [
    "# Decision Tree Regression"
   ]
  },
  {
   "cell_type": "code",
   "execution_count": 25,
   "id": "bb3f128c",
   "metadata": {},
   "outputs": [
    {
     "name": "stdout",
     "output_type": "stream",
     "text": [
      "    Actual  DT Predicted\n",
      "30    3927        1617.0\n",
      "0     5152        3626.0\n",
      "22    5775       14434.0\n",
      "31     710        2989.0\n",
      "18    4494        8232.0\n",
      "28    7252        5180.0\n",
      "10    4067        7854.0\n",
      "70     546        2331.0\n",
      "4     2149        3472.0\n",
      "12    2282         805.0\n",
      "49    5817        1603.0\n",
      "33    6405        3829.0\n",
      "67    1267        1575.0\n",
      "35    9135       14434.0\n",
      "68    2548        1575.0\n",
      "45   14987        8232.0\n",
      "73     595        4004.0\n"
     ]
    },
    {
     "data": {
      "image/png": "[encoded data removed]",
      "text/plain": [
       "<Figure size 504x504 with 1 Axes>"
      ]
     },
     "metadata": {
      "needs_background": "light"
     },
     "output_type": "display_data"
    }
   ],
   "source": [
    "from sklearn.tree import DecisionTreeRegressor\n",
    "D_model=DecisionTreeRegressor(max_depth=12)\n",
    "D_model.fit(X_train,y_train)\n",
    "D_model.score(X_test,y_test)\n",
    "predicted_value=D_model.predict(X_test)\n",
    "true_value=y_test\n",
    "\n",
    "comparison = pd.DataFrame({'Actual':true_value,'DT Predicted':predicted_value})\n",
    "print(comparison)\n",
    "\n",
    "\n",
    "plt.figure(figsize=(7,7))\n",
    "plt.scatter(true_value, predicted_value, c='crimson')\n",
    "plt.yscale('log')\n",
    "plt.xscale('log')\n",
    "\n",
    "p1 = max(max(predicted_value), max(true_value))\n",
    "p2 = min(min(predicted_value), min(true_value))\n",
    "plt.plot([p1, p2], [p1, p2], 'b-')\n",
    "plt.xlabel('True Values', fontsize=15)\n",
    "plt.ylabel('Predictions', fontsize=15)\n",
    "plt.axis('equal')\n",
    "plt.show()"
   ]
  },
  {
   "cell_type": "markdown",
   "id": "ace9cafb",
   "metadata": {},
   "source": [
    "# Plotting"
   ]
  },
  {
   "cell_type": "markdown",
   "id": "e484a54e",
   "metadata": {},
   "source": [
    " Creating A DataFrame and Display All models Score"
   ]
  },
  {
   "cell_type": "code",
   "execution_count": 26,
   "id": "cfa80d37",
   "metadata": {},
   "outputs": [
    {
     "data": {
      "text/html": [
       "<div>\n",
       "<style scoped>\n",
       "    .dataframe tbody tr th:only-of-type {\n",
       "        vertical-align: middle;\n",
       "    }\n",
       "\n",
       "    .dataframe tbody tr th {\n",
       "        vertical-align: top;\n",
       "    }\n",
       "\n",
       "    .dataframe thead th {\n",
       "        text-align: right;\n",
       "    }\n",
       "</style>\n",
       "<table border=\"1\" class=\"dataframe\">\n",
       "  <thead>\n",
       "    <tr style=\"text-align: right;\">\n",
       "      <th></th>\n",
       "      <th>Linear Regression</th>\n",
       "      <th>Gradient Boosting</th>\n",
       "      <th>Random Forest</th>\n",
       "      <th>Decision Tree</th>\n",
       "    </tr>\n",
       "  </thead>\n",
       "  <tbody>\n",
       "    <tr>\n",
       "      <th>0</th>\n",
       "      <td>0.703827</td>\n",
       "      <td>0.669586</td>\n",
       "      <td>0.593843</td>\n",
       "      <td>-0.098798</td>\n",
       "    </tr>\n",
       "  </tbody>\n",
       "</table>\n",
       "</div>"
      ],
      "text/plain": [
       "   Linear Regression   Gradient Boosting  Random Forest  Decision Tree\n",
       "0            0.703827           0.669586       0.593843      -0.098798"
      ]
     },
     "execution_count": 26,
     "metadata": {},
     "output_type": "execute_result"
    }
   ],
   "source": [
    "lr_score=lr_model.score(X_test,y_test)\n",
    "gb_score=gb_model.score(X_test,y_test)\n",
    "rf_score=rf_model.score(X_test,y_test)\n",
    "d_score=D_model.score(X_test,y_test)\n",
    "\n",
    "\n",
    "Score=pd.DataFrame({'Linear Regression ':[lr_score],'Gradient Boosting':[gb_score],'Random Forest':[rf_score],'Decision Tree':[d_score]})\n",
    "Score"
   ]
  },
  {
   "cell_type": "code",
   "execution_count": 27,
   "id": "ac3cf7a8",
   "metadata": {},
   "outputs": [],
   "source": [
    "names=[]\n",
    "\n",
    "for i in Score.columns:\n",
    "    names.append(i)"
   ]
  },
  {
   "cell_type": "code",
   "execution_count": 28,
   "id": "722a3ce3",
   "metadata": {},
   "outputs": [
    {
     "data": {
      "text/plain": [
       "<BarContainer object of 4 artists>"
      ]
     },
     "execution_count": 28,
     "metadata": {},
     "output_type": "execute_result"
    },
    {
     "data": {
      "image/png": "[encoded data removed]",
      "text/plain": [
       "<Figure size 576x396 with 1 Axes>"
      ]
     },
     "metadata": {
      "needs_background": "light"
     },
     "output_type": "display_data"
    }
   ],
   "source": [
    "plt.rcParams[\"figure.figsize\"] = (8,5.5)\n",
    "plt.bar(names,Score.iloc[0].values)"
   ]
  },
  {
   "cell_type": "code",
   "execution_count": 29,
   "id": "04f67de4",
   "metadata": {
    "scrolled": true
   },
   "outputs": [
    {
     "data": {
      "text/plain": [
       "[<matplotlib.lines.Line2D at 0x291ac5d84c0>]"
      ]
     },
     "execution_count": 29,
     "metadata": {},
     "output_type": "execute_result"
    },
    {
     "data": {
      "image/png": "[encoded data removed]",
      "text/plain": [
       "<Figure size 576x396 with 1 Axes>"
      ]
     },
     "metadata": {
      "needs_background": "light"
     },
     "output_type": "display_data"
    }
   ],
   "source": [
    "plt.plot(names,Score.iloc[0].values)"
   ]
  },
  {
   "cell_type": "markdown",
   "id": "bc893c84",
   "metadata": {},
   "source": [
    "# R2"
   ]
  },
  {
   "cell_type": "code",
   "execution_count": 30,
   "id": "7a15b177",
   "metadata": {},
   "outputs": [],
   "source": [
    "lr_score=lr_model.score(X_test,y_test)\n",
    "gb_score=gb_model.score(X_test,y_test)\n",
    "rf_score=rf_model.score(X_test,y_test)\n",
    "d_score=D_model.score(X_test,y_test)"
   ]
  },
  {
   "cell_type": "code",
   "execution_count": 31,
   "id": "cd8adc58",
   "metadata": {},
   "outputs": [],
   "source": [
    "lr_pred=lr_model.predict(X_test)\n",
    "gb_pred=gb_model.predict(X_test)\n",
    "rf_pred=rf_model.predict(X_test)\n",
    "d_pred=D_model.predict(X_test)"
   ]
  },
  {
   "cell_type": "code",
   "execution_count": 32,
   "id": "e26ff9b0",
   "metadata": {},
   "outputs": [],
   "source": [
    "from sklearn.metrics import r2_score, mean_squared_error\n",
    "import numpy as np"
   ]
  },
  {
   "cell_type": "code",
   "execution_count": 33,
   "id": "b2e8f828",
   "metadata": {},
   "outputs": [],
   "source": [
    "lr_r2_score=r2_score(y_test, lr_pred)\n",
    "gb_r2_score=r2_score(y_test,gb_pred)\n",
    "rf_r2_score=r2_score(y_test,rf_pred)\n",
    "d_r2_score=r2_score(y_test,d_pred)"
   ]
  },
  {
   "cell_type": "code",
   "execution_count": 34,
   "id": "bd67c293",
   "metadata": {},
   "outputs": [
    {
     "data": {
      "text/html": [
       "<div>\n",
       "<style scoped>\n",
       "    .dataframe tbody tr th:only-of-type {\n",
       "        vertical-align: middle;\n",
       "    }\n",
       "\n",
       "    .dataframe tbody tr th {\n",
       "        vertical-align: top;\n",
       "    }\n",
       "\n",
       "    .dataframe thead th {\n",
       "        text-align: right;\n",
       "    }\n",
       "</style>\n",
       "<table border=\"1\" class=\"dataframe\">\n",
       "  <thead>\n",
       "    <tr style=\"text-align: right;\">\n",
       "      <th></th>\n",
       "      <th>Linear Regression</th>\n",
       "      <th>Gradient Boosting Tree</th>\n",
       "      <th>Random Forest</th>\n",
       "      <th>Decision Tree</th>\n",
       "    </tr>\n",
       "  </thead>\n",
       "  <tbody>\n",
       "    <tr>\n",
       "      <th>0</th>\n",
       "      <td>0.703827</td>\n",
       "      <td>0.669586</td>\n",
       "      <td>0.593843</td>\n",
       "      <td>-0.098798</td>\n",
       "    </tr>\n",
       "  </tbody>\n",
       "</table>\n",
       "</div>"
      ],
      "text/plain": [
       "   Linear Regression   Gradient Boosting Tree  Random Forest  Decision Tree\n",
       "0            0.703827                0.669586       0.593843      -0.098798"
      ]
     },
     "execution_count": 34,
     "metadata": {},
     "output_type": "execute_result"
    }
   ],
   "source": [
    "r2_Score=pd.DataFrame({'Linear Regression ':[lr_r2_score],'Gradient Boosting Tree':[gb_r2_score],'Random Forest':[rf_r2_score],'Decision Tree':[d_r2_score]})\n",
    "r2_Score"
   ]
  },
  {
   "cell_type": "code",
   "execution_count": 35,
   "id": "8e9deb26",
   "metadata": {},
   "outputs": [
    {
     "data": {
      "text/plain": [
       "[<matplotlib.lines.Line2D at 0x291ac52b520>]"
      ]
     },
     "execution_count": 35,
     "metadata": {},
     "output_type": "execute_result"
    },
    {
     "data": {
      "image/png": "[encoded data removed]",
      "text/plain": [
       "<Figure size 576x396 with 1 Axes>"
      ]
     },
     "metadata": {
      "needs_background": "light"
     },
     "output_type": "display_data"
    }
   ],
   "source": [
    "plt.plot(names,r2_Score.iloc[0].values)"
   ]
  },
  {
   "cell_type": "markdown",
   "id": "4b2bffa9",
   "metadata": {},
   "source": [
    "# RMSE (Root Mean Square Error)"
   ]
  },
  {
   "cell_type": "code",
   "execution_count": 36,
   "id": "f5a32631",
   "metadata": {},
   "outputs": [],
   "source": [
    "lr_rmse=np.sqrt(mean_squared_error(lr_pred, y_test))\n",
    "gb_rmse=np.sqrt(mean_squared_error(gb_pred, y_test))\n",
    "rf_rmse=np.sqrt(mean_squared_error(rf_pred, y_test))\n",
    "d_rmse=np.sqrt(mean_squared_error(d_pred, y_test))"
   ]
  },
  {
   "cell_type": "code",
   "execution_count": 37,
   "id": "282c60b3",
   "metadata": {},
   "outputs": [
    {
     "data": {
      "text/html": [
       "<div>\n",
       "<style scoped>\n",
       "    .dataframe tbody tr th:only-of-type {\n",
       "        vertical-align: middle;\n",
       "    }\n",
       "\n",
       "    .dataframe tbody tr th {\n",
       "        vertical-align: top;\n",
       "    }\n",
       "\n",
       "    .dataframe thead th {\n",
       "        text-align: right;\n",
       "    }\n",
       "</style>\n",
       "<table border=\"1\" class=\"dataframe\">\n",
       "  <thead>\n",
       "    <tr style=\"text-align: right;\">\n",
       "      <th></th>\n",
       "      <th>Linear Regression</th>\n",
       "      <th>Gradient Boosting Tree</th>\n",
       "      <th>Random Forest</th>\n",
       "      <th>Decision Tree</th>\n",
       "    </tr>\n",
       "  </thead>\n",
       "  <tbody>\n",
       "    <tr>\n",
       "      <th>0</th>\n",
       "      <td>1943.914123</td>\n",
       "      <td>2053.209296</td>\n",
       "      <td>2276.412552</td>\n",
       "      <td>3744.235177</td>\n",
       "    </tr>\n",
       "  </tbody>\n",
       "</table>\n",
       "</div>"
      ],
      "text/plain": [
       "   Linear Regression   Gradient Boosting Tree  Random Forest  Decision Tree\n",
       "0         1943.914123             2053.209296    2276.412552    3744.235177"
      ]
     },
     "execution_count": 37,
     "metadata": {},
     "output_type": "execute_result"
    }
   ],
   "source": [
    "rmse=pd.DataFrame({'Linear Regression ':[lr_rmse],'Gradient Boosting Tree':[gb_rmse],'Random Forest':[rf_rmse],'Decision Tree':[d_rmse]})\n",
    "rmse"
   ]
  },
  {
   "cell_type": "code",
   "execution_count": 38,
   "id": "f7f7ca7c",
   "metadata": {},
   "outputs": [
    {
     "data": {
      "text/plain": [
       "[<matplotlib.lines.Line2D at 0x291ac445220>]"
      ]
     },
     "execution_count": 38,
     "metadata": {},
     "output_type": "execute_result"
    },
    {
     "data": {
      "image/png": "[encoded data removed]",
      "text/plain": [
       "<Figure size 576x396 with 1 Axes>"
      ]
     },
     "metadata": {
      "needs_background": "light"
     },
     "output_type": "display_data"
    }
   ],
   "source": [
    "plt.plot(names,rmse.iloc[0].values)"
   ]
  },
  {
   "cell_type": "code",
   "execution_count": null,
   "id": "db584d31",
   "metadata": {},
   "outputs": [],
   "source": []
  }
 ],
 "metadata": {
  "kernelspec": {
   "display_name": "Python 3",
   "language": "python",
   "name": "python3"
  },
  "language_info": {
   "codemirror_mode": {
    "name": "ipython",
    "version": 3
   },
   "file_extension": ".py",
   "mimetype": "text/x-python",
   "name": "python",
   "nbconvert_exporter": "python",
   "pygments_lexer": "ipython3",
   "version": "3.8.8"
  }
 },
 "nbformat": 4,
 "nbformat_minor": 5
}
