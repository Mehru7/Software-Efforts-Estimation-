{
 "cells": [
  {
   "cell_type": "code",
   "execution_count": 1,
   "id": "a870684a",
   "metadata": {},
   "outputs": [],
   "source": [
    "import pandas as pd"
   ]
  },
  {
   "cell_type": "code",
   "execution_count": 2,
   "id": "4b9d4474",
   "metadata": {},
   "outputs": [],
   "source": [
    "df=pd.read_csv('maxwell.csv')"
   ]
  },
  {
   "cell_type": "code",
   "execution_count": 3,
   "id": "488e9729",
   "metadata": {},
   "outputs": [
    {
     "data": {
      "text/plain": [
       "(62, 27)"
      ]
     },
     "execution_count": 3,
     "metadata": {},
     "output_type": "execute_result"
    }
   ],
   "source": [
    "df.shape"
   ]
  },
  {
   "cell_type": "code",
   "execution_count": 4,
   "id": "b07dd474",
   "metadata": {},
   "outputs": [
    {
     "data": {
      "text/html": [
       "<div>\n",
       "<style scoped>\n",
       "    .dataframe tbody tr th:only-of-type {\n",
       "        vertical-align: middle;\n",
       "    }\n",
       "\n",
       "    .dataframe tbody tr th {\n",
       "        vertical-align: top;\n",
       "    }\n",
       "\n",
       "    .dataframe thead th {\n",
       "        text-align: right;\n",
       "    }\n",
       "</style>\n",
       "<table border=\"1\" class=\"dataframe\">\n",
       "  <thead>\n",
       "    <tr style=\"text-align: right;\">\n",
       "      <th></th>\n",
       "      <th>Syear</th>\n",
       "      <th>App</th>\n",
       "      <th>Har</th>\n",
       "      <th>Dba</th>\n",
       "      <th>Ifc</th>\n",
       "      <th>Source</th>\n",
       "      <th>Telonuse</th>\n",
       "      <th>Nlan</th>\n",
       "      <th>T01</th>\n",
       "      <th>T02</th>\n",
       "      <th>...</th>\n",
       "      <th>T10</th>\n",
       "      <th>T11</th>\n",
       "      <th>T12</th>\n",
       "      <th>T13</th>\n",
       "      <th>T14</th>\n",
       "      <th>T15</th>\n",
       "      <th>Duration</th>\n",
       "      <th>Size</th>\n",
       "      <th>Time</th>\n",
       "      <th>Effort</th>\n",
       "    </tr>\n",
       "  </thead>\n",
       "  <tbody>\n",
       "    <tr>\n",
       "      <th>0</th>\n",
       "      <td>92</td>\n",
       "      <td>2</td>\n",
       "      <td>2</td>\n",
       "      <td>1</td>\n",
       "      <td>2</td>\n",
       "      <td>2</td>\n",
       "      <td>0</td>\n",
       "      <td>3</td>\n",
       "      <td>4</td>\n",
       "      <td>3</td>\n",
       "      <td>...</td>\n",
       "      <td>5</td>\n",
       "      <td>4</td>\n",
       "      <td>4</td>\n",
       "      <td>4</td>\n",
       "      <td>4</td>\n",
       "      <td>5</td>\n",
       "      <td>16</td>\n",
       "      <td>647</td>\n",
       "      <td>8</td>\n",
       "      <td>7871</td>\n",
       "    </tr>\n",
       "    <tr>\n",
       "      <th>1</th>\n",
       "      <td>93</td>\n",
       "      <td>2</td>\n",
       "      <td>2</td>\n",
       "      <td>1</td>\n",
       "      <td>2</td>\n",
       "      <td>2</td>\n",
       "      <td>0</td>\n",
       "      <td>3</td>\n",
       "      <td>2</td>\n",
       "      <td>3</td>\n",
       "      <td>...</td>\n",
       "      <td>3</td>\n",
       "      <td>4</td>\n",
       "      <td>4</td>\n",
       "      <td>4</td>\n",
       "      <td>4</td>\n",
       "      <td>4</td>\n",
       "      <td>5</td>\n",
       "      <td>130</td>\n",
       "      <td>9</td>\n",
       "      <td>845</td>\n",
       "    </tr>\n",
       "    <tr>\n",
       "      <th>2</th>\n",
       "      <td>90</td>\n",
       "      <td>1</td>\n",
       "      <td>2</td>\n",
       "      <td>1</td>\n",
       "      <td>2</td>\n",
       "      <td>2</td>\n",
       "      <td>0</td>\n",
       "      <td>2</td>\n",
       "      <td>3</td>\n",
       "      <td>3</td>\n",
       "      <td>...</td>\n",
       "      <td>5</td>\n",
       "      <td>4</td>\n",
       "      <td>3</td>\n",
       "      <td>2</td>\n",
       "      <td>3</td>\n",
       "      <td>3</td>\n",
       "      <td>8</td>\n",
       "      <td>254</td>\n",
       "      <td>6</td>\n",
       "      <td>2330</td>\n",
       "    </tr>\n",
       "    <tr>\n",
       "      <th>3</th>\n",
       "      <td>86</td>\n",
       "      <td>3</td>\n",
       "      <td>2</td>\n",
       "      <td>1</td>\n",
       "      <td>2</td>\n",
       "      <td>2</td>\n",
       "      <td>0</td>\n",
       "      <td>3</td>\n",
       "      <td>2</td>\n",
       "      <td>2</td>\n",
       "      <td>...</td>\n",
       "      <td>4</td>\n",
       "      <td>5</td>\n",
       "      <td>4</td>\n",
       "      <td>3</td>\n",
       "      <td>2</td>\n",
       "      <td>3</td>\n",
       "      <td>16</td>\n",
       "      <td>1056</td>\n",
       "      <td>2</td>\n",
       "      <td>21272</td>\n",
       "    </tr>\n",
       "    <tr>\n",
       "      <th>4</th>\n",
       "      <td>88</td>\n",
       "      <td>2</td>\n",
       "      <td>2</td>\n",
       "      <td>1</td>\n",
       "      <td>2</td>\n",
       "      <td>2</td>\n",
       "      <td>0</td>\n",
       "      <td>2</td>\n",
       "      <td>3</td>\n",
       "      <td>3</td>\n",
       "      <td>...</td>\n",
       "      <td>4</td>\n",
       "      <td>3</td>\n",
       "      <td>4</td>\n",
       "      <td>5</td>\n",
       "      <td>4</td>\n",
       "      <td>4</td>\n",
       "      <td>12</td>\n",
       "      <td>383</td>\n",
       "      <td>4</td>\n",
       "      <td>4224</td>\n",
       "    </tr>\n",
       "  </tbody>\n",
       "</table>\n",
       "<p>5 rows × 27 columns</p>\n",
       "</div>"
      ],
      "text/plain": [
       "   Syear  App  Har  Dba  Ifc  Source  Telonuse  Nlan  T01  T02  ...  T10  T11  \\\n",
       "0     92    2    2    1    2       2         0     3    4    3  ...    5    4   \n",
       "1     93    2    2    1    2       2         0     3    2    3  ...    3    4   \n",
       "2     90    1    2    1    2       2         0     2    3    3  ...    5    4   \n",
       "3     86    3    2    1    2       2         0     3    2    2  ...    4    5   \n",
       "4     88    2    2    1    2       2         0     2    3    3  ...    4    3   \n",
       "\n",
       "   T12  T13  T14  T15  Duration  Size  Time  Effort  \n",
       "0    4    4    4    5        16   647     8    7871  \n",
       "1    4    4    4    4         5   130     9     845  \n",
       "2    3    2    3    3         8   254     6    2330  \n",
       "3    4    3    2    3        16  1056     2   21272  \n",
       "4    4    5    4    4        12   383     4    4224  \n",
       "\n",
       "[5 rows x 27 columns]"
      ]
     },
     "execution_count": 4,
     "metadata": {},
     "output_type": "execute_result"
    }
   ],
   "source": [
    "df.head()"
   ]
  },
  {
   "cell_type": "code",
   "execution_count": 5,
   "id": "4483a38f",
   "metadata": {},
   "outputs": [
    {
     "data": {
      "text/html": [
       "<div>\n",
       "<style scoped>\n",
       "    .dataframe tbody tr th:only-of-type {\n",
       "        vertical-align: middle;\n",
       "    }\n",
       "\n",
       "    .dataframe tbody tr th {\n",
       "        vertical-align: top;\n",
       "    }\n",
       "\n",
       "    .dataframe thead th {\n",
       "        text-align: right;\n",
       "    }\n",
       "</style>\n",
       "<table border=\"1\" class=\"dataframe\">\n",
       "  <thead>\n",
       "    <tr style=\"text-align: right;\">\n",
       "      <th></th>\n",
       "      <th>Syear</th>\n",
       "      <th>App</th>\n",
       "      <th>Har</th>\n",
       "      <th>Dba</th>\n",
       "      <th>Ifc</th>\n",
       "      <th>Source</th>\n",
       "      <th>Telonuse</th>\n",
       "      <th>Nlan</th>\n",
       "      <th>T01</th>\n",
       "      <th>T02</th>\n",
       "      <th>...</th>\n",
       "      <th>T10</th>\n",
       "      <th>T11</th>\n",
       "      <th>T12</th>\n",
       "      <th>T13</th>\n",
       "      <th>T14</th>\n",
       "      <th>T15</th>\n",
       "      <th>Duration</th>\n",
       "      <th>Size</th>\n",
       "      <th>Time</th>\n",
       "      <th>Effort</th>\n",
       "    </tr>\n",
       "  </thead>\n",
       "  <tbody>\n",
       "    <tr>\n",
       "      <th>count</th>\n",
       "      <td>62.000000</td>\n",
       "      <td>62.000000</td>\n",
       "      <td>62.000000</td>\n",
       "      <td>62.000000</td>\n",
       "      <td>62.000000</td>\n",
       "      <td>62.000000</td>\n",
       "      <td>62.000000</td>\n",
       "      <td>62.000000</td>\n",
       "      <td>62.000000</td>\n",
       "      <td>62.000000</td>\n",
       "      <td>...</td>\n",
       "      <td>62.000000</td>\n",
       "      <td>62.000000</td>\n",
       "      <td>62.000000</td>\n",
       "      <td>62.000000</td>\n",
       "      <td>62.000000</td>\n",
       "      <td>62.000000</td>\n",
       "      <td>62.000000</td>\n",
       "      <td>62.000000</td>\n",
       "      <td>62.000000</td>\n",
       "      <td>62.000000</td>\n",
       "    </tr>\n",
       "    <tr>\n",
       "      <th>mean</th>\n",
       "      <td>89.580645</td>\n",
       "      <td>2.354839</td>\n",
       "      <td>2.612903</td>\n",
       "      <td>1.032258</td>\n",
       "      <td>1.935484</td>\n",
       "      <td>1.870968</td>\n",
       "      <td>0.241935</td>\n",
       "      <td>2.548387</td>\n",
       "      <td>3.048387</td>\n",
       "      <td>3.048387</td>\n",
       "      <td>...</td>\n",
       "      <td>3.612903</td>\n",
       "      <td>3.419355</td>\n",
       "      <td>3.822581</td>\n",
       "      <td>3.064516</td>\n",
       "      <td>3.258065</td>\n",
       "      <td>3.338710</td>\n",
       "      <td>17.209677</td>\n",
       "      <td>673.306452</td>\n",
       "      <td>5.580645</td>\n",
       "      <td>8223.209677</td>\n",
       "    </tr>\n",
       "    <tr>\n",
       "      <th>std</th>\n",
       "      <td>2.131331</td>\n",
       "      <td>0.993368</td>\n",
       "      <td>0.997617</td>\n",
       "      <td>0.442339</td>\n",
       "      <td>0.247676</td>\n",
       "      <td>0.337972</td>\n",
       "      <td>0.431751</td>\n",
       "      <td>1.019119</td>\n",
       "      <td>0.998809</td>\n",
       "      <td>0.711208</td>\n",
       "      <td>...</td>\n",
       "      <td>0.893599</td>\n",
       "      <td>0.984276</td>\n",
       "      <td>0.690075</td>\n",
       "      <td>0.955930</td>\n",
       "      <td>1.007114</td>\n",
       "      <td>0.745336</td>\n",
       "      <td>10.651156</td>\n",
       "      <td>784.084505</td>\n",
       "      <td>2.131331</td>\n",
       "      <td>10499.903168</td>\n",
       "    </tr>\n",
       "    <tr>\n",
       "      <th>min</th>\n",
       "      <td>85.000000</td>\n",
       "      <td>1.000000</td>\n",
       "      <td>1.000000</td>\n",
       "      <td>0.000000</td>\n",
       "      <td>1.000000</td>\n",
       "      <td>1.000000</td>\n",
       "      <td>0.000000</td>\n",
       "      <td>1.000000</td>\n",
       "      <td>1.000000</td>\n",
       "      <td>1.000000</td>\n",
       "      <td>...</td>\n",
       "      <td>2.000000</td>\n",
       "      <td>2.000000</td>\n",
       "      <td>2.000000</td>\n",
       "      <td>1.000000</td>\n",
       "      <td>1.000000</td>\n",
       "      <td>1.000000</td>\n",
       "      <td>4.000000</td>\n",
       "      <td>48.000000</td>\n",
       "      <td>1.000000</td>\n",
       "      <td>583.000000</td>\n",
       "    </tr>\n",
       "    <tr>\n",
       "      <th>25%</th>\n",
       "      <td>88.000000</td>\n",
       "      <td>2.000000</td>\n",
       "      <td>2.000000</td>\n",
       "      <td>1.000000</td>\n",
       "      <td>2.000000</td>\n",
       "      <td>2.000000</td>\n",
       "      <td>0.000000</td>\n",
       "      <td>2.000000</td>\n",
       "      <td>2.000000</td>\n",
       "      <td>3.000000</td>\n",
       "      <td>...</td>\n",
       "      <td>3.000000</td>\n",
       "      <td>3.000000</td>\n",
       "      <td>4.000000</td>\n",
       "      <td>2.000000</td>\n",
       "      <td>3.000000</td>\n",
       "      <td>3.000000</td>\n",
       "      <td>10.000000</td>\n",
       "      <td>232.500000</td>\n",
       "      <td>4.000000</td>\n",
       "      <td>2388.750000</td>\n",
       "    </tr>\n",
       "    <tr>\n",
       "      <th>50%</th>\n",
       "      <td>90.000000</td>\n",
       "      <td>2.000000</td>\n",
       "      <td>2.000000</td>\n",
       "      <td>1.000000</td>\n",
       "      <td>2.000000</td>\n",
       "      <td>2.000000</td>\n",
       "      <td>0.000000</td>\n",
       "      <td>3.000000</td>\n",
       "      <td>3.000000</td>\n",
       "      <td>3.000000</td>\n",
       "      <td>...</td>\n",
       "      <td>4.000000</td>\n",
       "      <td>3.000000</td>\n",
       "      <td>4.000000</td>\n",
       "      <td>3.000000</td>\n",
       "      <td>3.000000</td>\n",
       "      <td>3.000000</td>\n",
       "      <td>13.500000</td>\n",
       "      <td>385.000000</td>\n",
       "      <td>6.000000</td>\n",
       "      <td>5189.500000</td>\n",
       "    </tr>\n",
       "    <tr>\n",
       "      <th>75%</th>\n",
       "      <td>91.000000</td>\n",
       "      <td>3.000000</td>\n",
       "      <td>3.000000</td>\n",
       "      <td>1.000000</td>\n",
       "      <td>2.000000</td>\n",
       "      <td>2.000000</td>\n",
       "      <td>0.000000</td>\n",
       "      <td>3.000000</td>\n",
       "      <td>4.000000</td>\n",
       "      <td>3.000000</td>\n",
       "      <td>...</td>\n",
       "      <td>4.000000</td>\n",
       "      <td>4.000000</td>\n",
       "      <td>4.000000</td>\n",
       "      <td>4.000000</td>\n",
       "      <td>4.000000</td>\n",
       "      <td>4.000000</td>\n",
       "      <td>23.500000</td>\n",
       "      <td>640.750000</td>\n",
       "      <td>7.000000</td>\n",
       "      <td>9308.000000</td>\n",
       "    </tr>\n",
       "    <tr>\n",
       "      <th>max</th>\n",
       "      <td>93.000000</td>\n",
       "      <td>5.000000</td>\n",
       "      <td>5.000000</td>\n",
       "      <td>4.000000</td>\n",
       "      <td>2.000000</td>\n",
       "      <td>2.000000</td>\n",
       "      <td>1.000000</td>\n",
       "      <td>4.000000</td>\n",
       "      <td>5.000000</td>\n",
       "      <td>5.000000</td>\n",
       "      <td>...</td>\n",
       "      <td>5.000000</td>\n",
       "      <td>5.000000</td>\n",
       "      <td>5.000000</td>\n",
       "      <td>5.000000</td>\n",
       "      <td>5.000000</td>\n",
       "      <td>5.000000</td>\n",
       "      <td>54.000000</td>\n",
       "      <td>3643.000000</td>\n",
       "      <td>9.000000</td>\n",
       "      <td>63694.000000</td>\n",
       "    </tr>\n",
       "  </tbody>\n",
       "</table>\n",
       "<p>8 rows × 27 columns</p>\n",
       "</div>"
      ],
      "text/plain": [
       "           Syear        App        Har        Dba        Ifc     Source  \\\n",
       "count  62.000000  62.000000  62.000000  62.000000  62.000000  62.000000   \n",
       "mean   89.580645   2.354839   2.612903   1.032258   1.935484   1.870968   \n",
       "std     2.131331   0.993368   0.997617   0.442339   0.247676   0.337972   \n",
       "min    85.000000   1.000000   1.000000   0.000000   1.000000   1.000000   \n",
       "25%    88.000000   2.000000   2.000000   1.000000   2.000000   2.000000   \n",
       "50%    90.000000   2.000000   2.000000   1.000000   2.000000   2.000000   \n",
       "75%    91.000000   3.000000   3.000000   1.000000   2.000000   2.000000   \n",
       "max    93.000000   5.000000   5.000000   4.000000   2.000000   2.000000   \n",
       "\n",
       "        Telonuse       Nlan        T01        T02  ...        T10        T11  \\\n",
       "count  62.000000  62.000000  62.000000  62.000000  ...  62.000000  62.000000   \n",
       "mean    0.241935   2.548387   3.048387   3.048387  ...   3.612903   3.419355   \n",
       "std     0.431751   1.019119   0.998809   0.711208  ...   0.893599   0.984276   \n",
       "min     0.000000   1.000000   1.000000   1.000000  ...   2.000000   2.000000   \n",
       "25%     0.000000   2.000000   2.000000   3.000000  ...   3.000000   3.000000   \n",
       "50%     0.000000   3.000000   3.000000   3.000000  ...   4.000000   3.000000   \n",
       "75%     0.000000   3.000000   4.000000   3.000000  ...   4.000000   4.000000   \n",
       "max     1.000000   4.000000   5.000000   5.000000  ...   5.000000   5.000000   \n",
       "\n",
       "             T12        T13        T14        T15   Duration         Size  \\\n",
       "count  62.000000  62.000000  62.000000  62.000000  62.000000    62.000000   \n",
       "mean    3.822581   3.064516   3.258065   3.338710  17.209677   673.306452   \n",
       "std     0.690075   0.955930   1.007114   0.745336  10.651156   784.084505   \n",
       "min     2.000000   1.000000   1.000000   1.000000   4.000000    48.000000   \n",
       "25%     4.000000   2.000000   3.000000   3.000000  10.000000   232.500000   \n",
       "50%     4.000000   3.000000   3.000000   3.000000  13.500000   385.000000   \n",
       "75%     4.000000   4.000000   4.000000   4.000000  23.500000   640.750000   \n",
       "max     5.000000   5.000000   5.000000   5.000000  54.000000  3643.000000   \n",
       "\n",
       "            Time        Effort  \n",
       "count  62.000000     62.000000  \n",
       "mean    5.580645   8223.209677  \n",
       "std     2.131331  10499.903168  \n",
       "min     1.000000    583.000000  \n",
       "25%     4.000000   2388.750000  \n",
       "50%     6.000000   5189.500000  \n",
       "75%     7.000000   9308.000000  \n",
       "max     9.000000  63694.000000  \n",
       "\n",
       "[8 rows x 27 columns]"
      ]
     },
     "execution_count": 5,
     "metadata": {},
     "output_type": "execute_result"
    }
   ],
   "source": [
    "df.describe()"
   ]
  },
  {
   "cell_type": "code",
   "execution_count": 6,
   "id": "51f2223c",
   "metadata": {},
   "outputs": [
    {
     "name": "stdout",
     "output_type": "stream",
     "text": [
      "<class 'pandas.core.series.Series'>\n",
      "<class 'pandas.core.series.Series'>\n",
      "<class 'pandas.core.series.Series'>\n",
      "<class 'pandas.core.series.Series'>\n",
      "<class 'pandas.core.series.Series'>\n",
      "<class 'pandas.core.series.Series'>\n",
      "<class 'pandas.core.series.Series'>\n",
      "<class 'pandas.core.series.Series'>\n",
      "<class 'pandas.core.series.Series'>\n",
      "<class 'pandas.core.series.Series'>\n",
      "<class 'pandas.core.series.Series'>\n",
      "<class 'pandas.core.series.Series'>\n",
      "<class 'pandas.core.series.Series'>\n",
      "<class 'pandas.core.series.Series'>\n",
      "<class 'pandas.core.series.Series'>\n",
      "<class 'pandas.core.series.Series'>\n",
      "<class 'pandas.core.series.Series'>\n",
      "<class 'pandas.core.series.Series'>\n",
      "<class 'pandas.core.series.Series'>\n",
      "<class 'pandas.core.series.Series'>\n",
      "<class 'pandas.core.series.Series'>\n",
      "<class 'pandas.core.series.Series'>\n",
      "<class 'pandas.core.series.Series'>\n",
      "<class 'pandas.core.series.Series'>\n",
      "<class 'pandas.core.series.Series'>\n",
      "<class 'pandas.core.series.Series'>\n",
      "<class 'pandas.core.series.Series'>\n"
     ]
    }
   ],
   "source": [
    "for i in df.columns:\n",
    "    print(type(df[i]))"
   ]
  },
  {
   "cell_type": "code",
   "execution_count": 7,
   "id": "716bdf53",
   "metadata": {},
   "outputs": [
    {
     "name": "stdout",
     "output_type": "stream",
     "text": [
      "int64\n",
      "int64\n",
      "int64\n",
      "int64\n",
      "int64\n",
      "int64\n",
      "int64\n",
      "int64\n",
      "int64\n",
      "int64\n",
      "int64\n",
      "int64\n",
      "int64\n",
      "int64\n",
      "int64\n",
      "int64\n",
      "int64\n",
      "int64\n",
      "int64\n",
      "int64\n",
      "int64\n",
      "int64\n",
      "int64\n",
      "int64\n",
      "int64\n",
      "int64\n",
      "int64\n"
     ]
    }
   ],
   "source": [
    "for i in df.columns:\n",
    "    print(df[i].dtype)"
   ]
  },
  {
   "cell_type": "code",
   "execution_count": 8,
   "id": "5379602e",
   "metadata": {},
   "outputs": [
    {
     "data": {
      "text/plain": [
       "Syear       0\n",
       "App         0\n",
       "Har         0\n",
       "Dba         0\n",
       "Ifc         0\n",
       "Source      0\n",
       "Telonuse    0\n",
       "Nlan        0\n",
       "T01         0\n",
       "T02         0\n",
       "T03         0\n",
       "T04         0\n",
       "T05         0\n",
       "T06         0\n",
       "T07         0\n",
       "T08         0\n",
       "T09         0\n",
       "T10         0\n",
       "T11         0\n",
       "T12         0\n",
       "T13         0\n",
       "T14         0\n",
       "T15         0\n",
       "Duration    0\n",
       "Size        0\n",
       "Time        0\n",
       "Effort      0\n",
       "dtype: int64"
      ]
     },
     "execution_count": 8,
     "metadata": {},
     "output_type": "execute_result"
    }
   ],
   "source": [
    "df.isna().sum()"
   ]
  },
  {
   "cell_type": "code",
   "execution_count": 9,
   "id": "d25d2fec",
   "metadata": {},
   "outputs": [
    {
     "data": {
      "text/plain": [
       "<AxesSubplot:>"
      ]
     },
     "execution_count": 9,
     "metadata": {},
     "output_type": "execute_result"
    },
    {
     "data": {
      "image/png": "[encoded data removed]",
      "text/plain": [
       "<Figure size 432x288 with 1 Axes>"
      ]
     },
     "metadata": {
      "needs_background": "light"
     },
     "output_type": "display_data"
    }
   ],
   "source": [
    "import seaborn as sns\n",
    "\n",
    "sns.heatmap(df.isnull(),yticklabels=False,cbar=False,cmap='viridis')  #Checking how many missing values are there in it"
   ]
  },
  {
   "cell_type": "code",
   "execution_count": 10,
   "id": "6765a23c",
   "metadata": {},
   "outputs": [],
   "source": [
    "X = [['Syear','App','Har', 'Dba', 'Ifc', 'Source' , 'Telonuse','Nlan', 'T01', 'T02','T03', 'T04' ,'T05' , 'T06', 'T07', 'T08', 'T09', 'T10','T11', 'T12','T13', 'T14','T15', 'Duration','Size', 'Time', 'Effort']]"
   ]
  },
  {
   "cell_type": "markdown",
   "id": "b2873faf",
   "metadata": {},
   "source": [
    "# define scalar values"
   ]
  },
  {
   "cell_type": "code",
   "execution_count": 11,
   "id": "62b5007b",
   "metadata": {},
   "outputs": [],
   "source": [
    "# a   =1\n",
    "# b   =2\n",
    "# c   =3\n",
    "# d   =4\n",
    "# e   =5\n",
    "# f   =6\n",
    "# g   =7\n",
    "# h   =8\n",
    "# i   =9\n",
    "# j   =10\n",
    "# k   =11\n",
    "# l   =12\n",
    "# m   =13\n",
    "# n   =14  \n",
    "# o   =15\n",
    "# p   =16\n",
    "# q   =17\n",
    "# r   =18\n",
    "# s   =19\n",
    "# t   =20\n",
    "# u   =21\n",
    "# v   =22\n",
    "# w   =23\n",
    "# x   =24\n",
    "# y   =25\n",
    "# z   =26\n",
    "# aa  =27"
   ]
  },
  {
   "cell_type": "markdown",
   "id": "2686f62f",
   "metadata": {},
   "source": [
    "# create DataFrame by transforming scalar values to list\n"
   ]
  },
  {
   "cell_type": "code",
   "execution_count": 12,
   "id": "b2f3e2b5",
   "metadata": {},
   "outputs": [],
   "source": [
    "# df = pd.DataFrame({'Syear': [a],'App': [b],'Har': [c], 'Dba':[d], 'Ifc' :[e], 'Source' : [f], 'Telonuse': [g],'Nlan' : [h], 'T01': [i], 'T02': [j],'T03' : [k], 'T04': [l],'T05': [m], 'T06': [n], 'T07':[o], 'T08':[p], 'T09':[q], 'T10':[r],'T11':[s], 'T12':[t],'T13':[u], 'T14':[v],'T15':[w], 'Duration':[x],'Size':[y], 'Time':[z], 'Effort':[aa]})"
   ]
  },
  {
   "cell_type": "code",
   "execution_count": 13,
   "id": "a37c6774",
   "metadata": {},
   "outputs": [
    {
     "data": {
      "text/html": [
       "<div>\n",
       "<style scoped>\n",
       "    .dataframe tbody tr th:only-of-type {\n",
       "        vertical-align: middle;\n",
       "    }\n",
       "\n",
       "    .dataframe tbody tr th {\n",
       "        vertical-align: top;\n",
       "    }\n",
       "\n",
       "    .dataframe thead th {\n",
       "        text-align: right;\n",
       "    }\n",
       "</style>\n",
       "<table border=\"1\" class=\"dataframe\">\n",
       "  <thead>\n",
       "    <tr style=\"text-align: right;\">\n",
       "      <th></th>\n",
       "      <th>Syear</th>\n",
       "      <th>App</th>\n",
       "      <th>Har</th>\n",
       "      <th>Dba</th>\n",
       "      <th>Ifc</th>\n",
       "      <th>Source</th>\n",
       "      <th>Telonuse</th>\n",
       "      <th>Nlan</th>\n",
       "      <th>T01</th>\n",
       "      <th>T02</th>\n",
       "      <th>...</th>\n",
       "      <th>T10</th>\n",
       "      <th>T11</th>\n",
       "      <th>T12</th>\n",
       "      <th>T13</th>\n",
       "      <th>T14</th>\n",
       "      <th>T15</th>\n",
       "      <th>Duration</th>\n",
       "      <th>Size</th>\n",
       "      <th>Time</th>\n",
       "      <th>Effort</th>\n",
       "    </tr>\n",
       "  </thead>\n",
       "  <tbody>\n",
       "    <tr>\n",
       "      <th>0</th>\n",
       "      <td>92</td>\n",
       "      <td>2</td>\n",
       "      <td>2</td>\n",
       "      <td>1</td>\n",
       "      <td>2</td>\n",
       "      <td>2</td>\n",
       "      <td>0</td>\n",
       "      <td>3</td>\n",
       "      <td>4</td>\n",
       "      <td>3</td>\n",
       "      <td>...</td>\n",
       "      <td>5</td>\n",
       "      <td>4</td>\n",
       "      <td>4</td>\n",
       "      <td>4</td>\n",
       "      <td>4</td>\n",
       "      <td>5</td>\n",
       "      <td>16</td>\n",
       "      <td>647</td>\n",
       "      <td>8</td>\n",
       "      <td>7871</td>\n",
       "    </tr>\n",
       "    <tr>\n",
       "      <th>1</th>\n",
       "      <td>93</td>\n",
       "      <td>2</td>\n",
       "      <td>2</td>\n",
       "      <td>1</td>\n",
       "      <td>2</td>\n",
       "      <td>2</td>\n",
       "      <td>0</td>\n",
       "      <td>3</td>\n",
       "      <td>2</td>\n",
       "      <td>3</td>\n",
       "      <td>...</td>\n",
       "      <td>3</td>\n",
       "      <td>4</td>\n",
       "      <td>4</td>\n",
       "      <td>4</td>\n",
       "      <td>4</td>\n",
       "      <td>4</td>\n",
       "      <td>5</td>\n",
       "      <td>130</td>\n",
       "      <td>9</td>\n",
       "      <td>845</td>\n",
       "    </tr>\n",
       "    <tr>\n",
       "      <th>2</th>\n",
       "      <td>90</td>\n",
       "      <td>1</td>\n",
       "      <td>2</td>\n",
       "      <td>1</td>\n",
       "      <td>2</td>\n",
       "      <td>2</td>\n",
       "      <td>0</td>\n",
       "      <td>2</td>\n",
       "      <td>3</td>\n",
       "      <td>3</td>\n",
       "      <td>...</td>\n",
       "      <td>5</td>\n",
       "      <td>4</td>\n",
       "      <td>3</td>\n",
       "      <td>2</td>\n",
       "      <td>3</td>\n",
       "      <td>3</td>\n",
       "      <td>8</td>\n",
       "      <td>254</td>\n",
       "      <td>6</td>\n",
       "      <td>2330</td>\n",
       "    </tr>\n",
       "    <tr>\n",
       "      <th>3</th>\n",
       "      <td>86</td>\n",
       "      <td>3</td>\n",
       "      <td>2</td>\n",
       "      <td>1</td>\n",
       "      <td>2</td>\n",
       "      <td>2</td>\n",
       "      <td>0</td>\n",
       "      <td>3</td>\n",
       "      <td>2</td>\n",
       "      <td>2</td>\n",
       "      <td>...</td>\n",
       "      <td>4</td>\n",
       "      <td>5</td>\n",
       "      <td>4</td>\n",
       "      <td>3</td>\n",
       "      <td>2</td>\n",
       "      <td>3</td>\n",
       "      <td>16</td>\n",
       "      <td>1056</td>\n",
       "      <td>2</td>\n",
       "      <td>21272</td>\n",
       "    </tr>\n",
       "    <tr>\n",
       "      <th>4</th>\n",
       "      <td>88</td>\n",
       "      <td>2</td>\n",
       "      <td>2</td>\n",
       "      <td>1</td>\n",
       "      <td>2</td>\n",
       "      <td>2</td>\n",
       "      <td>0</td>\n",
       "      <td>2</td>\n",
       "      <td>3</td>\n",
       "      <td>3</td>\n",
       "      <td>...</td>\n",
       "      <td>4</td>\n",
       "      <td>3</td>\n",
       "      <td>4</td>\n",
       "      <td>5</td>\n",
       "      <td>4</td>\n",
       "      <td>4</td>\n",
       "      <td>12</td>\n",
       "      <td>383</td>\n",
       "      <td>4</td>\n",
       "      <td>4224</td>\n",
       "    </tr>\n",
       "    <tr>\n",
       "      <th>...</th>\n",
       "      <td>...</td>\n",
       "      <td>...</td>\n",
       "      <td>...</td>\n",
       "      <td>...</td>\n",
       "      <td>...</td>\n",
       "      <td>...</td>\n",
       "      <td>...</td>\n",
       "      <td>...</td>\n",
       "      <td>...</td>\n",
       "      <td>...</td>\n",
       "      <td>...</td>\n",
       "      <td>...</td>\n",
       "      <td>...</td>\n",
       "      <td>...</td>\n",
       "      <td>...</td>\n",
       "      <td>...</td>\n",
       "      <td>...</td>\n",
       "      <td>...</td>\n",
       "      <td>...</td>\n",
       "      <td>...</td>\n",
       "      <td>...</td>\n",
       "    </tr>\n",
       "    <tr>\n",
       "      <th>57</th>\n",
       "      <td>91</td>\n",
       "      <td>5</td>\n",
       "      <td>5</td>\n",
       "      <td>1</td>\n",
       "      <td>2</td>\n",
       "      <td>1</td>\n",
       "      <td>0</td>\n",
       "      <td>3</td>\n",
       "      <td>4</td>\n",
       "      <td>2</td>\n",
       "      <td>...</td>\n",
       "      <td>3</td>\n",
       "      <td>3</td>\n",
       "      <td>4</td>\n",
       "      <td>3</td>\n",
       "      <td>4</td>\n",
       "      <td>4</td>\n",
       "      <td>20</td>\n",
       "      <td>495</td>\n",
       "      <td>7</td>\n",
       "      <td>7105</td>\n",
       "    </tr>\n",
       "    <tr>\n",
       "      <th>58</th>\n",
       "      <td>90</td>\n",
       "      <td>3</td>\n",
       "      <td>3</td>\n",
       "      <td>1</td>\n",
       "      <td>2</td>\n",
       "      <td>2</td>\n",
       "      <td>1</td>\n",
       "      <td>4</td>\n",
       "      <td>2</td>\n",
       "      <td>3</td>\n",
       "      <td>...</td>\n",
       "      <td>3</td>\n",
       "      <td>4</td>\n",
       "      <td>3</td>\n",
       "      <td>2</td>\n",
       "      <td>4</td>\n",
       "      <td>3</td>\n",
       "      <td>16</td>\n",
       "      <td>622</td>\n",
       "      <td>6</td>\n",
       "      <td>6816</td>\n",
       "    </tr>\n",
       "    <tr>\n",
       "      <th>59</th>\n",
       "      <td>92</td>\n",
       "      <td>1</td>\n",
       "      <td>2</td>\n",
       "      <td>1</td>\n",
       "      <td>2</td>\n",
       "      <td>2</td>\n",
       "      <td>1</td>\n",
       "      <td>2</td>\n",
       "      <td>3</td>\n",
       "      <td>3</td>\n",
       "      <td>...</td>\n",
       "      <td>5</td>\n",
       "      <td>5</td>\n",
       "      <td>4</td>\n",
       "      <td>3</td>\n",
       "      <td>2</td>\n",
       "      <td>3</td>\n",
       "      <td>12</td>\n",
       "      <td>204</td>\n",
       "      <td>8</td>\n",
       "      <td>4620</td>\n",
       "    </tr>\n",
       "    <tr>\n",
       "      <th>60</th>\n",
       "      <td>90</td>\n",
       "      <td>3</td>\n",
       "      <td>3</td>\n",
       "      <td>1</td>\n",
       "      <td>2</td>\n",
       "      <td>2</td>\n",
       "      <td>1</td>\n",
       "      <td>4</td>\n",
       "      <td>2</td>\n",
       "      <td>3</td>\n",
       "      <td>...</td>\n",
       "      <td>4</td>\n",
       "      <td>5</td>\n",
       "      <td>5</td>\n",
       "      <td>1</td>\n",
       "      <td>5</td>\n",
       "      <td>4</td>\n",
       "      <td>15</td>\n",
       "      <td>616</td>\n",
       "      <td>6</td>\n",
       "      <td>7451</td>\n",
       "    </tr>\n",
       "    <tr>\n",
       "      <th>61</th>\n",
       "      <td>91</td>\n",
       "      <td>3</td>\n",
       "      <td>3</td>\n",
       "      <td>1</td>\n",
       "      <td>2</td>\n",
       "      <td>2</td>\n",
       "      <td>0</td>\n",
       "      <td>3</td>\n",
       "      <td>2</td>\n",
       "      <td>4</td>\n",
       "      <td>...</td>\n",
       "      <td>5</td>\n",
       "      <td>5</td>\n",
       "      <td>4</td>\n",
       "      <td>4</td>\n",
       "      <td>5</td>\n",
       "      <td>4</td>\n",
       "      <td>33</td>\n",
       "      <td>3643</td>\n",
       "      <td>7</td>\n",
       "      <td>39479</td>\n",
       "    </tr>\n",
       "  </tbody>\n",
       "</table>\n",
       "<p>62 rows × 27 columns</p>\n",
       "</div>"
      ],
      "text/plain": [
       "    Syear  App  Har  Dba  Ifc  Source  Telonuse  Nlan  T01  T02  ...  T10  \\\n",
       "0      92    2    2    1    2       2         0     3    4    3  ...    5   \n",
       "1      93    2    2    1    2       2         0     3    2    3  ...    3   \n",
       "2      90    1    2    1    2       2         0     2    3    3  ...    5   \n",
       "3      86    3    2    1    2       2         0     3    2    2  ...    4   \n",
       "4      88    2    2    1    2       2         0     2    3    3  ...    4   \n",
       "..    ...  ...  ...  ...  ...     ...       ...   ...  ...  ...  ...  ...   \n",
       "57     91    5    5    1    2       1         0     3    4    2  ...    3   \n",
       "58     90    3    3    1    2       2         1     4    2    3  ...    3   \n",
       "59     92    1    2    1    2       2         1     2    3    3  ...    5   \n",
       "60     90    3    3    1    2       2         1     4    2    3  ...    4   \n",
       "61     91    3    3    1    2       2         0     3    2    4  ...    5   \n",
       "\n",
       "    T11  T12  T13  T14  T15  Duration  Size  Time  Effort  \n",
       "0     4    4    4    4    5        16   647     8    7871  \n",
       "1     4    4    4    4    4         5   130     9     845  \n",
       "2     4    3    2    3    3         8   254     6    2330  \n",
       "3     5    4    3    2    3        16  1056     2   21272  \n",
       "4     3    4    5    4    4        12   383     4    4224  \n",
       "..  ...  ...  ...  ...  ...       ...   ...   ...     ...  \n",
       "57    3    4    3    4    4        20   495     7    7105  \n",
       "58    4    3    2    4    3        16   622     6    6816  \n",
       "59    5    4    3    2    3        12   204     8    4620  \n",
       "60    5    5    1    5    4        15   616     6    7451  \n",
       "61    5    4    4    5    4        33  3643     7   39479  \n",
       "\n",
       "[62 rows x 27 columns]"
      ]
     },
     "execution_count": 13,
     "metadata": {},
     "output_type": "execute_result"
    }
   ],
   "source": [
    "df"
   ]
  },
  {
   "cell_type": "code",
   "execution_count": 14,
   "id": "bbc287e8",
   "metadata": {},
   "outputs": [],
   "source": [
    "X=df.drop('Effort', axis=1)\n",
    "y=df['Effort']"
   ]
  },
  {
   "cell_type": "code",
   "execution_count": 15,
   "id": "adf07bdb",
   "metadata": {},
   "outputs": [
    {
     "data": {
      "text/html": [
       "<div>\n",
       "<style scoped>\n",
       "    .dataframe tbody tr th:only-of-type {\n",
       "        vertical-align: middle;\n",
       "    }\n",
       "\n",
       "    .dataframe tbody tr th {\n",
       "        vertical-align: top;\n",
       "    }\n",
       "\n",
       "    .dataframe thead th {\n",
       "        text-align: right;\n",
       "    }\n",
       "</style>\n",
       "<table border=\"1\" class=\"dataframe\">\n",
       "  <thead>\n",
       "    <tr style=\"text-align: right;\">\n",
       "      <th></th>\n",
       "      <th>Syear</th>\n",
       "      <th>App</th>\n",
       "      <th>Har</th>\n",
       "      <th>Dba</th>\n",
       "      <th>Ifc</th>\n",
       "      <th>Source</th>\n",
       "      <th>Telonuse</th>\n",
       "      <th>Nlan</th>\n",
       "      <th>T01</th>\n",
       "      <th>T02</th>\n",
       "      <th>...</th>\n",
       "      <th>T09</th>\n",
       "      <th>T10</th>\n",
       "      <th>T11</th>\n",
       "      <th>T12</th>\n",
       "      <th>T13</th>\n",
       "      <th>T14</th>\n",
       "      <th>T15</th>\n",
       "      <th>Duration</th>\n",
       "      <th>Size</th>\n",
       "      <th>Time</th>\n",
       "    </tr>\n",
       "  </thead>\n",
       "  <tbody>\n",
       "    <tr>\n",
       "      <th>0</th>\n",
       "      <td>92</td>\n",
       "      <td>2</td>\n",
       "      <td>2</td>\n",
       "      <td>1</td>\n",
       "      <td>2</td>\n",
       "      <td>2</td>\n",
       "      <td>0</td>\n",
       "      <td>3</td>\n",
       "      <td>4</td>\n",
       "      <td>3</td>\n",
       "      <td>...</td>\n",
       "      <td>4</td>\n",
       "      <td>5</td>\n",
       "      <td>4</td>\n",
       "      <td>4</td>\n",
       "      <td>4</td>\n",
       "      <td>4</td>\n",
       "      <td>5</td>\n",
       "      <td>16</td>\n",
       "      <td>647</td>\n",
       "      <td>8</td>\n",
       "    </tr>\n",
       "    <tr>\n",
       "      <th>1</th>\n",
       "      <td>93</td>\n",
       "      <td>2</td>\n",
       "      <td>2</td>\n",
       "      <td>1</td>\n",
       "      <td>2</td>\n",
       "      <td>2</td>\n",
       "      <td>0</td>\n",
       "      <td>3</td>\n",
       "      <td>2</td>\n",
       "      <td>3</td>\n",
       "      <td>...</td>\n",
       "      <td>4</td>\n",
       "      <td>3</td>\n",
       "      <td>4</td>\n",
       "      <td>4</td>\n",
       "      <td>4</td>\n",
       "      <td>4</td>\n",
       "      <td>4</td>\n",
       "      <td>5</td>\n",
       "      <td>130</td>\n",
       "      <td>9</td>\n",
       "    </tr>\n",
       "    <tr>\n",
       "      <th>2</th>\n",
       "      <td>90</td>\n",
       "      <td>1</td>\n",
       "      <td>2</td>\n",
       "      <td>1</td>\n",
       "      <td>2</td>\n",
       "      <td>2</td>\n",
       "      <td>0</td>\n",
       "      <td>2</td>\n",
       "      <td>3</td>\n",
       "      <td>3</td>\n",
       "      <td>...</td>\n",
       "      <td>4</td>\n",
       "      <td>5</td>\n",
       "      <td>4</td>\n",
       "      <td>3</td>\n",
       "      <td>2</td>\n",
       "      <td>3</td>\n",
       "      <td>3</td>\n",
       "      <td>8</td>\n",
       "      <td>254</td>\n",
       "      <td>6</td>\n",
       "    </tr>\n",
       "    <tr>\n",
       "      <th>3</th>\n",
       "      <td>86</td>\n",
       "      <td>3</td>\n",
       "      <td>2</td>\n",
       "      <td>1</td>\n",
       "      <td>2</td>\n",
       "      <td>2</td>\n",
       "      <td>0</td>\n",
       "      <td>3</td>\n",
       "      <td>2</td>\n",
       "      <td>2</td>\n",
       "      <td>...</td>\n",
       "      <td>4</td>\n",
       "      <td>4</td>\n",
       "      <td>5</td>\n",
       "      <td>4</td>\n",
       "      <td>3</td>\n",
       "      <td>2</td>\n",
       "      <td>3</td>\n",
       "      <td>16</td>\n",
       "      <td>1056</td>\n",
       "      <td>2</td>\n",
       "    </tr>\n",
       "    <tr>\n",
       "      <th>4</th>\n",
       "      <td>88</td>\n",
       "      <td>2</td>\n",
       "      <td>2</td>\n",
       "      <td>1</td>\n",
       "      <td>2</td>\n",
       "      <td>2</td>\n",
       "      <td>0</td>\n",
       "      <td>2</td>\n",
       "      <td>3</td>\n",
       "      <td>3</td>\n",
       "      <td>...</td>\n",
       "      <td>4</td>\n",
       "      <td>4</td>\n",
       "      <td>3</td>\n",
       "      <td>4</td>\n",
       "      <td>5</td>\n",
       "      <td>4</td>\n",
       "      <td>4</td>\n",
       "      <td>12</td>\n",
       "      <td>383</td>\n",
       "      <td>4</td>\n",
       "    </tr>\n",
       "    <tr>\n",
       "      <th>...</th>\n",
       "      <td>...</td>\n",
       "      <td>...</td>\n",
       "      <td>...</td>\n",
       "      <td>...</td>\n",
       "      <td>...</td>\n",
       "      <td>...</td>\n",
       "      <td>...</td>\n",
       "      <td>...</td>\n",
       "      <td>...</td>\n",
       "      <td>...</td>\n",
       "      <td>...</td>\n",
       "      <td>...</td>\n",
       "      <td>...</td>\n",
       "      <td>...</td>\n",
       "      <td>...</td>\n",
       "      <td>...</td>\n",
       "      <td>...</td>\n",
       "      <td>...</td>\n",
       "      <td>...</td>\n",
       "      <td>...</td>\n",
       "      <td>...</td>\n",
       "    </tr>\n",
       "    <tr>\n",
       "      <th>57</th>\n",
       "      <td>91</td>\n",
       "      <td>5</td>\n",
       "      <td>5</td>\n",
       "      <td>1</td>\n",
       "      <td>2</td>\n",
       "      <td>1</td>\n",
       "      <td>0</td>\n",
       "      <td>3</td>\n",
       "      <td>4</td>\n",
       "      <td>2</td>\n",
       "      <td>...</td>\n",
       "      <td>5</td>\n",
       "      <td>3</td>\n",
       "      <td>3</td>\n",
       "      <td>4</td>\n",
       "      <td>3</td>\n",
       "      <td>4</td>\n",
       "      <td>4</td>\n",
       "      <td>20</td>\n",
       "      <td>495</td>\n",
       "      <td>7</td>\n",
       "    </tr>\n",
       "    <tr>\n",
       "      <th>58</th>\n",
       "      <td>90</td>\n",
       "      <td>3</td>\n",
       "      <td>3</td>\n",
       "      <td>1</td>\n",
       "      <td>2</td>\n",
       "      <td>2</td>\n",
       "      <td>1</td>\n",
       "      <td>4</td>\n",
       "      <td>2</td>\n",
       "      <td>3</td>\n",
       "      <td>...</td>\n",
       "      <td>4</td>\n",
       "      <td>3</td>\n",
       "      <td>4</td>\n",
       "      <td>3</td>\n",
       "      <td>2</td>\n",
       "      <td>4</td>\n",
       "      <td>3</td>\n",
       "      <td>16</td>\n",
       "      <td>622</td>\n",
       "      <td>6</td>\n",
       "    </tr>\n",
       "    <tr>\n",
       "      <th>59</th>\n",
       "      <td>92</td>\n",
       "      <td>1</td>\n",
       "      <td>2</td>\n",
       "      <td>1</td>\n",
       "      <td>2</td>\n",
       "      <td>2</td>\n",
       "      <td>1</td>\n",
       "      <td>2</td>\n",
       "      <td>3</td>\n",
       "      <td>3</td>\n",
       "      <td>...</td>\n",
       "      <td>5</td>\n",
       "      <td>5</td>\n",
       "      <td>5</td>\n",
       "      <td>4</td>\n",
       "      <td>3</td>\n",
       "      <td>2</td>\n",
       "      <td>3</td>\n",
       "      <td>12</td>\n",
       "      <td>204</td>\n",
       "      <td>8</td>\n",
       "    </tr>\n",
       "    <tr>\n",
       "      <th>60</th>\n",
       "      <td>90</td>\n",
       "      <td>3</td>\n",
       "      <td>3</td>\n",
       "      <td>1</td>\n",
       "      <td>2</td>\n",
       "      <td>2</td>\n",
       "      <td>1</td>\n",
       "      <td>4</td>\n",
       "      <td>2</td>\n",
       "      <td>3</td>\n",
       "      <td>...</td>\n",
       "      <td>5</td>\n",
       "      <td>4</td>\n",
       "      <td>5</td>\n",
       "      <td>5</td>\n",
       "      <td>1</td>\n",
       "      <td>5</td>\n",
       "      <td>4</td>\n",
       "      <td>15</td>\n",
       "      <td>616</td>\n",
       "      <td>6</td>\n",
       "    </tr>\n",
       "    <tr>\n",
       "      <th>61</th>\n",
       "      <td>91</td>\n",
       "      <td>3</td>\n",
       "      <td>3</td>\n",
       "      <td>1</td>\n",
       "      <td>2</td>\n",
       "      <td>2</td>\n",
       "      <td>0</td>\n",
       "      <td>3</td>\n",
       "      <td>2</td>\n",
       "      <td>4</td>\n",
       "      <td>...</td>\n",
       "      <td>5</td>\n",
       "      <td>5</td>\n",
       "      <td>5</td>\n",
       "      <td>4</td>\n",
       "      <td>4</td>\n",
       "      <td>5</td>\n",
       "      <td>4</td>\n",
       "      <td>33</td>\n",
       "      <td>3643</td>\n",
       "      <td>7</td>\n",
       "    </tr>\n",
       "  </tbody>\n",
       "</table>\n",
       "<p>62 rows × 26 columns</p>\n",
       "</div>"
      ],
      "text/plain": [
       "    Syear  App  Har  Dba  Ifc  Source  Telonuse  Nlan  T01  T02  ...  T09  \\\n",
       "0      92    2    2    1    2       2         0     3    4    3  ...    4   \n",
       "1      93    2    2    1    2       2         0     3    2    3  ...    4   \n",
       "2      90    1    2    1    2       2         0     2    3    3  ...    4   \n",
       "3      86    3    2    1    2       2         0     3    2    2  ...    4   \n",
       "4      88    2    2    1    2       2         0     2    3    3  ...    4   \n",
       "..    ...  ...  ...  ...  ...     ...       ...   ...  ...  ...  ...  ...   \n",
       "57     91    5    5    1    2       1         0     3    4    2  ...    5   \n",
       "58     90    3    3    1    2       2         1     4    2    3  ...    4   \n",
       "59     92    1    2    1    2       2         1     2    3    3  ...    5   \n",
       "60     90    3    3    1    2       2         1     4    2    3  ...    5   \n",
       "61     91    3    3    1    2       2         0     3    2    4  ...    5   \n",
       "\n",
       "    T10  T11  T12  T13  T14  T15  Duration  Size  Time  \n",
       "0     5    4    4    4    4    5        16   647     8  \n",
       "1     3    4    4    4    4    4         5   130     9  \n",
       "2     5    4    3    2    3    3         8   254     6  \n",
       "3     4    5    4    3    2    3        16  1056     2  \n",
       "4     4    3    4    5    4    4        12   383     4  \n",
       "..  ...  ...  ...  ...  ...  ...       ...   ...   ...  \n",
       "57    3    3    4    3    4    4        20   495     7  \n",
       "58    3    4    3    2    4    3        16   622     6  \n",
       "59    5    5    4    3    2    3        12   204     8  \n",
       "60    4    5    5    1    5    4        15   616     6  \n",
       "61    5    5    4    4    5    4        33  3643     7  \n",
       "\n",
       "[62 rows x 26 columns]"
      ]
     },
     "execution_count": 15,
     "metadata": {},
     "output_type": "execute_result"
    }
   ],
   "source": [
    "X"
   ]
  },
  {
   "cell_type": "code",
   "execution_count": 16,
   "id": "f2d65f7e",
   "metadata": {},
   "outputs": [
    {
     "data": {
      "text/plain": [
       "0      7871\n",
       "1       845\n",
       "2      2330\n",
       "3     21272\n",
       "4      4224\n",
       "      ...  \n",
       "57     7105\n",
       "58     6816\n",
       "59     4620\n",
       "60     7451\n",
       "61    39479\n",
       "Name: Effort, Length: 62, dtype: int64"
      ]
     },
     "execution_count": 16,
     "metadata": {},
     "output_type": "execute_result"
    }
   ],
   "source": [
    "y"
   ]
  },
  {
   "cell_type": "code",
   "execution_count": 17,
   "id": "ac7a7607",
   "metadata": {},
   "outputs": [],
   "source": [
    "y=df['Effort']"
   ]
  },
  {
   "cell_type": "code",
   "execution_count": 18,
   "id": "ba211067",
   "metadata": {},
   "outputs": [
    {
     "data": {
      "text/plain": [
       "0      7871\n",
       "1       845\n",
       "2      2330\n",
       "3     21272\n",
       "4      4224\n",
       "      ...  \n",
       "57     7105\n",
       "58     6816\n",
       "59     4620\n",
       "60     7451\n",
       "61    39479\n",
       "Name: Effort, Length: 62, dtype: int64"
      ]
     },
     "execution_count": 18,
     "metadata": {},
     "output_type": "execute_result"
    }
   ],
   "source": [
    "y"
   ]
  },
  {
   "cell_type": "code",
   "execution_count": 19,
   "id": "dd1a0a42",
   "metadata": {},
   "outputs": [
    {
     "data": {
      "text/plain": [
       "(62, 26)"
      ]
     },
     "execution_count": 19,
     "metadata": {},
     "output_type": "execute_result"
    }
   ],
   "source": [
    "X.shape"
   ]
  },
  {
   "cell_type": "code",
   "execution_count": 20,
   "id": "591cf919",
   "metadata": {},
   "outputs": [
    {
     "data": {
      "text/plain": [
       "(62,)"
      ]
     },
     "execution_count": 20,
     "metadata": {},
     "output_type": "execute_result"
    }
   ],
   "source": [
    "y.shape"
   ]
  },
  {
   "cell_type": "markdown",
   "id": "083ca99f",
   "metadata": {},
   "source": [
    "# Split train/test data"
   ]
  },
  {
   "cell_type": "code",
   "execution_count": 21,
   "id": "b9395841",
   "metadata": {},
   "outputs": [],
   "source": [
    "from sklearn.model_selection import train_test_split\n",
    "X_train, X_test, y_train, y_test=train_test_split(X,y,test_size=0.2, random_state=42)"
   ]
  },
  {
   "cell_type": "code",
   "execution_count": 22,
   "id": "0d1ed7d1",
   "metadata": {},
   "outputs": [
    {
     "data": {
      "text/plain": [
       "(62, 26)"
      ]
     },
     "execution_count": 22,
     "metadata": {},
     "output_type": "execute_result"
    }
   ],
   "source": [
    "X.shape"
   ]
  },
  {
   "cell_type": "code",
   "execution_count": 23,
   "id": "a1b9df52",
   "metadata": {},
   "outputs": [
    {
     "data": {
      "text/plain": [
       "(62,)"
      ]
     },
     "execution_count": 23,
     "metadata": {},
     "output_type": "execute_result"
    }
   ],
   "source": [
    "y.shape"
   ]
  },
  {
   "cell_type": "code",
   "execution_count": 24,
   "id": "7bc1f884",
   "metadata": {},
   "outputs": [],
   "source": [
    "# X.drop(\"Effort\",axis=1, inplace=True)"
   ]
  },
  {
   "cell_type": "markdown",
   "id": "7df077ec",
   "metadata": {},
   "source": [
    "# LinearRegression"
   ]
  },
  {
   "cell_type": "code",
   "execution_count": 25,
   "id": "bc3099f2",
   "metadata": {},
   "outputs": [
    {
     "name": "stdout",
     "output_type": "stream",
     "text": [
      "    Actual  LR Predicted\n",
      "50    4456   6759.005223\n",
      "56   13700  10300.901211\n",
      "0     7871  14377.609698\n",
      "57    7105  15957.533063\n",
      "5     2826   2229.749667\n",
      "48    1755  -6011.728162\n",
      "16   25910  28502.473314\n",
      "12     583   4964.635319\n",
      "25   63694  34247.099840\n",
      "59    4620   7277.322236\n",
      "30    2957   7114.540809\n",
      "9     4300   4544.340173\n",
      "47   11023   6881.319513\n"
     ]
    },
    {
     "data": {
      "image/png": "[encoded data removed]",
      "text/plain": [
       "<Figure size 360x576 with 1 Axes>"
      ]
     },
     "metadata": {
      "needs_background": "light"
     },
     "output_type": "display_data"
    }
   ],
   "source": [
    "from sklearn.linear_model import LinearRegression\n",
    "import matplotlib.pyplot as plt\n",
    "lr_model=LinearRegression()\n",
    "lr_model.fit(X_train,y_train) #training algorithm\n",
    "\n",
    "#it’s time to make some predictions.\n",
    "#we will use our test data and see how accurately our algorithm predicts the percentage score.\n",
    "predicted_value=lr_model.predict(X_test)\n",
    "true_value=y_test\n",
    "\n",
    "comparison = pd.DataFrame({'Actual':true_value,'LR Predicted':predicted_value})\n",
    "print(comparison)\n",
    "\n",
    "\n",
    "plt.figure(figsize=(5,8))\n",
    "plt.scatter(true_value, predicted_value, c='crimson')\n",
    "plt.yscale('log')\n",
    "plt.xscale('log')\n",
    "\n",
    "p1 = max(max(predicted_value), max(true_value))\n",
    "p2 = min(min(predicted_value), min(true_value))\n",
    "plt.plot([p1, p2], [p1, p2], 'b-')\n",
    "plt.xlabel('True Values', fontsize=15)\n",
    "plt.ylabel('Predictions', fontsize=15)\n",
    "plt.axis('equal')\n",
    "plt.show()"
   ]
  },
  {
   "cell_type": "markdown",
   "id": "efd96ff9",
   "metadata": {},
   "source": [
    "# Gradient Boosting"
   ]
  },
  {
   "cell_type": "code",
   "execution_count": 26,
   "id": "86ad672f",
   "metadata": {},
   "outputs": [
    {
     "name": "stdout",
     "output_type": "stream",
     "text": [
      "    Actual  GB Predicted\n",
      "50    4456   4392.052985\n",
      "56   13700  11841.344653\n",
      "0     7871   7955.040196\n",
      "57    7105   8547.384789\n",
      "5     2826   4164.346237\n",
      "48    1755   1854.384461\n",
      "16   25910  14058.886858\n",
      "12     583   1003.690267\n",
      "25   63694  31393.925119\n",
      "59    4620   3816.684949\n",
      "30    2957   7159.882909\n",
      "9     4300   1200.561643\n",
      "47   11023   8373.544095\n"
     ]
    },
    {
     "data": {
      "image/png": "[encoded data removed]",
      "text/plain": [
       "<Figure size 360x576 with 1 Axes>"
      ]
     },
     "metadata": {
      "needs_background": "light"
     },
     "output_type": "display_data"
    }
   ],
   "source": [
    "from sklearn.ensemble import GradientBoostingRegressor\n",
    "gb_model=GradientBoostingRegressor()\n",
    "gb_model.fit(X_train,y_train)\n",
    "gb_model.score(X_test,y_test)\n",
    "predicted_value=gb_model.predict(X_test)\n",
    "true_value=y_test\n",
    "\n",
    "comparison = pd.DataFrame({'Actual':true_value,'GB Predicted':predicted_value})\n",
    "print(comparison)\n",
    "\n",
    "plt.figure(figsize=(5,8))\n",
    "plt.scatter(true_value, predicted_value, c='crimson')\n",
    "plt.yscale('log')\n",
    "plt.xscale('log')\n",
    "\n",
    "p1 = max(max(predicted_value), max(true_value))\n",
    "p2 = min(min(predicted_value), min(true_value))\n",
    "plt.plot([p1, p2], [p1, p2], 'b-')\n",
    "plt.xlabel('True Values', fontsize=15)\n",
    "plt.ylabel('Predictions', fontsize=15)\n",
    "plt.axis('equal')\n",
    "plt.show()"
   ]
  },
  {
   "cell_type": "markdown",
   "id": "e22fb69c",
   "metadata": {},
   "source": [
    "# Random Forest"
   ]
  },
  {
   "cell_type": "code",
   "execution_count": 27,
   "id": "54477ccc",
   "metadata": {},
   "outputs": [
    {
     "name": "stdout",
     "output_type": "stream",
     "text": [
      "    Actual  RF Predicted\n",
      "50    4456       5897.61\n",
      "56   13700      10963.87\n",
      "0     7871       8642.25\n",
      "57    7105       7612.00\n",
      "5     2826       5184.48\n",
      "48    1755       2179.74\n",
      "16   25910      13755.74\n",
      "12     583       2265.89\n",
      "25   63694      30492.13\n",
      "59    4620       4095.36\n",
      "30    2957       7647.30\n",
      "9     4300       1969.46\n",
      "47   11023       8864.07\n"
     ]
    },
    {
     "data": {
      "image/png": "[encoded data removed]",
      "text/plain": [
       "<Figure size 504x504 with 1 Axes>"
      ]
     },
     "metadata": {
      "needs_background": "light"
     },
     "output_type": "display_data"
    }
   ],
   "source": [
    "# from sklearn.model_selection import train_test_split\n",
    "import matplotlib.pyplot as plt\n",
    "from sklearn.ensemble import RandomForestRegressor\n",
    "rf_model = RandomForestRegressor(random_state=43)      \n",
    "rf_model = rf_model.fit(X_train,y_train)\n",
    "rf_model.score(X_test,y_test)\n",
    "\n",
    "predicted_value=rf_model.predict(X_test)\n",
    "true_value=y_test\n",
    "\n",
    "comparison = pd.DataFrame({'Actual':true_value,'RF Predicted':predicted_value})\n",
    "print(comparison)\n",
    "\n",
    "\n",
    "plt.figure(figsize=(7,7))\n",
    "plt.scatter(true_value, predicted_value, c='crimson')\n",
    "plt.yscale('log')\n",
    "plt.xscale('log')\n",
    "\n",
    "p1 = max(max(predicted_value), max(true_value))\n",
    "p2 = min(min(predicted_value), min(true_value))\n",
    "plt.plot([p1, p2], [p1, p2], 'b-')\n",
    "plt.xlabel('True Values', fontsize=15)\n",
    "plt.ylabel('Predictions', fontsize=15)\n",
    "plt.axis('equal')\n",
    "plt.show()"
   ]
  },
  {
   "cell_type": "markdown",
   "id": "ff5bb635",
   "metadata": {},
   "source": [
    "# Decision Tree Regression"
   ]
  },
  {
   "cell_type": "code",
   "execution_count": 28,
   "id": "2e7b077c",
   "metadata": {},
   "outputs": [
    {
     "name": "stdout",
     "output_type": "stream",
     "text": [
      "    Actual  DT Predicted\n",
      "50    4456        5100.0\n",
      "56   13700       11900.0\n",
      "0     7871        9125.0\n",
      "57    7105       21272.0\n",
      "5     2826        5100.0\n",
      "48    1755         845.0\n",
      "16   25910       10447.0\n",
      "12     583         900.0\n",
      "25   63694       39479.0\n",
      "59    4620        1745.0\n",
      "30    2957        8752.0\n",
      "9     4300        1520.0\n",
      "47   11023        8752.0\n"
     ]
    },
    {
     "data": {
      "image/png": "[encoded data removed]",
      "text/plain": [
       "<Figure size 504x504 with 1 Axes>"
      ]
     },
     "metadata": {
      "needs_background": "light"
     },
     "output_type": "display_data"
    }
   ],
   "source": [
    "from sklearn.tree import DecisionTreeRegressor\n",
    "D_model=DecisionTreeRegressor(max_depth=12)\n",
    "D_model.fit(X_train,y_train)\n",
    "D_model.score(X_test,y_test)\n",
    "predicted_value=D_model.predict(X_test)\n",
    "true_value=y_test\n",
    "\n",
    "comparison = pd.DataFrame({'Actual':true_value,'DT Predicted':predicted_value})\n",
    "print(comparison)\n",
    "\n",
    "\n",
    "plt.figure(figsize=(7,7))\n",
    "plt.scatter(true_value, predicted_value, c='crimson')\n",
    "plt.yscale('log')\n",
    "plt.xscale('log')\n",
    "\n",
    "p1 = max(max(predicted_value), max(true_value))\n",
    "p2 = min(min(predicted_value), min(true_value))\n",
    "plt.plot([p1, p2], [p1, p2], 'b-')\n",
    "plt.xlabel('True Values', fontsize=15)\n",
    "plt.ylabel('Predictions', fontsize=15)\n",
    "plt.axis('equal')\n",
    "plt.show()"
   ]
  },
  {
   "cell_type": "markdown",
   "id": "35591522",
   "metadata": {},
   "source": [
    "# Plotting"
   ]
  },
  {
   "cell_type": "code",
   "execution_count": 29,
   "id": "070928c9",
   "metadata": {},
   "outputs": [
    {
     "data": {
      "text/html": [
       "<div>\n",
       "<style scoped>\n",
       "    .dataframe tbody tr th:only-of-type {\n",
       "        vertical-align: middle;\n",
       "    }\n",
       "\n",
       "    .dataframe tbody tr th {\n",
       "        vertical-align: top;\n",
       "    }\n",
       "\n",
       "    .dataframe thead th {\n",
       "        text-align: right;\n",
       "    }\n",
       "</style>\n",
       "<table border=\"1\" class=\"dataframe\">\n",
       "  <thead>\n",
       "    <tr style=\"text-align: right;\">\n",
       "      <th></th>\n",
       "      <th>Linear Regression</th>\n",
       "      <th>Gradient Boosting</th>\n",
       "      <th>Random Forest</th>\n",
       "      <th>Decision Tree</th>\n",
       "    </tr>\n",
       "  </thead>\n",
       "  <tbody>\n",
       "    <tr>\n",
       "      <th>0</th>\n",
       "      <td>0.674513</td>\n",
       "      <td>0.647688</td>\n",
       "      <td>0.626068</td>\n",
       "      <td>0.686179</td>\n",
       "    </tr>\n",
       "  </tbody>\n",
       "</table>\n",
       "</div>"
      ],
      "text/plain": [
       "   Linear Regression   Gradient Boosting  Random Forest  Decision Tree\n",
       "0            0.674513           0.647688       0.626068       0.686179"
      ]
     },
     "execution_count": 29,
     "metadata": {},
     "output_type": "execute_result"
    }
   ],
   "source": [
    "lr_score=lr_model.score(X_test,y_test)\n",
    "gb_score=gb_model.score(X_test,y_test)\n",
    "rf_score=rf_model.score(X_test,y_test)\n",
    "d_score=D_model.score(X_test,y_test)\n",
    "\n",
    "\n",
    "Score=pd.DataFrame({'Linear Regression ':[lr_score],'Gradient Boosting':[gb_score],'Random Forest':[rf_score],'Decision Tree':[d_score]})\n",
    "Score"
   ]
  },
  {
   "cell_type": "code",
   "execution_count": 30,
   "id": "86bb0738",
   "metadata": {},
   "outputs": [],
   "source": [
    "names=[]\n",
    "\n",
    "for i in Score.columns:\n",
    "    names.append(i)"
   ]
  },
  {
   "cell_type": "code",
   "execution_count": 31,
   "id": "8cf7346d",
   "metadata": {},
   "outputs": [
    {
     "data": {
      "text/plain": [
       "<BarContainer object of 4 artists>"
      ]
     },
     "execution_count": 31,
     "metadata": {},
     "output_type": "execute_result"
    },
    {
     "data": {
      "image/png": "[encoded data removed]",
      "text/plain": [
       "<Figure size 576x396 with 1 Axes>"
      ]
     },
     "metadata": {
      "needs_background": "light"
     },
     "output_type": "display_data"
    }
   ],
   "source": [
    "plt.rcParams[\"figure.figsize\"] = (8,5.5)\n",
    "plt.bar(names,Score.iloc[0].values)"
   ]
  },
  {
   "cell_type": "code",
   "execution_count": 32,
   "id": "68b31e02",
   "metadata": {},
   "outputs": [
    {
     "data": {
      "text/plain": [
       "[<matplotlib.lines.Line2D at 0x1f26bf67700>]"
      ]
     },
     "execution_count": 32,
     "metadata": {},
     "output_type": "execute_result"
    },
    {
     "data": {
      "image/png": "[encoded data removed]",
      "text/plain": [
       "<Figure size 576x396 with 1 Axes>"
      ]
     },
     "metadata": {
      "needs_background": "light"
     },
     "output_type": "display_data"
    }
   ],
   "source": [
    "plt.plot(names,Score.iloc[0].values)"
   ]
  },
  {
   "cell_type": "markdown",
   "id": "77a73e4a",
   "metadata": {},
   "source": [
    "# R2"
   ]
  },
  {
   "cell_type": "code",
   "execution_count": 33,
   "id": "80ff2aa3",
   "metadata": {},
   "outputs": [],
   "source": [
    "lr_score=lr_model.score(X_test,y_test)\n",
    "gb_score=gb_model.score(X_test,y_test)\n",
    "rf_score=rf_model.score(X_test,y_test)\n",
    "d_score=D_model.score(X_test,y_test)"
   ]
  },
  {
   "cell_type": "code",
   "execution_count": 34,
   "id": "cb6ec798",
   "metadata": {},
   "outputs": [],
   "source": [
    "lr_pred=lr_model.predict(X_test)\n",
    "gb_pred=gb_model.predict(X_test)\n",
    "rf_pred=rf_model.predict(X_test)\n",
    "d_pred=D_model.predict(X_test)"
   ]
  },
  {
   "cell_type": "code",
   "execution_count": 35,
   "id": "fbe77f98",
   "metadata": {},
   "outputs": [],
   "source": [
    "from sklearn.metrics import r2_score, mean_squared_error\n",
    "import numpy as np"
   ]
  },
  {
   "cell_type": "code",
   "execution_count": 36,
   "id": "d7066a27",
   "metadata": {},
   "outputs": [],
   "source": [
    "lr_r2_score=r2_score(y_test, lr_pred)\n",
    "gb_r2_score=r2_score(y_test,gb_pred)\n",
    "rf_r2_score=r2_score(y_test,rf_pred)\n",
    "d_r2_score=r2_score(y_test,d_pred)"
   ]
  },
  {
   "cell_type": "code",
   "execution_count": 37,
   "id": "ea1df182",
   "metadata": {},
   "outputs": [
    {
     "data": {
      "text/html": [
       "<div>\n",
       "<style scoped>\n",
       "    .dataframe tbody tr th:only-of-type {\n",
       "        vertical-align: middle;\n",
       "    }\n",
       "\n",
       "    .dataframe tbody tr th {\n",
       "        vertical-align: top;\n",
       "    }\n",
       "\n",
       "    .dataframe thead th {\n",
       "        text-align: right;\n",
       "    }\n",
       "</style>\n",
       "<table border=\"1\" class=\"dataframe\">\n",
       "  <thead>\n",
       "    <tr style=\"text-align: right;\">\n",
       "      <th></th>\n",
       "      <th>Linear Regression</th>\n",
       "      <th>Gradient Boosting Tree</th>\n",
       "      <th>Random Forest</th>\n",
       "      <th>Decision Tree</th>\n",
       "    </tr>\n",
       "  </thead>\n",
       "  <tbody>\n",
       "    <tr>\n",
       "      <th>0</th>\n",
       "      <td>0.674513</td>\n",
       "      <td>0.647688</td>\n",
       "      <td>0.626068</td>\n",
       "      <td>0.686179</td>\n",
       "    </tr>\n",
       "  </tbody>\n",
       "</table>\n",
       "</div>"
      ],
      "text/plain": [
       "   Linear Regression   Gradient Boosting Tree  Random Forest  Decision Tree\n",
       "0            0.674513                0.647688       0.626068       0.686179"
      ]
     },
     "execution_count": 37,
     "metadata": {},
     "output_type": "execute_result"
    }
   ],
   "source": [
    "r2_Score=pd.DataFrame({'Linear Regression ':[lr_r2_score],'Gradient Boosting Tree':[gb_r2_score],'Random Forest':[rf_r2_score],'Decision Tree':[d_r2_score]})\n",
    "r2_Score"
   ]
  },
  {
   "cell_type": "code",
   "execution_count": 38,
   "id": "302caa22",
   "metadata": {},
   "outputs": [
    {
     "data": {
      "text/plain": [
       "[<matplotlib.lines.Line2D at 0x1f26bf1adf0>]"
      ]
     },
     "execution_count": 38,
     "metadata": {},
     "output_type": "execute_result"
    },
    {
     "data": {
      "image/png": "[encoded data removed]",
      "text/plain": [
       "<Figure size 576x396 with 1 Axes>"
      ]
     },
     "metadata": {
      "needs_background": "light"
     },
     "output_type": "display_data"
    }
   ],
   "source": [
    "plt.plot(names,r2_Score.iloc[0].values)"
   ]
  },
  {
   "cell_type": "markdown",
   "id": "162c43ee",
   "metadata": {},
   "source": [
    "# RMSE (Root Mean Square Error)"
   ]
  },
  {
   "cell_type": "code",
   "execution_count": 39,
   "id": "f47ac621",
   "metadata": {},
   "outputs": [],
   "source": [
    "lr_rmse=np.sqrt(mean_squared_error(lr_pred, y_test))\n",
    "gb_rmse=np.sqrt(mean_squared_error(gb_pred, y_test))\n",
    "rf_rmse=np.sqrt(mean_squared_error(rf_pred, y_test))\n",
    "d_rmse=np.sqrt(mean_squared_error(d_pred, y_test))"
   ]
  },
  {
   "cell_type": "code",
   "execution_count": 40,
   "id": "c37f95bf",
   "metadata": {},
   "outputs": [
    {
     "data": {
      "text/html": [
       "<div>\n",
       "<style scoped>\n",
       "    .dataframe tbody tr th:only-of-type {\n",
       "        vertical-align: middle;\n",
       "    }\n",
       "\n",
       "    .dataframe tbody tr th {\n",
       "        vertical-align: top;\n",
       "    }\n",
       "\n",
       "    .dataframe thead th {\n",
       "        text-align: right;\n",
       "    }\n",
       "</style>\n",
       "<table border=\"1\" class=\"dataframe\">\n",
       "  <thead>\n",
       "    <tr style=\"text-align: right;\">\n",
       "      <th></th>\n",
       "      <th>Linear Regression</th>\n",
       "      <th>Gradient Boosting Tree</th>\n",
       "      <th>Random Forest</th>\n",
       "      <th>Decision Tree</th>\n",
       "    </tr>\n",
       "  </thead>\n",
       "  <tbody>\n",
       "    <tr>\n",
       "      <th>0</th>\n",
       "      <td>9334.954572</td>\n",
       "      <td>9712.021291</td>\n",
       "      <td>10005.568593</td>\n",
       "      <td>9166.137056</td>\n",
       "    </tr>\n",
       "  </tbody>\n",
       "</table>\n",
       "</div>"
      ],
      "text/plain": [
       "   Linear Regression   Gradient Boosting Tree  Random Forest  Decision Tree\n",
       "0         9334.954572             9712.021291   10005.568593    9166.137056"
      ]
     },
     "execution_count": 40,
     "metadata": {},
     "output_type": "execute_result"
    }
   ],
   "source": [
    "rmse=pd.DataFrame({'Linear Regression ':[lr_rmse],'Gradient Boosting Tree':[gb_rmse],'Random Forest':[rf_rmse],'Decision Tree':[d_rmse]})\n",
    "rmse"
   ]
  },
  {
   "cell_type": "code",
   "execution_count": 41,
   "id": "29f2fe7b",
   "metadata": {},
   "outputs": [
    {
     "data": {
      "text/plain": [
       "[<matplotlib.lines.Line2D at 0x1f26bd43b50>]"
      ]
     },
     "execution_count": 41,
     "metadata": {},
     "output_type": "execute_result"
    },
    {
     "data": {
      "image/png": "[encoded data removed]",
      "text/plain": [
       "<Figure size 576x396 with 1 Axes>"
      ]
     },
     "metadata": {
      "needs_background": "light"
     },
     "output_type": "display_data"
    }
   ],
   "source": [
    "plt.plot(names,rmse.iloc[0].values)"
   ]
  },
  {
   "cell_type": "code",
   "execution_count": null,
   "id": "23217c4c",
   "metadata": {},
   "outputs": [],
   "source": []
  }
 ],
 "metadata": {
  "kernelspec": {
   "display_name": "Python 3",
   "language": "python",
   "name": "python3"
  },
  "language_info": {
   "codemirror_mode": {
    "name": "ipython",
    "version": 3
   },
   "file_extension": ".py",
   "mimetype": "text/x-python",
   "name": "python",
   "nbconvert_exporter": "python",
   "pygments_lexer": "ipython3",
   "version": "3.8.8"
  }
 },
 "nbformat": 4,
 "nbformat_minor": 5
}
