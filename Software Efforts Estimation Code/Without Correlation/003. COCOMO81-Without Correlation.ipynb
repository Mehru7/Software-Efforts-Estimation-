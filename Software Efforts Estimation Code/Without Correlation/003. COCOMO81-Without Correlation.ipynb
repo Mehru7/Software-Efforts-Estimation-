{
 "cells": [
  {
   "cell_type": "code",
   "execution_count": 1,
   "id": "83aa3558",
   "metadata": {},
   "outputs": [],
   "source": [
    "import pandas as pd\n",
    "from sklearn.preprocessing import LabelEncoder"
   ]
  },
  {
   "cell_type": "code",
   "execution_count": 2,
   "id": "4a1619e6",
   "metadata": {},
   "outputs": [
    {
     "data": {
      "text/html": [
       "<div>\n",
       "<style scoped>\n",
       "    .dataframe tbody tr th:only-of-type {\n",
       "        vertical-align: middle;\n",
       "    }\n",
       "\n",
       "    .dataframe tbody tr th {\n",
       "        vertical-align: top;\n",
       "    }\n",
       "\n",
       "    .dataframe thead th {\n",
       "        text-align: right;\n",
       "    }\n",
       "</style>\n",
       "<table border=\"1\" class=\"dataframe\">\n",
       "  <thead>\n",
       "    <tr style=\"text-align: right;\">\n",
       "      <th></th>\n",
       "      <th>RELY</th>\n",
       "      <th>DATA</th>\n",
       "      <th>CPLX</th>\n",
       "      <th>TIME</th>\n",
       "      <th>STOR</th>\n",
       "      <th>VIRT</th>\n",
       "      <th>TURN</th>\n",
       "      <th>ACAP</th>\n",
       "      <th>AEXP</th>\n",
       "      <th>PCAP</th>\n",
       "      <th>VEXP</th>\n",
       "      <th>LEXP</th>\n",
       "      <th>MODP</th>\n",
       "      <th>TOOL</th>\n",
       "      <th>SCED</th>\n",
       "      <th>LOC</th>\n",
       "      <th>ACT_EFFORT</th>\n",
       "    </tr>\n",
       "  </thead>\n",
       "  <tbody>\n",
       "    <tr>\n",
       "      <th>0</th>\n",
       "      <td>Nominal</td>\n",
       "      <td>High</td>\n",
       "      <td>Very_High</td>\n",
       "      <td>Nominal</td>\n",
       "      <td>Nominal</td>\n",
       "      <td>Low</td>\n",
       "      <td>Nominal</td>\n",
       "      <td>High</td>\n",
       "      <td>Nominal</td>\n",
       "      <td>Very_High</td>\n",
       "      <td>Low</td>\n",
       "      <td>Nominal</td>\n",
       "      <td>High</td>\n",
       "      <td>Nominal</td>\n",
       "      <td>Low</td>\n",
       "      <td>70.0</td>\n",
       "      <td>278.0</td>\n",
       "    </tr>\n",
       "    <tr>\n",
       "      <th>1</th>\n",
       "      <td>Very_High</td>\n",
       "      <td>High</td>\n",
       "      <td>High</td>\n",
       "      <td>Very_High</td>\n",
       "      <td>Very_High</td>\n",
       "      <td>Nominal</td>\n",
       "      <td>Nominal</td>\n",
       "      <td>Very_High</td>\n",
       "      <td>Very_High</td>\n",
       "      <td>Very_High</td>\n",
       "      <td>Nominal</td>\n",
       "      <td>High</td>\n",
       "      <td>High</td>\n",
       "      <td>High</td>\n",
       "      <td>Low</td>\n",
       "      <td>227.0</td>\n",
       "      <td>1181.0</td>\n",
       "    </tr>\n",
       "    <tr>\n",
       "      <th>2</th>\n",
       "      <td>Nominal</td>\n",
       "      <td>High</td>\n",
       "      <td>High</td>\n",
       "      <td>Very_High</td>\n",
       "      <td>High</td>\n",
       "      <td>Low</td>\n",
       "      <td>High</td>\n",
       "      <td>High</td>\n",
       "      <td>Nominal</td>\n",
       "      <td>High</td>\n",
       "      <td>Low</td>\n",
       "      <td>High</td>\n",
       "      <td>High</td>\n",
       "      <td>Nominal</td>\n",
       "      <td>Low</td>\n",
       "      <td>177.9</td>\n",
       "      <td>1248.0</td>\n",
       "    </tr>\n",
       "    <tr>\n",
       "      <th>3</th>\n",
       "      <td>High</td>\n",
       "      <td>Low</td>\n",
       "      <td>High</td>\n",
       "      <td>Nominal</td>\n",
       "      <td>Nominal</td>\n",
       "      <td>Low</td>\n",
       "      <td>Low</td>\n",
       "      <td>Nominal</td>\n",
       "      <td>Nominal</td>\n",
       "      <td>Nominal</td>\n",
       "      <td>Nominal</td>\n",
       "      <td>High</td>\n",
       "      <td>High</td>\n",
       "      <td>Nominal</td>\n",
       "      <td>Low</td>\n",
       "      <td>115.8</td>\n",
       "      <td>480.0</td>\n",
       "    </tr>\n",
       "    <tr>\n",
       "      <th>4</th>\n",
       "      <td>High</td>\n",
       "      <td>Low</td>\n",
       "      <td>High</td>\n",
       "      <td>Nominal</td>\n",
       "      <td>Nominal</td>\n",
       "      <td>Low</td>\n",
       "      <td>Low</td>\n",
       "      <td>Nominal</td>\n",
       "      <td>Nominal</td>\n",
       "      <td>Nominal</td>\n",
       "      <td>Nominal</td>\n",
       "      <td>High</td>\n",
       "      <td>High</td>\n",
       "      <td>Nominal</td>\n",
       "      <td>Low</td>\n",
       "      <td>29.5</td>\n",
       "      <td>120.0</td>\n",
       "    </tr>\n",
       "  </tbody>\n",
       "</table>\n",
       "</div>"
      ],
      "text/plain": [
       "        RELY  DATA       CPLX       TIME       STOR     VIRT     TURN  \\\n",
       "0    Nominal  High  Very_High    Nominal    Nominal      Low  Nominal   \n",
       "1  Very_High  High       High  Very_High  Very_High  Nominal  Nominal   \n",
       "2    Nominal  High       High  Very_High       High      Low     High   \n",
       "3       High   Low       High    Nominal    Nominal      Low      Low   \n",
       "4       High   Low       High    Nominal    Nominal      Low      Low   \n",
       "\n",
       "        ACAP       AEXP       PCAP     VEXP     LEXP  MODP     TOOL SCED  \\\n",
       "0       High    Nominal  Very_High      Low  Nominal  High  Nominal  Low   \n",
       "1  Very_High  Very_High  Very_High  Nominal     High  High     High  Low   \n",
       "2       High    Nominal       High      Low     High  High  Nominal  Low   \n",
       "3    Nominal    Nominal    Nominal  Nominal     High  High  Nominal  Low   \n",
       "4    Nominal    Nominal    Nominal  Nominal     High  High  Nominal  Low   \n",
       "\n",
       "     LOC  ACT_EFFORT  \n",
       "0   70.0       278.0  \n",
       "1  227.0      1181.0  \n",
       "2  177.9      1248.0  \n",
       "3  115.8       480.0  \n",
       "4   29.5       120.0  "
      ]
     },
     "execution_count": 2,
     "metadata": {},
     "output_type": "execute_result"
    }
   ],
   "source": [
    "df=pd.read_csv('01. cocomonasa_v1.csv')\n",
    "df.head()"
   ]
  },
  {
   "cell_type": "code",
   "execution_count": 3,
   "id": "8d8e9488",
   "metadata": {},
   "outputs": [
    {
     "data": {
      "text/plain": [
       "(60, 17)"
      ]
     },
     "execution_count": 3,
     "metadata": {},
     "output_type": "execute_result"
    }
   ],
   "source": [
    "df.shape"
   ]
  },
  {
   "cell_type": "code",
   "execution_count": 4,
   "id": "0c75051b",
   "metadata": {},
   "outputs": [
    {
     "name": "stdout",
     "output_type": "stream",
     "text": [
      "object\n",
      "object\n",
      "object\n",
      "object\n",
      "object\n",
      "object\n",
      "object\n",
      "object\n",
      "object\n",
      "object\n",
      "object\n",
      "object\n",
      "object\n",
      "object\n",
      "object\n",
      "float64\n",
      "float64\n"
     ]
    }
   ],
   "source": [
    "for i in df.columns:\n",
    "    print(df[i].dtype)"
   ]
  },
  {
   "cell_type": "markdown",
   "id": "ba556d1f",
   "metadata": {},
   "source": [
    "# Convert String Data To Numerical Data"
   ]
  },
  {
   "cell_type": "code",
   "execution_count": 5,
   "id": "bc079a6c",
   "metadata": {},
   "outputs": [
    {
     "data": {
      "text/plain": [
       "Index(['RELY', 'DATA', 'CPLX', 'TIME', 'STOR', 'VIRT', 'TURN', 'ACAP', 'AEXP',\n",
       "       'PCAP', 'VEXP', 'LEXP', 'MODP', 'TOOL', 'SCED'],\n",
       "      dtype='object')"
      ]
     },
     "execution_count": 5,
     "metadata": {},
     "output_type": "execute_result"
    }
   ],
   "source": [
    "str_data=df.drop(['LOC','ACT_EFFORT'],axis=1)\n",
    "str_data.columns"
   ]
  },
  {
   "cell_type": "code",
   "execution_count": 6,
   "id": "6d867a0a",
   "metadata": {},
   "outputs": [],
   "source": [
    "le=LabelEncoder()\n",
    "for i in str_data.columns:\n",
    "    df[i]=le.fit_transform(df[i])"
   ]
  },
  {
   "cell_type": "code",
   "execution_count": 7,
   "id": "6e203244",
   "metadata": {},
   "outputs": [
    {
     "name": "stdout",
     "output_type": "stream",
     "text": [
      "int32\n",
      "int32\n",
      "int32\n",
      "int32\n",
      "int32\n",
      "int32\n",
      "int32\n",
      "int32\n",
      "int32\n",
      "int32\n",
      "int32\n",
      "int32\n",
      "int32\n",
      "int32\n",
      "int32\n",
      "float64\n",
      "float64\n"
     ]
    }
   ],
   "source": [
    "for i in df.columns:\n",
    "    print(df[i].dtype)"
   ]
  },
  {
   "cell_type": "code",
   "execution_count": 8,
   "id": "c2fb6ac2",
   "metadata": {},
   "outputs": [
    {
     "data": {
      "text/plain": [
       "<AxesSubplot:>"
      ]
     },
     "execution_count": 8,
     "metadata": {},
     "output_type": "execute_result"
    },
    {
     "data": {
      "image/png": "[encoded data removed]",
      "text/plain": [
       "<Figure size 432x288 with 1 Axes>"
      ]
     },
     "metadata": {
      "needs_background": "light"
     },
     "output_type": "display_data"
    }
   ],
   "source": [
    "import seaborn as sns\n",
    "\n",
    "sns.heatmap(df.isnull(),yticklabels=False,cbar=False,cmap='viridis')  #Checking how many missing values are there in it"
   ]
  },
  {
   "cell_type": "code",
   "execution_count": 9,
   "id": "1bcdb160",
   "metadata": {},
   "outputs": [],
   "source": [
    "X=df.drop('ACT_EFFORT',axis=1)\n",
    "y=df['ACT_EFFORT']"
   ]
  },
  {
   "cell_type": "markdown",
   "id": "29888926",
   "metadata": {},
   "source": [
    "# define scalar values"
   ]
  },
  {
   "cell_type": "code",
   "execution_count": 10,
   "id": "d78e88f5",
   "metadata": {},
   "outputs": [],
   "source": [
    "a   =1\n",
    "b   =2\n",
    "c   =3\n",
    "d   =4\n",
    "e   =5\n",
    "f   =6\n",
    "g   =7\n",
    "h   =8\n",
    "i   =9\n",
    "j   =10\n",
    "k   =11\n",
    "l   =12\n",
    "m   =13\n",
    "n   =14  \n",
    "o   =15\n",
    "p   =16\n",
    "q   =17"
   ]
  },
  {
   "cell_type": "markdown",
   "id": "67d6fa90",
   "metadata": {},
   "source": [
    "# create DataFrame by transforming scalar values to list"
   ]
  },
  {
   "cell_type": "code",
   "execution_count": 11,
   "id": "8b02b154",
   "metadata": {},
   "outputs": [],
   "source": [
    "df = pd.DataFrame({'RELY': [a],'DATA': [b],'CPLX': [c], 'TIME':[d], 'STOR' :[e], 'VIRT' : [f], 'TURN': [g],'ACAP' : [h], 'AEXP': [i], 'PCAP': [j],'VEXP' : [k], 'LEXP': [l],'MODP': [m], 'TOOL': [n], 'SCED':[o], 'LOC':[p], 'ACT_EFFORT':[q]})"
   ]
  },
  {
   "cell_type": "code",
   "execution_count": 12,
   "id": "88ca3fb9",
   "metadata": {},
   "outputs": [
    {
     "data": {
      "text/html": [
       "<div>\n",
       "<style scoped>\n",
       "    .dataframe tbody tr th:only-of-type {\n",
       "        vertical-align: middle;\n",
       "    }\n",
       "\n",
       "    .dataframe tbody tr th {\n",
       "        vertical-align: top;\n",
       "    }\n",
       "\n",
       "    .dataframe thead th {\n",
       "        text-align: right;\n",
       "    }\n",
       "</style>\n",
       "<table border=\"1\" class=\"dataframe\">\n",
       "  <thead>\n",
       "    <tr style=\"text-align: right;\">\n",
       "      <th></th>\n",
       "      <th>RELY</th>\n",
       "      <th>DATA</th>\n",
       "      <th>CPLX</th>\n",
       "      <th>TIME</th>\n",
       "      <th>STOR</th>\n",
       "      <th>VIRT</th>\n",
       "      <th>TURN</th>\n",
       "      <th>ACAP</th>\n",
       "      <th>AEXP</th>\n",
       "      <th>PCAP</th>\n",
       "      <th>VEXP</th>\n",
       "      <th>LEXP</th>\n",
       "      <th>MODP</th>\n",
       "      <th>TOOL</th>\n",
       "      <th>SCED</th>\n",
       "      <th>LOC</th>\n",
       "      <th>ACT_EFFORT</th>\n",
       "    </tr>\n",
       "  </thead>\n",
       "  <tbody>\n",
       "    <tr>\n",
       "      <th>0</th>\n",
       "      <td>1</td>\n",
       "      <td>2</td>\n",
       "      <td>3</td>\n",
       "      <td>4</td>\n",
       "      <td>5</td>\n",
       "      <td>6</td>\n",
       "      <td>7</td>\n",
       "      <td>8</td>\n",
       "      <td>9</td>\n",
       "      <td>10</td>\n",
       "      <td>11</td>\n",
       "      <td>12</td>\n",
       "      <td>13</td>\n",
       "      <td>14</td>\n",
       "      <td>15</td>\n",
       "      <td>16</td>\n",
       "      <td>17</td>\n",
       "    </tr>\n",
       "  </tbody>\n",
       "</table>\n",
       "</div>"
      ],
      "text/plain": [
       "   RELY  DATA  CPLX  TIME  STOR  VIRT  TURN  ACAP  AEXP  PCAP  VEXP  LEXP  \\\n",
       "0     1     2     3     4     5     6     7     8     9    10    11    12   \n",
       "\n",
       "   MODP  TOOL  SCED  LOC  ACT_EFFORT  \n",
       "0    13    14    15   16          17  "
      ]
     },
     "execution_count": 12,
     "metadata": {},
     "output_type": "execute_result"
    }
   ],
   "source": [
    "df"
   ]
  },
  {
   "cell_type": "code",
   "execution_count": null,
   "id": "e7a94346",
   "metadata": {},
   "outputs": [],
   "source": [
    "X"
   ]
  },
  {
   "cell_type": "code",
   "execution_count": null,
   "id": "7bfd663d",
   "metadata": {},
   "outputs": [],
   "source": [
    "y"
   ]
  },
  {
   "cell_type": "code",
   "execution_count": 13,
   "id": "ae728876",
   "metadata": {},
   "outputs": [],
   "source": [
    "#get the locations    #Captical X called Matric       #indep\n",
    "# X = df[['RELY', 'DATA', 'CPLX', 'TIME', 'STOR', 'VIRT', 'TURN', 'ACAP', 'AEXP',\n",
    "#        'PCAP', 'VEXP', 'LEXP', 'MODP', 'TOOL', 'SCED', 'LOC']]\n",
    " \n",
    "#y vector\n",
    "# y = df[['ACT_EFFORT']]   #dep"
   ]
  },
  {
   "cell_type": "markdown",
   "id": "356bc812",
   "metadata": {},
   "source": [
    "# Split train/test data"
   ]
  },
  {
   "cell_type": "code",
   "execution_count": 14,
   "id": "91bf3c26",
   "metadata": {},
   "outputs": [],
   "source": [
    "from sklearn.model_selection import train_test_split\n",
    "X_train, X_test, y_train, y_test=train_test_split(X,y,test_size=0.2, random_state=42)"
   ]
  },
  {
   "cell_type": "code",
   "execution_count": 15,
   "id": "b0194005",
   "metadata": {},
   "outputs": [
    {
     "data": {
      "text/plain": [
       "(60, 16)"
      ]
     },
     "execution_count": 15,
     "metadata": {},
     "output_type": "execute_result"
    }
   ],
   "source": [
    "X.shape"
   ]
  },
  {
   "cell_type": "code",
   "execution_count": 16,
   "id": "a58757d9",
   "metadata": {},
   "outputs": [],
   "source": [
    "# X.drop(\"ACT_EFFORT\",axis=1, inplace=True)"
   ]
  },
  {
   "cell_type": "code",
   "execution_count": 37,
   "id": "c6b4dc61",
   "metadata": {},
   "outputs": [
    {
     "data": {
      "text/plain": [
       "(60,)"
      ]
     },
     "execution_count": 37,
     "metadata": {},
     "output_type": "execute_result"
    }
   ],
   "source": [
    "y.shape"
   ]
  },
  {
   "cell_type": "code",
   "execution_count": 18,
   "id": "18918c51",
   "metadata": {},
   "outputs": [
    {
     "data": {
      "text/html": [
       "<div>\n",
       "<style scoped>\n",
       "    .dataframe tbody tr th:only-of-type {\n",
       "        vertical-align: middle;\n",
       "    }\n",
       "\n",
       "    .dataframe tbody tr th {\n",
       "        vertical-align: top;\n",
       "    }\n",
       "\n",
       "    .dataframe thead th {\n",
       "        text-align: right;\n",
       "    }\n",
       "</style>\n",
       "<table border=\"1\" class=\"dataframe\">\n",
       "  <thead>\n",
       "    <tr style=\"text-align: right;\">\n",
       "      <th></th>\n",
       "      <th>RELY</th>\n",
       "      <th>DATA</th>\n",
       "      <th>CPLX</th>\n",
       "      <th>TIME</th>\n",
       "      <th>STOR</th>\n",
       "      <th>VIRT</th>\n",
       "      <th>TURN</th>\n",
       "      <th>ACAP</th>\n",
       "      <th>AEXP</th>\n",
       "      <th>PCAP</th>\n",
       "      <th>VEXP</th>\n",
       "      <th>LEXP</th>\n",
       "      <th>MODP</th>\n",
       "      <th>TOOL</th>\n",
       "      <th>SCED</th>\n",
       "      <th>LOC</th>\n",
       "    </tr>\n",
       "  </thead>\n",
       "  <tbody>\n",
       "    <tr>\n",
       "      <th>0</th>\n",
       "      <td>2</td>\n",
       "      <td>0</td>\n",
       "      <td>4</td>\n",
       "      <td>2</td>\n",
       "      <td>2</td>\n",
       "      <td>1</td>\n",
       "      <td>2</td>\n",
       "      <td>0</td>\n",
       "      <td>1</td>\n",
       "      <td>2</td>\n",
       "      <td>1</td>\n",
       "      <td>2</td>\n",
       "      <td>0</td>\n",
       "      <td>2</td>\n",
       "      <td>1</td>\n",
       "      <td>70.0</td>\n",
       "    </tr>\n",
       "    <tr>\n",
       "      <th>1</th>\n",
       "      <td>3</td>\n",
       "      <td>0</td>\n",
       "      <td>1</td>\n",
       "      <td>3</td>\n",
       "      <td>3</td>\n",
       "      <td>2</td>\n",
       "      <td>2</td>\n",
       "      <td>2</td>\n",
       "      <td>2</td>\n",
       "      <td>2</td>\n",
       "      <td>2</td>\n",
       "      <td>0</td>\n",
       "      <td>0</td>\n",
       "      <td>0</td>\n",
       "      <td>1</td>\n",
       "      <td>227.0</td>\n",
       "    </tr>\n",
       "    <tr>\n",
       "      <th>2</th>\n",
       "      <td>2</td>\n",
       "      <td>0</td>\n",
       "      <td>1</td>\n",
       "      <td>3</td>\n",
       "      <td>1</td>\n",
       "      <td>1</td>\n",
       "      <td>0</td>\n",
       "      <td>0</td>\n",
       "      <td>1</td>\n",
       "      <td>0</td>\n",
       "      <td>1</td>\n",
       "      <td>0</td>\n",
       "      <td>0</td>\n",
       "      <td>2</td>\n",
       "      <td>1</td>\n",
       "      <td>177.9</td>\n",
       "    </tr>\n",
       "    <tr>\n",
       "      <th>3</th>\n",
       "      <td>0</td>\n",
       "      <td>1</td>\n",
       "      <td>1</td>\n",
       "      <td>2</td>\n",
       "      <td>2</td>\n",
       "      <td>1</td>\n",
       "      <td>1</td>\n",
       "      <td>1</td>\n",
       "      <td>1</td>\n",
       "      <td>1</td>\n",
       "      <td>2</td>\n",
       "      <td>0</td>\n",
       "      <td>0</td>\n",
       "      <td>2</td>\n",
       "      <td>1</td>\n",
       "      <td>115.8</td>\n",
       "    </tr>\n",
       "    <tr>\n",
       "      <th>4</th>\n",
       "      <td>0</td>\n",
       "      <td>1</td>\n",
       "      <td>1</td>\n",
       "      <td>2</td>\n",
       "      <td>2</td>\n",
       "      <td>1</td>\n",
       "      <td>1</td>\n",
       "      <td>1</td>\n",
       "      <td>1</td>\n",
       "      <td>1</td>\n",
       "      <td>2</td>\n",
       "      <td>0</td>\n",
       "      <td>0</td>\n",
       "      <td>2</td>\n",
       "      <td>1</td>\n",
       "      <td>29.5</td>\n",
       "    </tr>\n",
       "  </tbody>\n",
       "</table>\n",
       "</div>"
      ],
      "text/plain": [
       "   RELY  DATA  CPLX  TIME  STOR  VIRT  TURN  ACAP  AEXP  PCAP  VEXP  LEXP  \\\n",
       "0     2     0     4     2     2     1     2     0     1     2     1     2   \n",
       "1     3     0     1     3     3     2     2     2     2     2     2     0   \n",
       "2     2     0     1     3     1     1     0     0     1     0     1     0   \n",
       "3     0     1     1     2     2     1     1     1     1     1     2     0   \n",
       "4     0     1     1     2     2     1     1     1     1     1     2     0   \n",
       "\n",
       "   MODP  TOOL  SCED    LOC  \n",
       "0     0     2     1   70.0  \n",
       "1     0     0     1  227.0  \n",
       "2     0     2     1  177.9  \n",
       "3     0     2     1  115.8  \n",
       "4     0     2     1   29.5  "
      ]
     },
     "execution_count": 18,
     "metadata": {},
     "output_type": "execute_result"
    }
   ],
   "source": [
    "X.head()"
   ]
  },
  {
   "cell_type": "markdown",
   "id": "7d6b9697",
   "metadata": {},
   "source": [
    "# LinearRegression"
   ]
  },
  {
   "cell_type": "code",
   "execution_count": 19,
   "id": "79fac619",
   "metadata": {},
   "outputs": [
    {
     "name": "stdout",
     "output_type": "stream",
     "text": [
      "    Actual  LR Predicted\n",
      "0    278.0   -105.172603\n",
      "5     60.0     96.291757\n",
      "36   360.0    316.625206\n",
      "45  2400.0   2117.672908\n",
      "13    42.0     29.916773\n",
      "54   400.0    378.861863\n",
      "33   324.0   1190.841278\n",
      "48   370.0    590.270129\n",
      "12    60.0     61.688054\n",
      "57   571.4    415.061046\n",
      "46  3240.0   2623.632154\n",
      "50   420.0    549.458299\n"
     ]
    },
    {
     "data": {
      "image/png": "[encoded data removed]",
      "text/plain": [
       "<Figure size 360x576 with 1 Axes>"
      ]
     },
     "metadata": {
      "needs_background": "light"
     },
     "output_type": "display_data"
    }
   ],
   "source": [
    "from sklearn.linear_model import LinearRegression\n",
    "import matplotlib.pyplot as plt\n",
    "lr_model=LinearRegression()\n",
    "lr_model.fit(X_train,y_train) #training algorithm\n",
    "\n",
    "#it’s time to make some predictions.\n",
    "#we will use our test data and see how accurately our algorithm predicts the percentage score.\n",
    "predicted_value=lr_model.predict(X_test)\n",
    "true_value=y_test\n",
    "\n",
    "comparison = pd.DataFrame({'Actual':true_value,'LR Predicted':predicted_value})\n",
    "print(comparison)\n",
    "\n",
    "\n",
    "plt.figure(figsize=(5,8))\n",
    "plt.scatter(true_value, predicted_value, c='crimson')\n",
    "plt.yscale('log')\n",
    "plt.xscale('log')\n",
    "\n",
    "p1 = max(max(predicted_value), max(true_value))\n",
    "p2 = min(min(predicted_value), min(true_value))\n",
    "plt.plot([p1, p2], [p1, p2], 'b-')\n",
    "plt.xlabel('True Values', fontsize=15)\n",
    "plt.ylabel('Predictions', fontsize=15)\n",
    "plt.axis('equal')\n",
    "plt.show()"
   ]
  },
  {
   "cell_type": "markdown",
   "id": "bec73720",
   "metadata": {},
   "source": [
    "# Gradient Boosting"
   ]
  },
  {
   "cell_type": "code",
   "execution_count": 20,
   "id": "78081b82",
   "metadata": {},
   "outputs": [
    {
     "name": "stdout",
     "output_type": "stream",
     "text": [
      "    Actual  GB Predicted\n",
      "0    278.0    322.182581\n",
      "5     60.0     88.161130\n",
      "36   360.0    340.567209\n",
      "45  2400.0   1092.753024\n",
      "13    42.0     42.653848\n",
      "54   400.0    304.888609\n",
      "33   324.0    631.513813\n",
      "48   370.0    253.435186\n",
      "12    60.0     71.025033\n",
      "57   571.4    374.465767\n",
      "46  3240.0   2145.993252\n",
      "50   420.0   1559.552469\n"
     ]
    },
    {
     "data": {
      "image/png": "[encoded data removed]",
      "text/plain": [
       "<Figure size 360x576 with 1 Axes>"
      ]
     },
     "metadata": {
      "needs_background": "light"
     },
     "output_type": "display_data"
    }
   ],
   "source": [
    "from sklearn.ensemble import GradientBoostingRegressor\n",
    "gb_model=GradientBoostingRegressor()\n",
    "gb_model.fit(X_train,y_train)\n",
    "gb_model.score(X_test,y_test)\n",
    "predicted_value=gb_model.predict(X_test)\n",
    "true_value=y_test\n",
    "\n",
    "comparison = pd.DataFrame({'Actual':true_value,'GB Predicted':predicted_value})\n",
    "print(comparison)\n",
    "\n",
    "plt.figure(figsize=(5,8))\n",
    "plt.scatter(true_value, predicted_value, c='crimson')\n",
    "plt.yscale('log')\n",
    "plt.xscale('log')\n",
    "\n",
    "p1 = max(max(predicted_value), max(true_value))\n",
    "p2 = min(min(predicted_value), min(true_value))\n",
    "plt.plot([p1, p2], [p1, p2], 'b-')\n",
    "plt.xlabel('True Values', fontsize=15)\n",
    "plt.ylabel('Predictions', fontsize=15)\n",
    "plt.axis('equal')\n",
    "plt.show()"
   ]
  },
  {
   "cell_type": "markdown",
   "id": "683243e3",
   "metadata": {},
   "source": [
    "# Random Forest"
   ]
  },
  {
   "cell_type": "code",
   "execution_count": 21,
   "id": "2274168e",
   "metadata": {},
   "outputs": [
    {
     "name": "stdout",
     "output_type": "stream",
     "text": [
      "    Actual  RF Predicted\n",
      "0    278.0      385.7804\n",
      "5     60.0      110.8620\n",
      "36   360.0      413.3120\n",
      "45  2400.0     1274.3100\n",
      "13    42.0       39.2600\n",
      "54   400.0      314.3380\n",
      "33   324.0     1039.5100\n",
      "48   370.0      261.8920\n",
      "12    60.0       67.0020\n",
      "57   571.4      322.8080\n",
      "46  3240.0     1957.5700\n",
      "50   420.0     1434.6000\n"
     ]
    },
    {
     "data": {
      "image/png": "[encoded data removed]",
      "text/plain": [
       "<Figure size 504x504 with 1 Axes>"
      ]
     },
     "metadata": {
      "needs_background": "light"
     },
     "output_type": "display_data"
    }
   ],
   "source": [
    "# from sklearn.model_selection import train_test_split\n",
    "import matplotlib.pyplot as plt\n",
    "from sklearn.ensemble import RandomForestRegressor\n",
    "rf_model = RandomForestRegressor(random_state=43)      \n",
    "rf_model = rf_model.fit(X_train,y_train)\n",
    "rf_model.score(X_test,y_test)\n",
    "\n",
    "predicted_value=rf_model.predict(X_test)\n",
    "true_value=y_test\n",
    "\n",
    "comparison = pd.DataFrame({'Actual':true_value,'RF Predicted':predicted_value})\n",
    "print(comparison)\n",
    "\n",
    "\n",
    "plt.figure(figsize=(7,7))\n",
    "plt.scatter(true_value, predicted_value, c='crimson')\n",
    "plt.yscale('log')\n",
    "plt.xscale('log')\n",
    "\n",
    "p1 = max(max(predicted_value), max(true_value))\n",
    "p2 = min(min(predicted_value), min(true_value))\n",
    "plt.plot([p1, p2], [p1, p2], 'b-')\n",
    "plt.xlabel('True Values', fontsize=15)\n",
    "plt.ylabel('Predictions', fontsize=15)\n",
    "plt.axis('equal')\n",
    "plt.show()"
   ]
  },
  {
   "cell_type": "markdown",
   "id": "dccfd06c",
   "metadata": {},
   "source": [
    "# Decision Tree Regression"
   ]
  },
  {
   "cell_type": "code",
   "execution_count": 22,
   "id": "2333e00a",
   "metadata": {},
   "outputs": [
    {
     "name": "stdout",
     "output_type": "stream",
     "text": [
      "    Actual  DT Predicted\n",
      "0    278.0         750.0\n",
      "5     60.0         117.6\n",
      "36   360.0         360.0\n",
      "45  2400.0         973.0\n",
      "13    42.0          42.0\n",
      "54   400.0         750.0\n",
      "33   324.0        1248.0\n",
      "48   370.0         215.0\n",
      "12    60.0          90.0\n",
      "57   571.4         252.0\n",
      "46  3240.0        2120.0\n",
      "50   420.0         815.0\n"
     ]
    },
    {
     "data": {
      "image/png": "[encoded data removed]",
      "text/plain": [
       "<Figure size 504x504 with 1 Axes>"
      ]
     },
     "metadata": {
      "needs_background": "light"
     },
     "output_type": "display_data"
    }
   ],
   "source": [
    "from sklearn.tree import DecisionTreeRegressor\n",
    "D_model=DecisionTreeRegressor(max_depth=12)\n",
    "D_model.fit(X_train,y_train)\n",
    "D_model.score(X_test,y_test)\n",
    "predicted_value=D_model.predict(X_test)\n",
    "true_value=y_test\n",
    "\n",
    "comparison = pd.DataFrame({'Actual':true_value,'DT Predicted':predicted_value})\n",
    "print(comparison)\n",
    "\n",
    "\n",
    "plt.figure(figsize=(7,7))\n",
    "plt.scatter(true_value, predicted_value, c='crimson')\n",
    "plt.yscale('log')\n",
    "plt.xscale('log')\n",
    "\n",
    "p1 = max(max(predicted_value), max(true_value))\n",
    "p2 = min(min(predicted_value), min(true_value))\n",
    "plt.plot([p1, p2], [p1, p2], 'b-')\n",
    "plt.xlabel('True Values', fontsize=15)\n",
    "plt.ylabel('Predictions', fontsize=15)\n",
    "plt.axis('equal')\n",
    "plt.show()"
   ]
  },
  {
   "cell_type": "markdown",
   "id": "afc93eb8",
   "metadata": {},
   "source": [
    "# Plotting"
   ]
  },
  {
   "cell_type": "code",
   "execution_count": 23,
   "id": "fcbf4448",
   "metadata": {},
   "outputs": [
    {
     "data": {
      "text/html": [
       "<div>\n",
       "<style scoped>\n",
       "    .dataframe tbody tr th:only-of-type {\n",
       "        vertical-align: middle;\n",
       "    }\n",
       "\n",
       "    .dataframe tbody tr th {\n",
       "        vertical-align: top;\n",
       "    }\n",
       "\n",
       "    .dataframe thead th {\n",
       "        text-align: right;\n",
       "    }\n",
       "</style>\n",
       "<table border=\"1\" class=\"dataframe\">\n",
       "  <thead>\n",
       "    <tr style=\"text-align: right;\">\n",
       "      <th></th>\n",
       "      <th>Linear Regression</th>\n",
       "      <th>Gradient Boosting</th>\n",
       "      <th>Random Forest</th>\n",
       "      <th>Decision Tree</th>\n",
       "    </tr>\n",
       "  </thead>\n",
       "  <tbody>\n",
       "    <tr>\n",
       "      <th>0</th>\n",
       "      <td>0.871803</td>\n",
       "      <td>0.614573</td>\n",
       "      <td>0.598008</td>\n",
       "      <td>0.578136</td>\n",
       "    </tr>\n",
       "  </tbody>\n",
       "</table>\n",
       "</div>"
      ],
      "text/plain": [
       "   Linear Regression   Gradient Boosting  Random Forest  Decision Tree\n",
       "0            0.871803           0.614573       0.598008       0.578136"
      ]
     },
     "execution_count": 23,
     "metadata": {},
     "output_type": "execute_result"
    }
   ],
   "source": [
    "lr_score=lr_model.score(X_test,y_test)\n",
    "gb_score=gb_model.score(X_test,y_test)\n",
    "rf_score=rf_model.score(X_test,y_test)\n",
    "d_score=D_model.score(X_test,y_test)\n",
    "\n",
    "\n",
    "Score=pd.DataFrame({'Linear Regression ':[lr_score],'Gradient Boosting':[gb_score],'Random Forest':[rf_score],'Decision Tree':[d_score]})\n",
    "Score"
   ]
  },
  {
   "cell_type": "code",
   "execution_count": 24,
   "id": "9fce7311",
   "metadata": {},
   "outputs": [],
   "source": [
    "names=[]\n",
    "\n",
    "for i in Score.columns:\n",
    "    names.append(i)"
   ]
  },
  {
   "cell_type": "code",
   "execution_count": 25,
   "id": "c00414e1",
   "metadata": {},
   "outputs": [
    {
     "data": {
      "text/plain": [
       "<BarContainer object of 4 artists>"
      ]
     },
     "execution_count": 25,
     "metadata": {},
     "output_type": "execute_result"
    },
    {
     "data": {
      "image/png": "[encoded data removed]",
      "text/plain": [
       "<Figure size 576x396 with 1 Axes>"
      ]
     },
     "metadata": {
      "needs_background": "light"
     },
     "output_type": "display_data"
    }
   ],
   "source": [
    "plt.rcParams[\"figure.figsize\"] = (8,5.5)\n",
    "plt.bar(names,Score.iloc[0].values)"
   ]
  },
  {
   "cell_type": "code",
   "execution_count": 26,
   "id": "a952b77e",
   "metadata": {},
   "outputs": [
    {
     "data": {
      "text/plain": [
       "[<matplotlib.lines.Line2D at 0x1d3bcbebdf0>]"
      ]
     },
     "execution_count": 26,
     "metadata": {},
     "output_type": "execute_result"
    },
    {
     "data": {
      "image/png": "[encoded data removed]",
      "text/plain": [
       "<Figure size 576x396 with 1 Axes>"
      ]
     },
     "metadata": {
      "needs_background": "light"
     },
     "output_type": "display_data"
    }
   ],
   "source": [
    "plt.plot(names,Score.iloc[0].values)"
   ]
  },
  {
   "cell_type": "markdown",
   "id": "8a5a9926",
   "metadata": {},
   "source": [
    "# R2"
   ]
  },
  {
   "cell_type": "code",
   "execution_count": 27,
   "id": "1a60e185",
   "metadata": {},
   "outputs": [],
   "source": [
    "lr_score=lr_model.score(X_test,y_test)\n",
    "gb_score=gb_model.score(X_test,y_test)\n",
    "rf_score=rf_model.score(X_test,y_test)\n",
    "d_score=D_model.score(X_test,y_test)"
   ]
  },
  {
   "cell_type": "code",
   "execution_count": 28,
   "id": "4eac2e46",
   "metadata": {},
   "outputs": [],
   "source": [
    "lr_pred=lr_model.predict(X_test)\n",
    "gb_pred=gb_model.predict(X_test)\n",
    "rf_pred=rf_model.predict(X_test)\n",
    "d_pred=D_model.predict(X_test)"
   ]
  },
  {
   "cell_type": "code",
   "execution_count": 29,
   "id": "a6dab70e",
   "metadata": {},
   "outputs": [],
   "source": [
    "from sklearn.metrics import r2_score, mean_squared_error\n",
    "import numpy as np"
   ]
  },
  {
   "cell_type": "code",
   "execution_count": 30,
   "id": "8c95b365",
   "metadata": {},
   "outputs": [],
   "source": [
    "lr_r2_score=r2_score(y_test, lr_pred)\n",
    "gb_r2_score=r2_score(y_test,gb_pred)\n",
    "rf_r2_score=r2_score(y_test,rf_pred)\n",
    "d_r2_score=r2_score(y_test,d_pred)"
   ]
  },
  {
   "cell_type": "code",
   "execution_count": 31,
   "id": "40ec5a07",
   "metadata": {},
   "outputs": [
    {
     "data": {
      "text/html": [
       "<div>\n",
       "<style scoped>\n",
       "    .dataframe tbody tr th:only-of-type {\n",
       "        vertical-align: middle;\n",
       "    }\n",
       "\n",
       "    .dataframe tbody tr th {\n",
       "        vertical-align: top;\n",
       "    }\n",
       "\n",
       "    .dataframe thead th {\n",
       "        text-align: right;\n",
       "    }\n",
       "</style>\n",
       "<table border=\"1\" class=\"dataframe\">\n",
       "  <thead>\n",
       "    <tr style=\"text-align: right;\">\n",
       "      <th></th>\n",
       "      <th>Linear Regression</th>\n",
       "      <th>Gradient Boosting Tree</th>\n",
       "      <th>Random Forest</th>\n",
       "      <th>Decision Tree</th>\n",
       "    </tr>\n",
       "  </thead>\n",
       "  <tbody>\n",
       "    <tr>\n",
       "      <th>0</th>\n",
       "      <td>0.871803</td>\n",
       "      <td>0.614573</td>\n",
       "      <td>0.598008</td>\n",
       "      <td>0.578136</td>\n",
       "    </tr>\n",
       "  </tbody>\n",
       "</table>\n",
       "</div>"
      ],
      "text/plain": [
       "   Linear Regression   Gradient Boosting Tree  Random Forest  Decision Tree\n",
       "0            0.871803                0.614573       0.598008       0.578136"
      ]
     },
     "execution_count": 31,
     "metadata": {},
     "output_type": "execute_result"
    }
   ],
   "source": [
    "r2_Score=pd.DataFrame({'Linear Regression ':[lr_r2_score],'Gradient Boosting Tree':[gb_r2_score],'Random Forest':[rf_r2_score],'Decision Tree':[d_r2_score]})\n",
    "r2_Score"
   ]
  },
  {
   "cell_type": "code",
   "execution_count": 32,
   "id": "9cb2f200",
   "metadata": {},
   "outputs": [
    {
     "data": {
      "text/plain": [
       "[<matplotlib.lines.Line2D at 0x1d3bcb2deb0>]"
      ]
     },
     "execution_count": 32,
     "metadata": {},
     "output_type": "execute_result"
    },
    {
     "data": {
      "image/png": "[encoded data removed]",
      "text/plain": [
       "<Figure size 576x396 with 1 Axes>"
      ]
     },
     "metadata": {
      "needs_background": "light"
     },
     "output_type": "display_data"
    }
   ],
   "source": [
    "plt.plot(names,r2_Score.iloc[0].values)"
   ]
  },
  {
   "cell_type": "markdown",
   "id": "247e25af",
   "metadata": {},
   "source": [
    "# RMSE (Root Mean Square Error)"
   ]
  },
  {
   "cell_type": "code",
   "execution_count": 33,
   "id": "77d39242",
   "metadata": {},
   "outputs": [],
   "source": [
    "lr_rmse=np.sqrt(mean_squared_error(lr_pred, y_test))\n",
    "gb_rmse=np.sqrt(mean_squared_error(gb_pred, y_test))\n",
    "rf_rmse=np.sqrt(mean_squared_error(rf_pred, y_test))\n",
    "d_rmse=np.sqrt(mean_squared_error(d_pred, y_test))"
   ]
  },
  {
   "cell_type": "code",
   "execution_count": 34,
   "id": "3d8d6c31",
   "metadata": {},
   "outputs": [
    {
     "data": {
      "text/html": [
       "<div>\n",
       "<style scoped>\n",
       "    .dataframe tbody tr th:only-of-type {\n",
       "        vertical-align: middle;\n",
       "    }\n",
       "\n",
       "    .dataframe tbody tr th {\n",
       "        vertical-align: top;\n",
       "    }\n",
       "\n",
       "    .dataframe thead th {\n",
       "        text-align: right;\n",
       "    }\n",
       "</style>\n",
       "<table border=\"1\" class=\"dataframe\">\n",
       "  <thead>\n",
       "    <tr style=\"text-align: right;\">\n",
       "      <th></th>\n",
       "      <th>Linear Regression</th>\n",
       "      <th>Gradient Boosting Tree</th>\n",
       "      <th>Random Forest</th>\n",
       "      <th>Decision Tree</th>\n",
       "    </tr>\n",
       "  </thead>\n",
       "  <tbody>\n",
       "    <tr>\n",
       "      <th>0</th>\n",
       "      <td>347.774752</td>\n",
       "      <td>603.016817</td>\n",
       "      <td>615.839398</td>\n",
       "      <td>630.877241</td>\n",
       "    </tr>\n",
       "  </tbody>\n",
       "</table>\n",
       "</div>"
      ],
      "text/plain": [
       "   Linear Regression   Gradient Boosting Tree  Random Forest  Decision Tree\n",
       "0          347.774752              603.016817     615.839398     630.877241"
      ]
     },
     "execution_count": 34,
     "metadata": {},
     "output_type": "execute_result"
    }
   ],
   "source": [
    "rmse=pd.DataFrame({'Linear Regression ':[lr_rmse],'Gradient Boosting Tree':[gb_rmse],'Random Forest':[rf_rmse],'Decision Tree':[d_rmse]})\n",
    "rmse"
   ]
  },
  {
   "cell_type": "code",
   "execution_count": 35,
   "id": "549b7c4e",
   "metadata": {},
   "outputs": [
    {
     "data": {
      "text/plain": [
       "[<matplotlib.lines.Line2D at 0x1d3bca9e070>]"
      ]
     },
     "execution_count": 35,
     "metadata": {},
     "output_type": "execute_result"
    },
    {
     "data": {
      "image/png": "[encoded data removed]",
      "text/plain": [
       "<Figure size 576x396 with 1 Axes>"
      ]
     },
     "metadata": {
      "needs_background": "light"
     },
     "output_type": "display_data"
    }
   ],
   "source": [
    "plt.plot(names,rmse.iloc[0].values)"
   ]
  },
  {
   "cell_type": "code",
   "execution_count": null,
   "id": "45058323",
   "metadata": {},
   "outputs": [],
   "source": []
  }
 ],
 "metadata": {
  "kernelspec": {
   "display_name": "Python 3",
   "language": "python",
   "name": "python3"
  },
  "language_info": {
   "codemirror_mode": {
    "name": "ipython",
    "version": 3
   },
   "file_extension": ".py",
   "mimetype": "text/x-python",
   "name": "python",
   "nbconvert_exporter": "python",
   "pygments_lexer": "ipython3",
   "version": "3.8.8"
  }
 },
 "nbformat": 4,
 "nbformat_minor": 5
}
