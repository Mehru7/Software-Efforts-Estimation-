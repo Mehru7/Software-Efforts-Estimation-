{
 "cells": [
  {
   "cell_type": "code",
   "execution_count": 1,
   "id": "ab1d8155",
   "metadata": {},
   "outputs": [],
   "source": [
    "import pandas as pd\n",
    "from sklearn.preprocessing import LabelEncoder"
   ]
  },
  {
   "cell_type": "code",
   "execution_count": 2,
   "id": "582685b3",
   "metadata": {},
   "outputs": [
    {
     "data": {
      "text/html": [
       "<div>\n",
       "<style scoped>\n",
       "    .dataframe tbody tr th:only-of-type {\n",
       "        vertical-align: middle;\n",
       "    }\n",
       "\n",
       "    .dataframe tbody tr th {\n",
       "        vertical-align: top;\n",
       "    }\n",
       "\n",
       "    .dataframe thead th {\n",
       "        text-align: right;\n",
       "    }\n",
       "</style>\n",
       "<table border=\"1\" class=\"dataframe\">\n",
       "  <thead>\n",
       "    <tr style=\"text-align: right;\">\n",
       "      <th></th>\n",
       "      <th>recordnumber</th>\n",
       "      <th>projectname</th>\n",
       "      <th>cat2</th>\n",
       "      <th>forg</th>\n",
       "      <th>center</th>\n",
       "      <th>year</th>\n",
       "      <th>mode</th>\n",
       "      <th>rely</th>\n",
       "      <th>data</th>\n",
       "      <th>cplx</th>\n",
       "      <th>...</th>\n",
       "      <th>acap</th>\n",
       "      <th>aexp</th>\n",
       "      <th>pcap</th>\n",
       "      <th>vexp</th>\n",
       "      <th>lexp</th>\n",
       "      <th>modp</th>\n",
       "      <th>tool</th>\n",
       "      <th>sced</th>\n",
       "      <th>equivphyskloc</th>\n",
       "      <th>act_effort</th>\n",
       "    </tr>\n",
       "  </thead>\n",
       "  <tbody>\n",
       "    <tr>\n",
       "      <th>0</th>\n",
       "      <td>1</td>\n",
       "      <td>de</td>\n",
       "      <td>avionicsmonitoring</td>\n",
       "      <td>g</td>\n",
       "      <td>2</td>\n",
       "      <td>1979</td>\n",
       "      <td>semidetached</td>\n",
       "      <td>h</td>\n",
       "      <td>l</td>\n",
       "      <td>h</td>\n",
       "      <td>...</td>\n",
       "      <td>n</td>\n",
       "      <td>n</td>\n",
       "      <td>n</td>\n",
       "      <td>n</td>\n",
       "      <td>h</td>\n",
       "      <td>h</td>\n",
       "      <td>n</td>\n",
       "      <td>l</td>\n",
       "      <td>25.9</td>\n",
       "      <td>117.6</td>\n",
       "    </tr>\n",
       "    <tr>\n",
       "      <th>1</th>\n",
       "      <td>2</td>\n",
       "      <td>de</td>\n",
       "      <td>avionicsmonitoring</td>\n",
       "      <td>g</td>\n",
       "      <td>2</td>\n",
       "      <td>1979</td>\n",
       "      <td>semidetached</td>\n",
       "      <td>h</td>\n",
       "      <td>l</td>\n",
       "      <td>h</td>\n",
       "      <td>...</td>\n",
       "      <td>n</td>\n",
       "      <td>n</td>\n",
       "      <td>n</td>\n",
       "      <td>n</td>\n",
       "      <td>h</td>\n",
       "      <td>h</td>\n",
       "      <td>n</td>\n",
       "      <td>l</td>\n",
       "      <td>24.6</td>\n",
       "      <td>117.6</td>\n",
       "    </tr>\n",
       "    <tr>\n",
       "      <th>2</th>\n",
       "      <td>3</td>\n",
       "      <td>de</td>\n",
       "      <td>avionicsmonitoring</td>\n",
       "      <td>g</td>\n",
       "      <td>2</td>\n",
       "      <td>1979</td>\n",
       "      <td>semidetached</td>\n",
       "      <td>h</td>\n",
       "      <td>l</td>\n",
       "      <td>h</td>\n",
       "      <td>...</td>\n",
       "      <td>n</td>\n",
       "      <td>n</td>\n",
       "      <td>n</td>\n",
       "      <td>n</td>\n",
       "      <td>h</td>\n",
       "      <td>h</td>\n",
       "      <td>n</td>\n",
       "      <td>l</td>\n",
       "      <td>7.7</td>\n",
       "      <td>31.2</td>\n",
       "    </tr>\n",
       "    <tr>\n",
       "      <th>3</th>\n",
       "      <td>4</td>\n",
       "      <td>de</td>\n",
       "      <td>avionicsmonitoring</td>\n",
       "      <td>g</td>\n",
       "      <td>2</td>\n",
       "      <td>1979</td>\n",
       "      <td>semidetached</td>\n",
       "      <td>h</td>\n",
       "      <td>l</td>\n",
       "      <td>h</td>\n",
       "      <td>...</td>\n",
       "      <td>n</td>\n",
       "      <td>n</td>\n",
       "      <td>n</td>\n",
       "      <td>n</td>\n",
       "      <td>h</td>\n",
       "      <td>h</td>\n",
       "      <td>n</td>\n",
       "      <td>l</td>\n",
       "      <td>8.2</td>\n",
       "      <td>36.0</td>\n",
       "    </tr>\n",
       "    <tr>\n",
       "      <th>4</th>\n",
       "      <td>5</td>\n",
       "      <td>de</td>\n",
       "      <td>avionicsmonitoring</td>\n",
       "      <td>g</td>\n",
       "      <td>2</td>\n",
       "      <td>1979</td>\n",
       "      <td>semidetached</td>\n",
       "      <td>h</td>\n",
       "      <td>l</td>\n",
       "      <td>h</td>\n",
       "      <td>...</td>\n",
       "      <td>n</td>\n",
       "      <td>n</td>\n",
       "      <td>n</td>\n",
       "      <td>n</td>\n",
       "      <td>h</td>\n",
       "      <td>h</td>\n",
       "      <td>n</td>\n",
       "      <td>l</td>\n",
       "      <td>9.7</td>\n",
       "      <td>25.2</td>\n",
       "    </tr>\n",
       "  </tbody>\n",
       "</table>\n",
       "<p>5 rows × 24 columns</p>\n",
       "</div>"
      ],
      "text/plain": [
       "   recordnumber projectname                cat2 forg  center  year  \\\n",
       "0             1          de  avionicsmonitoring    g       2  1979   \n",
       "1             2          de  avionicsmonitoring    g       2  1979   \n",
       "2             3          de  avionicsmonitoring    g       2  1979   \n",
       "3             4          de  avionicsmonitoring    g       2  1979   \n",
       "4             5          de  avionicsmonitoring    g       2  1979   \n",
       "\n",
       "           mode rely data cplx  ... acap aexp pcap vexp lexp modp tool sced  \\\n",
       "0  semidetached    h    l    h  ...    n    n    n    n    h    h    n    l   \n",
       "1  semidetached    h    l    h  ...    n    n    n    n    h    h    n    l   \n",
       "2  semidetached    h    l    h  ...    n    n    n    n    h    h    n    l   \n",
       "3  semidetached    h    l    h  ...    n    n    n    n    h    h    n    l   \n",
       "4  semidetached    h    l    h  ...    n    n    n    n    h    h    n    l   \n",
       "\n",
       "  equivphyskloc act_effort  \n",
       "0          25.9      117.6  \n",
       "1          24.6      117.6  \n",
       "2           7.7       31.2  \n",
       "3           8.2       36.0  \n",
       "4           9.7       25.2  \n",
       "\n",
       "[5 rows x 24 columns]"
      ]
     },
     "execution_count": 2,
     "metadata": {},
     "output_type": "execute_result"
    }
   ],
   "source": [
    "df=pd.read_csv('04. nasa93.csv')\n",
    "df.head()"
   ]
  },
  {
   "cell_type": "code",
   "execution_count": 3,
   "id": "e5768de2",
   "metadata": {},
   "outputs": [
    {
     "data": {
      "text/plain": [
       "(93, 24)"
      ]
     },
     "execution_count": 3,
     "metadata": {},
     "output_type": "execute_result"
    }
   ],
   "source": [
    "df.shape"
   ]
  },
  {
   "cell_type": "code",
   "execution_count": 4,
   "id": "cc2da9da",
   "metadata": {},
   "outputs": [
    {
     "data": {
      "text/html": [
       "<div>\n",
       "<style scoped>\n",
       "    .dataframe tbody tr th:only-of-type {\n",
       "        vertical-align: middle;\n",
       "    }\n",
       "\n",
       "    .dataframe tbody tr th {\n",
       "        vertical-align: top;\n",
       "    }\n",
       "\n",
       "    .dataframe thead th {\n",
       "        text-align: right;\n",
       "    }\n",
       "</style>\n",
       "<table border=\"1\" class=\"dataframe\">\n",
       "  <thead>\n",
       "    <tr style=\"text-align: right;\">\n",
       "      <th></th>\n",
       "      <th>recordnumber</th>\n",
       "      <th>center</th>\n",
       "      <th>year</th>\n",
       "      <th>equivphyskloc</th>\n",
       "      <th>act_effort</th>\n",
       "    </tr>\n",
       "  </thead>\n",
       "  <tbody>\n",
       "    <tr>\n",
       "      <th>count</th>\n",
       "      <td>93.000000</td>\n",
       "      <td>93.000000</td>\n",
       "      <td>93.000000</td>\n",
       "      <td>93.000000</td>\n",
       "      <td>93.000000</td>\n",
       "    </tr>\n",
       "    <tr>\n",
       "      <th>mean</th>\n",
       "      <td>47.752688</td>\n",
       "      <td>3.279570</td>\n",
       "      <td>1980.827957</td>\n",
       "      <td>94.022043</td>\n",
       "      <td>624.411828</td>\n",
       "    </tr>\n",
       "    <tr>\n",
       "      <th>std</th>\n",
       "      <td>28.229901</td>\n",
       "      <td>1.683459</td>\n",
       "      <td>3.335004</td>\n",
       "      <td>133.597947</td>\n",
       "      <td>1135.928065</td>\n",
       "    </tr>\n",
       "    <tr>\n",
       "      <th>min</th>\n",
       "      <td>1.000000</td>\n",
       "      <td>1.000000</td>\n",
       "      <td>1971.000000</td>\n",
       "      <td>0.900000</td>\n",
       "      <td>8.400000</td>\n",
       "    </tr>\n",
       "    <tr>\n",
       "      <th>25%</th>\n",
       "      <td>24.000000</td>\n",
       "      <td>2.000000</td>\n",
       "      <td>1979.000000</td>\n",
       "      <td>15.400000</td>\n",
       "      <td>70.000000</td>\n",
       "    </tr>\n",
       "    <tr>\n",
       "      <th>50%</th>\n",
       "      <td>47.000000</td>\n",
       "      <td>2.000000</td>\n",
       "      <td>1980.000000</td>\n",
       "      <td>47.500000</td>\n",
       "      <td>252.000000</td>\n",
       "    </tr>\n",
       "    <tr>\n",
       "      <th>75%</th>\n",
       "      <td>70.000000</td>\n",
       "      <td>5.000000</td>\n",
       "      <td>1983.000000</td>\n",
       "      <td>111.000000</td>\n",
       "      <td>600.000000</td>\n",
       "    </tr>\n",
       "    <tr>\n",
       "      <th>max</th>\n",
       "      <td>101.000000</td>\n",
       "      <td>6.000000</td>\n",
       "      <td>1987.000000</td>\n",
       "      <td>980.000000</td>\n",
       "      <td>8211.000000</td>\n",
       "    </tr>\n",
       "  </tbody>\n",
       "</table>\n",
       "</div>"
      ],
      "text/plain": [
       "       recordnumber     center         year  equivphyskloc   act_effort\n",
       "count     93.000000  93.000000    93.000000      93.000000    93.000000\n",
       "mean      47.752688   3.279570  1980.827957      94.022043   624.411828\n",
       "std       28.229901   1.683459     3.335004     133.597947  1135.928065\n",
       "min        1.000000   1.000000  1971.000000       0.900000     8.400000\n",
       "25%       24.000000   2.000000  1979.000000      15.400000    70.000000\n",
       "50%       47.000000   2.000000  1980.000000      47.500000   252.000000\n",
       "75%       70.000000   5.000000  1983.000000     111.000000   600.000000\n",
       "max      101.000000   6.000000  1987.000000     980.000000  8211.000000"
      ]
     },
     "execution_count": 4,
     "metadata": {},
     "output_type": "execute_result"
    }
   ],
   "source": [
    "df.describe()"
   ]
  },
  {
   "cell_type": "code",
   "execution_count": 5,
   "id": "07c9df9c",
   "metadata": {},
   "outputs": [
    {
     "name": "stdout",
     "output_type": "stream",
     "text": [
      "<class 'pandas.core.series.Series'>\n",
      "<class 'pandas.core.series.Series'>\n",
      "<class 'pandas.core.series.Series'>\n",
      "<class 'pandas.core.series.Series'>\n",
      "<class 'pandas.core.series.Series'>\n",
      "<class 'pandas.core.series.Series'>\n",
      "<class 'pandas.core.series.Series'>\n",
      "<class 'pandas.core.series.Series'>\n",
      "<class 'pandas.core.series.Series'>\n",
      "<class 'pandas.core.series.Series'>\n",
      "<class 'pandas.core.series.Series'>\n",
      "<class 'pandas.core.series.Series'>\n",
      "<class 'pandas.core.series.Series'>\n",
      "<class 'pandas.core.series.Series'>\n",
      "<class 'pandas.core.series.Series'>\n",
      "<class 'pandas.core.series.Series'>\n",
      "<class 'pandas.core.series.Series'>\n",
      "<class 'pandas.core.series.Series'>\n",
      "<class 'pandas.core.series.Series'>\n",
      "<class 'pandas.core.series.Series'>\n",
      "<class 'pandas.core.series.Series'>\n",
      "<class 'pandas.core.series.Series'>\n",
      "<class 'pandas.core.series.Series'>\n",
      "<class 'pandas.core.series.Series'>\n"
     ]
    }
   ],
   "source": [
    "for i in df.columns:\n",
    "    print(type(df[i]))"
   ]
  },
  {
   "cell_type": "code",
   "execution_count": 6,
   "id": "473f211e",
   "metadata": {},
   "outputs": [
    {
     "name": "stdout",
     "output_type": "stream",
     "text": [
      "int64\n",
      "object\n",
      "object\n",
      "object\n",
      "int64\n",
      "int64\n",
      "object\n",
      "object\n",
      "object\n",
      "object\n",
      "object\n",
      "object\n",
      "object\n",
      "object\n",
      "object\n",
      "object\n",
      "object\n",
      "object\n",
      "object\n",
      "object\n",
      "object\n",
      "object\n",
      "float64\n",
      "float64\n"
     ]
    }
   ],
   "source": [
    "for i in df.columns:\n",
    "    print(df[i].dtype)"
   ]
  },
  {
   "cell_type": "markdown",
   "id": "15093f91",
   "metadata": {},
   "source": [
    "# Convert String Data To Numerical Data"
   ]
  },
  {
   "cell_type": "code",
   "execution_count": 7,
   "id": "b06e71e3",
   "metadata": {},
   "outputs": [
    {
     "data": {
      "text/plain": [
       "Index(['recordnumber', 'projectname', 'cat2', 'forg', 'center', 'year', 'mode',\n",
       "       'rely', 'data', 'cplx', 'time', 'stor', 'virt', 'turn', 'acap', 'aexp',\n",
       "       'pcap', 'vexp', 'lexp', 'modp', 'tool', 'sced', 'equivphyskloc'],\n",
       "      dtype='object')"
      ]
     },
     "execution_count": 7,
     "metadata": {},
     "output_type": "execute_result"
    }
   ],
   "source": [
    "str_data=df.drop(['act_effort'],axis=1)\n",
    "str_data.columns"
   ]
  },
  {
   "cell_type": "code",
   "execution_count": 8,
   "id": "9bd5a036",
   "metadata": {},
   "outputs": [],
   "source": [
    "le=LabelEncoder()\n",
    "for i in str_data.columns:\n",
    "    df[i]=le.fit_transform(df[i])"
   ]
  },
  {
   "cell_type": "code",
   "execution_count": 9,
   "id": "6018f1fd",
   "metadata": {},
   "outputs": [
    {
     "name": "stdout",
     "output_type": "stream",
     "text": [
      "int64\n",
      "int32\n",
      "int32\n",
      "int32\n",
      "int64\n",
      "int64\n",
      "int32\n",
      "int32\n",
      "int32\n",
      "int32\n",
      "int32\n",
      "int32\n",
      "int32\n",
      "int32\n",
      "int32\n",
      "int32\n",
      "int32\n",
      "int32\n",
      "int32\n",
      "int32\n",
      "int32\n",
      "int32\n",
      "int64\n",
      "float64\n"
     ]
    }
   ],
   "source": [
    "for i in df.columns:\n",
    "    print(df[i].dtype)"
   ]
  },
  {
   "cell_type": "code",
   "execution_count": 10,
   "id": "d2f7aac7",
   "metadata": {},
   "outputs": [
    {
     "data": {
      "text/plain": [
       "recordnumber     0\n",
       "projectname      0\n",
       "cat2             0\n",
       "forg             0\n",
       "center           0\n",
       "year             0\n",
       "mode             0\n",
       "rely             0\n",
       "data             0\n",
       "cplx             0\n",
       "time             0\n",
       "stor             0\n",
       "virt             0\n",
       "turn             0\n",
       "acap             0\n",
       "aexp             0\n",
       "pcap             0\n",
       "vexp             0\n",
       "lexp             0\n",
       "modp             0\n",
       "tool             0\n",
       "sced             0\n",
       "equivphyskloc    0\n",
       "act_effort       0\n",
       "dtype: int64"
      ]
     },
     "execution_count": 10,
     "metadata": {},
     "output_type": "execute_result"
    }
   ],
   "source": [
    "df.isna().sum()"
   ]
  },
  {
   "cell_type": "code",
   "execution_count": 11,
   "id": "ed0c3417",
   "metadata": {},
   "outputs": [
    {
     "data": {
      "text/plain": [
       "<AxesSubplot:>"
      ]
     },
     "execution_count": 11,
     "metadata": {},
     "output_type": "execute_result"
    },
    {
     "data": {
      "image/png": "[encoded data removed]",
      "text/plain": [
       "<Figure size 432x288 with 1 Axes>"
      ]
     },
     "metadata": {
      "needs_background": "light"
     },
     "output_type": "display_data"
    }
   ],
   "source": [
    "import seaborn as sns\n",
    "\n",
    "sns.heatmap(df.isnull(),yticklabels=False,cbar=False,cmap='viridis')  #Checking how many missing values are there in it"
   ]
  },
  {
   "cell_type": "code",
   "execution_count": 12,
   "id": "19370458",
   "metadata": {},
   "outputs": [],
   "source": [
    "X=df.drop('act_effort',axis=1)\n",
    "y=df['act_effort']"
   ]
  },
  {
   "cell_type": "markdown",
   "id": "ad3b2f6e",
   "metadata": {},
   "source": [
    "# define scalar values"
   ]
  },
  {
   "cell_type": "code",
   "execution_count": 13,
   "id": "7d3f837b",
   "metadata": {},
   "outputs": [],
   "source": [
    "a   =1\n",
    "b   =2\n",
    "c   =3\n",
    "d   =4\n",
    "e   =5\n",
    "f   =6\n",
    "g   =7\n",
    "h   =8\n",
    "i   =9\n",
    "j   =10\n",
    "k   =11\n",
    "l   =12\n",
    "m   =13\n",
    "n   =14  \n",
    "o   =15\n",
    "p   =16\n",
    "q   =17\n",
    "r   =18\n",
    "s   =19\n",
    "t   =20\n",
    "u   =21\n",
    "v   =22\n",
    "w   =23\n",
    "x   =24"
   ]
  },
  {
   "cell_type": "markdown",
   "id": "7feb54f0",
   "metadata": {},
   "source": [
    "# create DataFrame by transforming scalar values to list"
   ]
  },
  {
   "cell_type": "code",
   "execution_count": 14,
   "id": "2b8173d0",
   "metadata": {},
   "outputs": [],
   "source": [
    "df = pd.DataFrame({'recordnumber': [a],'projectname': [b],'cat2 ': [c], 'forg ':[d], 'center' :[e], 'year' : [f], 'mode': [g],'rely ' : [h], 'data': [i], 'cplx': [j],'time' : [k], 'stor': [l],'virt': [m], 'turn': [n], 'acap':[o], 'aexp':[p], 'pcap':[q], 'vexp':[r],'lexp':[s], 'modp':[t],'tool':[u], 'sced ':[v],'equivphyskloc ':[w], 'act_effort':[x]})"
   ]
  },
  {
   "cell_type": "code",
   "execution_count": 15,
   "id": "74792c70",
   "metadata": {},
   "outputs": [
    {
     "data": {
      "text/html": [
       "<div>\n",
       "<style scoped>\n",
       "    .dataframe tbody tr th:only-of-type {\n",
       "        vertical-align: middle;\n",
       "    }\n",
       "\n",
       "    .dataframe tbody tr th {\n",
       "        vertical-align: top;\n",
       "    }\n",
       "\n",
       "    .dataframe thead th {\n",
       "        text-align: right;\n",
       "    }\n",
       "</style>\n",
       "<table border=\"1\" class=\"dataframe\">\n",
       "  <thead>\n",
       "    <tr style=\"text-align: right;\">\n",
       "      <th></th>\n",
       "      <th>recordnumber</th>\n",
       "      <th>projectname</th>\n",
       "      <th>cat2</th>\n",
       "      <th>forg</th>\n",
       "      <th>center</th>\n",
       "      <th>year</th>\n",
       "      <th>mode</th>\n",
       "      <th>rely</th>\n",
       "      <th>data</th>\n",
       "      <th>cplx</th>\n",
       "      <th>...</th>\n",
       "      <th>acap</th>\n",
       "      <th>aexp</th>\n",
       "      <th>pcap</th>\n",
       "      <th>vexp</th>\n",
       "      <th>lexp</th>\n",
       "      <th>modp</th>\n",
       "      <th>tool</th>\n",
       "      <th>sced</th>\n",
       "      <th>equivphyskloc</th>\n",
       "      <th>act_effort</th>\n",
       "    </tr>\n",
       "  </thead>\n",
       "  <tbody>\n",
       "    <tr>\n",
       "      <th>0</th>\n",
       "      <td>1</td>\n",
       "      <td>2</td>\n",
       "      <td>3</td>\n",
       "      <td>4</td>\n",
       "      <td>5</td>\n",
       "      <td>6</td>\n",
       "      <td>7</td>\n",
       "      <td>8</td>\n",
       "      <td>9</td>\n",
       "      <td>10</td>\n",
       "      <td>...</td>\n",
       "      <td>15</td>\n",
       "      <td>16</td>\n",
       "      <td>17</td>\n",
       "      <td>18</td>\n",
       "      <td>19</td>\n",
       "      <td>20</td>\n",
       "      <td>21</td>\n",
       "      <td>22</td>\n",
       "      <td>23</td>\n",
       "      <td>24</td>\n",
       "    </tr>\n",
       "  </tbody>\n",
       "</table>\n",
       "<p>1 rows × 24 columns</p>\n",
       "</div>"
      ],
      "text/plain": [
       "   recordnumber  projectname  cat2   forg   center  year  mode  rely   data  \\\n",
       "0             1            2      3      4       5     6     7      8     9   \n",
       "\n",
       "   cplx  ...  acap  aexp  pcap  vexp  lexp  modp  tool  sced   equivphyskloc   \\\n",
       "0    10  ...    15    16    17    18    19    20    21     22              23   \n",
       "\n",
       "   act_effort  \n",
       "0          24  \n",
       "\n",
       "[1 rows x 24 columns]"
      ]
     },
     "execution_count": 15,
     "metadata": {},
     "output_type": "execute_result"
    }
   ],
   "source": [
    "df"
   ]
  },
  {
   "cell_type": "code",
   "execution_count": 37,
   "id": "1fb53f80",
   "metadata": {},
   "outputs": [
    {
     "data": {
      "text/html": [
       "<div>\n",
       "<style scoped>\n",
       "    .dataframe tbody tr th:only-of-type {\n",
       "        vertical-align: middle;\n",
       "    }\n",
       "\n",
       "    .dataframe tbody tr th {\n",
       "        vertical-align: top;\n",
       "    }\n",
       "\n",
       "    .dataframe thead th {\n",
       "        text-align: right;\n",
       "    }\n",
       "</style>\n",
       "<table border=\"1\" class=\"dataframe\">\n",
       "  <thead>\n",
       "    <tr style=\"text-align: right;\">\n",
       "      <th></th>\n",
       "      <th>recordnumber</th>\n",
       "      <th>projectname</th>\n",
       "      <th>cat2</th>\n",
       "      <th>forg</th>\n",
       "      <th>center</th>\n",
       "      <th>year</th>\n",
       "      <th>mode</th>\n",
       "      <th>rely</th>\n",
       "      <th>data</th>\n",
       "      <th>cplx</th>\n",
       "      <th>...</th>\n",
       "      <th>turn</th>\n",
       "      <th>acap</th>\n",
       "      <th>aexp</th>\n",
       "      <th>pcap</th>\n",
       "      <th>vexp</th>\n",
       "      <th>lexp</th>\n",
       "      <th>modp</th>\n",
       "      <th>tool</th>\n",
       "      <th>sced</th>\n",
       "      <th>equivphyskloc</th>\n",
       "    </tr>\n",
       "  </thead>\n",
       "  <tbody>\n",
       "    <tr>\n",
       "      <th>0</th>\n",
       "      <td>0</td>\n",
       "      <td>2</td>\n",
       "      <td>2</td>\n",
       "      <td>1</td>\n",
       "      <td>1</td>\n",
       "      <td>6</td>\n",
       "      <td>2</td>\n",
       "      <td>0</td>\n",
       "      <td>1</td>\n",
       "      <td>0</td>\n",
       "      <td>...</td>\n",
       "      <td>1</td>\n",
       "      <td>1</td>\n",
       "      <td>2</td>\n",
       "      <td>1</td>\n",
       "      <td>2</td>\n",
       "      <td>0</td>\n",
       "      <td>0</td>\n",
       "      <td>2</td>\n",
       "      <td>1</td>\n",
       "      <td>31</td>\n",
       "    </tr>\n",
       "    <tr>\n",
       "      <th>1</th>\n",
       "      <td>1</td>\n",
       "      <td>2</td>\n",
       "      <td>2</td>\n",
       "      <td>1</td>\n",
       "      <td>1</td>\n",
       "      <td>6</td>\n",
       "      <td>2</td>\n",
       "      <td>0</td>\n",
       "      <td>1</td>\n",
       "      <td>0</td>\n",
       "      <td>...</td>\n",
       "      <td>1</td>\n",
       "      <td>1</td>\n",
       "      <td>2</td>\n",
       "      <td>1</td>\n",
       "      <td>2</td>\n",
       "      <td>0</td>\n",
       "      <td>0</td>\n",
       "      <td>2</td>\n",
       "      <td>1</td>\n",
       "      <td>30</td>\n",
       "    </tr>\n",
       "    <tr>\n",
       "      <th>2</th>\n",
       "      <td>2</td>\n",
       "      <td>2</td>\n",
       "      <td>2</td>\n",
       "      <td>1</td>\n",
       "      <td>1</td>\n",
       "      <td>6</td>\n",
       "      <td>2</td>\n",
       "      <td>0</td>\n",
       "      <td>1</td>\n",
       "      <td>0</td>\n",
       "      <td>...</td>\n",
       "      <td>1</td>\n",
       "      <td>1</td>\n",
       "      <td>2</td>\n",
       "      <td>1</td>\n",
       "      <td>2</td>\n",
       "      <td>0</td>\n",
       "      <td>0</td>\n",
       "      <td>2</td>\n",
       "      <td>1</td>\n",
       "      <td>10</td>\n",
       "    </tr>\n",
       "    <tr>\n",
       "      <th>3</th>\n",
       "      <td>3</td>\n",
       "      <td>2</td>\n",
       "      <td>2</td>\n",
       "      <td>1</td>\n",
       "      <td>1</td>\n",
       "      <td>6</td>\n",
       "      <td>2</td>\n",
       "      <td>0</td>\n",
       "      <td>1</td>\n",
       "      <td>0</td>\n",
       "      <td>...</td>\n",
       "      <td>1</td>\n",
       "      <td>1</td>\n",
       "      <td>2</td>\n",
       "      <td>1</td>\n",
       "      <td>2</td>\n",
       "      <td>0</td>\n",
       "      <td>0</td>\n",
       "      <td>2</td>\n",
       "      <td>1</td>\n",
       "      <td>12</td>\n",
       "    </tr>\n",
       "    <tr>\n",
       "      <th>4</th>\n",
       "      <td>4</td>\n",
       "      <td>2</td>\n",
       "      <td>2</td>\n",
       "      <td>1</td>\n",
       "      <td>1</td>\n",
       "      <td>6</td>\n",
       "      <td>2</td>\n",
       "      <td>0</td>\n",
       "      <td>1</td>\n",
       "      <td>0</td>\n",
       "      <td>...</td>\n",
       "      <td>1</td>\n",
       "      <td>1</td>\n",
       "      <td>2</td>\n",
       "      <td>1</td>\n",
       "      <td>2</td>\n",
       "      <td>0</td>\n",
       "      <td>0</td>\n",
       "      <td>2</td>\n",
       "      <td>1</td>\n",
       "      <td>13</td>\n",
       "    </tr>\n",
       "    <tr>\n",
       "      <th>...</th>\n",
       "      <td>...</td>\n",
       "      <td>...</td>\n",
       "      <td>...</td>\n",
       "      <td>...</td>\n",
       "      <td>...</td>\n",
       "      <td>...</td>\n",
       "      <td>...</td>\n",
       "      <td>...</td>\n",
       "      <td>...</td>\n",
       "      <td>...</td>\n",
       "      <td>...</td>\n",
       "      <td>...</td>\n",
       "      <td>...</td>\n",
       "      <td>...</td>\n",
       "      <td>...</td>\n",
       "      <td>...</td>\n",
       "      <td>...</td>\n",
       "      <td>...</td>\n",
       "      <td>...</td>\n",
       "      <td>...</td>\n",
       "      <td>...</td>\n",
       "    </tr>\n",
       "    <tr>\n",
       "      <th>88</th>\n",
       "      <td>88</td>\n",
       "      <td>4</td>\n",
       "      <td>0</td>\n",
       "      <td>0</td>\n",
       "      <td>3</td>\n",
       "      <td>8</td>\n",
       "      <td>0</td>\n",
       "      <td>3</td>\n",
       "      <td>1</td>\n",
       "      <td>3</td>\n",
       "      <td>...</td>\n",
       "      <td>1</td>\n",
       "      <td>0</td>\n",
       "      <td>1</td>\n",
       "      <td>1</td>\n",
       "      <td>3</td>\n",
       "      <td>1</td>\n",
       "      <td>1</td>\n",
       "      <td>0</td>\n",
       "      <td>0</td>\n",
       "      <td>8</td>\n",
       "    </tr>\n",
       "    <tr>\n",
       "      <th>89</th>\n",
       "      <td>89</td>\n",
       "      <td>1</td>\n",
       "      <td>0</td>\n",
       "      <td>0</td>\n",
       "      <td>3</td>\n",
       "      <td>7</td>\n",
       "      <td>0</td>\n",
       "      <td>3</td>\n",
       "      <td>0</td>\n",
       "      <td>3</td>\n",
       "      <td>...</td>\n",
       "      <td>2</td>\n",
       "      <td>0</td>\n",
       "      <td>0</td>\n",
       "      <td>0</td>\n",
       "      <td>0</td>\n",
       "      <td>0</td>\n",
       "      <td>0</td>\n",
       "      <td>2</td>\n",
       "      <td>0</td>\n",
       "      <td>68</td>\n",
       "    </tr>\n",
       "    <tr>\n",
       "      <th>90</th>\n",
       "      <td>90</td>\n",
       "      <td>0</td>\n",
       "      <td>0</td>\n",
       "      <td>0</td>\n",
       "      <td>1</td>\n",
       "      <td>9</td>\n",
       "      <td>0</td>\n",
       "      <td>0</td>\n",
       "      <td>2</td>\n",
       "      <td>3</td>\n",
       "      <td>...</td>\n",
       "      <td>0</td>\n",
       "      <td>1</td>\n",
       "      <td>2</td>\n",
       "      <td>1</td>\n",
       "      <td>1</td>\n",
       "      <td>1</td>\n",
       "      <td>2</td>\n",
       "      <td>2</td>\n",
       "      <td>0</td>\n",
       "      <td>24</td>\n",
       "    </tr>\n",
       "    <tr>\n",
       "      <th>91</th>\n",
       "      <td>91</td>\n",
       "      <td>0</td>\n",
       "      <td>0</td>\n",
       "      <td>0</td>\n",
       "      <td>1</td>\n",
       "      <td>9</td>\n",
       "      <td>0</td>\n",
       "      <td>0</td>\n",
       "      <td>2</td>\n",
       "      <td>3</td>\n",
       "      <td>...</td>\n",
       "      <td>0</td>\n",
       "      <td>1</td>\n",
       "      <td>2</td>\n",
       "      <td>1</td>\n",
       "      <td>1</td>\n",
       "      <td>1</td>\n",
       "      <td>2</td>\n",
       "      <td>2</td>\n",
       "      <td>0</td>\n",
       "      <td>6</td>\n",
       "    </tr>\n",
       "    <tr>\n",
       "      <th>92</th>\n",
       "      <td>92</td>\n",
       "      <td>0</td>\n",
       "      <td>11</td>\n",
       "      <td>0</td>\n",
       "      <td>1</td>\n",
       "      <td>9</td>\n",
       "      <td>0</td>\n",
       "      <td>0</td>\n",
       "      <td>2</td>\n",
       "      <td>3</td>\n",
       "      <td>...</td>\n",
       "      <td>0</td>\n",
       "      <td>1</td>\n",
       "      <td>2</td>\n",
       "      <td>1</td>\n",
       "      <td>1</td>\n",
       "      <td>1</td>\n",
       "      <td>2</td>\n",
       "      <td>2</td>\n",
       "      <td>0</td>\n",
       "      <td>2</td>\n",
       "    </tr>\n",
       "  </tbody>\n",
       "</table>\n",
       "<p>93 rows × 23 columns</p>\n",
       "</div>"
      ],
      "text/plain": [
       "    recordnumber  projectname  cat2  forg  center  year  mode  rely  data  \\\n",
       "0              0            2     2     1       1     6     2     0     1   \n",
       "1              1            2     2     1       1     6     2     0     1   \n",
       "2              2            2     2     1       1     6     2     0     1   \n",
       "3              3            2     2     1       1     6     2     0     1   \n",
       "4              4            2     2     1       1     6     2     0     1   \n",
       "..           ...          ...   ...   ...     ...   ...   ...   ...   ...   \n",
       "88            88            4     0     0       3     8     0     3     1   \n",
       "89            89            1     0     0       3     7     0     3     0   \n",
       "90            90            0     0     0       1     9     0     0     2   \n",
       "91            91            0     0     0       1     9     0     0     2   \n",
       "92            92            0    11     0       1     9     0     0     2   \n",
       "\n",
       "    cplx  ...  turn  acap  aexp  pcap  vexp  lexp  modp  tool  sced  \\\n",
       "0      0  ...     1     1     2     1     2     0     0     2     1   \n",
       "1      0  ...     1     1     2     1     2     0     0     2     1   \n",
       "2      0  ...     1     1     2     1     2     0     0     2     1   \n",
       "3      0  ...     1     1     2     1     2     0     0     2     1   \n",
       "4      0  ...     1     1     2     1     2     0     0     2     1   \n",
       "..   ...  ...   ...   ...   ...   ...   ...   ...   ...   ...   ...   \n",
       "88     3  ...     1     0     1     1     3     1     1     0     0   \n",
       "89     3  ...     2     0     0     0     0     0     0     2     0   \n",
       "90     3  ...     0     1     2     1     1     1     2     2     0   \n",
       "91     3  ...     0     1     2     1     1     1     2     2     0   \n",
       "92     3  ...     0     1     2     1     1     1     2     2     0   \n",
       "\n",
       "    equivphyskloc  \n",
       "0              31  \n",
       "1              30  \n",
       "2              10  \n",
       "3              12  \n",
       "4              13  \n",
       "..            ...  \n",
       "88              8  \n",
       "89             68  \n",
       "90             24  \n",
       "91              6  \n",
       "92              2  \n",
       "\n",
       "[93 rows x 23 columns]"
      ]
     },
     "execution_count": 37,
     "metadata": {},
     "output_type": "execute_result"
    }
   ],
   "source": [
    "X"
   ]
  },
  {
   "cell_type": "code",
   "execution_count": 38,
   "id": "2aab2442",
   "metadata": {},
   "outputs": [
    {
     "data": {
      "text/plain": [
       "0      117.6\n",
       "1      117.6\n",
       "2       31.2\n",
       "3       36.0\n",
       "4       25.2\n",
       "       ...  \n",
       "88     648.0\n",
       "89    8211.0\n",
       "90     480.0\n",
       "91      12.0\n",
       "92      38.0\n",
       "Name: act_effort, Length: 93, dtype: float64"
      ]
     },
     "execution_count": 38,
     "metadata": {},
     "output_type": "execute_result"
    }
   ],
   "source": [
    "y"
   ]
  },
  {
   "cell_type": "markdown",
   "id": "f30b0418",
   "metadata": {},
   "source": [
    "# Split train/test data"
   ]
  },
  {
   "cell_type": "code",
   "execution_count": 16,
   "id": "e8bb6090",
   "metadata": {},
   "outputs": [],
   "source": [
    "from sklearn.model_selection import train_test_split\n",
    "X_train, X_test, y_train, y_test=train_test_split(X,y,test_size=0.2, random_state=42)"
   ]
  },
  {
   "cell_type": "code",
   "execution_count": 17,
   "id": "7d04cd30",
   "metadata": {},
   "outputs": [
    {
     "data": {
      "text/plain": [
       "(93, 23)"
      ]
     },
     "execution_count": 17,
     "metadata": {},
     "output_type": "execute_result"
    }
   ],
   "source": [
    "X.shape"
   ]
  },
  {
   "cell_type": "code",
   "execution_count": 18,
   "id": "9ac587fc",
   "metadata": {},
   "outputs": [],
   "source": [
    "# X.drop(\"act_effort\",axis=1, inplace=True)"
   ]
  },
  {
   "cell_type": "code",
   "execution_count": 39,
   "id": "7a784d6b",
   "metadata": {},
   "outputs": [
    {
     "data": {
      "text/plain": [
       "(93,)"
      ]
     },
     "execution_count": 39,
     "metadata": {},
     "output_type": "execute_result"
    }
   ],
   "source": [
    "y.shape"
   ]
  },
  {
   "cell_type": "markdown",
   "id": "7a74d1da",
   "metadata": {},
   "source": [
    "# LinearRegression"
   ]
  },
  {
   "cell_type": "code",
   "execution_count": 20,
   "id": "fd1c3d93",
   "metadata": {},
   "outputs": [
    {
     "name": "stdout",
     "output_type": "stream",
     "text": [
      "    Actual  LR Predicted\n",
      "40  1248.0   1695.661235\n",
      "22   120.0    232.810863\n",
      "55  1181.0    779.596550\n",
      "72   300.0    165.276445\n",
      "0    117.6    547.782285\n",
      "26    70.0    -88.070239\n",
      "39   114.0   -690.857002\n",
      "67   192.0   1386.453753\n",
      "10    24.0   -475.523186\n",
      "44   400.0   1680.334320\n",
      "83   430.0    911.923408\n",
      "35    42.0   -527.458155\n",
      "90   480.0    922.921937\n",
      "62   162.0   1112.496291\n",
      "12    36.0   -436.674761\n",
      "4     25.2    -24.837441\n",
      "18    48.0    -99.752957\n",
      "28    82.0    -51.332717\n",
      "49   571.4   1355.760678\n"
     ]
    },
    {
     "data": {
      "image/png": "[encoded data removed]",
      "text/plain": [
       "<Figure size 360x576 with 1 Axes>"
      ]
     },
     "metadata": {
      "needs_background": "light"
     },
     "output_type": "display_data"
    }
   ],
   "source": [
    "from sklearn.linear_model import LinearRegression\n",
    "import matplotlib.pyplot as plt\n",
    "lr_model=LinearRegression()\n",
    "lr_model.fit(X_train,y_train) #training algorithm\n",
    "\n",
    "#it’s time to make some predictions.\n",
    "#we will use our test data and see how accurately our algorithm predicts the percentage score.\n",
    "predicted_value=lr_model.predict(X_test)\n",
    "true_value=y_test\n",
    "\n",
    "comparison = pd.DataFrame({'Actual':true_value,'LR Predicted':predicted_value})\n",
    "print(comparison)\n",
    "\n",
    "\n",
    "plt.figure(figsize=(5,8))\n",
    "plt.scatter(true_value, predicted_value, c='crimson')\n",
    "plt.yscale('log')\n",
    "plt.xscale('log')\n",
    "\n",
    "p1 = max(max(predicted_value), max(true_value))\n",
    "p2 = min(min(predicted_value), min(true_value))\n",
    "plt.plot([p1, p2], [p1, p2], 'b-')\n",
    "plt.xlabel('True Values', fontsize=15)\n",
    "plt.ylabel('Predictions', fontsize=15)\n",
    "plt.axis('equal')\n",
    "plt.show()"
   ]
  },
  {
   "cell_type": "markdown",
   "id": "04f71cf2",
   "metadata": {},
   "source": [
    "# Gradient Boosting"
   ]
  },
  {
   "cell_type": "code",
   "execution_count": 21,
   "id": "660ce3fb",
   "metadata": {},
   "outputs": [
    {
     "name": "stdout",
     "output_type": "stream",
     "text": [
      "    Actual  GB Predicted\n",
      "40  1248.0    564.002494\n",
      "22   120.0    115.892817\n",
      "55  1181.0   1469.782923\n",
      "72   300.0    344.271847\n",
      "0    117.6     93.021775\n",
      "26    70.0     54.243097\n",
      "39   114.0     74.635071\n",
      "67   192.0    921.999436\n",
      "10    24.0     17.125644\n",
      "44   400.0    355.033656\n",
      "83   430.0    419.939244\n",
      "35    42.0     28.129821\n",
      "90   480.0    140.059373\n",
      "62   162.0    432.172505\n",
      "12    36.0     46.915159\n",
      "4     25.2     42.714839\n",
      "18    48.0     59.174989\n",
      "28    82.0     55.035580\n",
      "49   571.4    361.921546\n"
     ]
    },
    {
     "data": {
      "image/png": "[encoded data removed]",
      "text/plain": [
       "<Figure size 360x576 with 1 Axes>"
      ]
     },
     "metadata": {
      "needs_background": "light"
     },
     "output_type": "display_data"
    }
   ],
   "source": [
    "from sklearn.ensemble import GradientBoostingRegressor\n",
    "gb_model=GradientBoostingRegressor()\n",
    "gb_model.fit(X_train,y_train)\n",
    "gb_model.score(X_test,y_test)\n",
    "predicted_value=gb_model.predict(X_test)\n",
    "true_value=y_test\n",
    "\n",
    "comparison = pd.DataFrame({'Actual':true_value,'GB Predicted':predicted_value})\n",
    "print(comparison)\n",
    "\n",
    "plt.figure(figsize=(5,8))\n",
    "plt.scatter(true_value, predicted_value, c='crimson')\n",
    "plt.yscale('log')\n",
    "plt.xscale('log')\n",
    "\n",
    "p1 = max(max(predicted_value), max(true_value))\n",
    "p2 = min(min(predicted_value), min(true_value))\n",
    "plt.plot([p1, p2], [p1, p2], 'b-')\n",
    "plt.xlabel('True Values', fontsize=15)\n",
    "plt.ylabel('Predictions', fontsize=15)\n",
    "plt.axis('equal')\n",
    "plt.show()"
   ]
  },
  {
   "cell_type": "markdown",
   "id": "d348968d",
   "metadata": {},
   "source": [
    "# Random Forest"
   ]
  },
  {
   "cell_type": "code",
   "execution_count": 22,
   "id": "5941a10b",
   "metadata": {},
   "outputs": [
    {
     "name": "stdout",
     "output_type": "stream",
     "text": [
      "    Actual  RF Predicted\n",
      "40  1248.0       549.998\n",
      "22   120.0        94.230\n",
      "55  1181.0      2025.717\n",
      "72   300.0       369.700\n",
      "0    117.6       105.404\n",
      "26    70.0        95.568\n",
      "39   114.0        81.006\n",
      "67   192.0      1306.750\n",
      "10    24.0        24.984\n",
      "44   400.0       404.048\n",
      "83   430.0       516.775\n",
      "35    42.0        28.196\n",
      "90   480.0       885.874\n",
      "62   162.0       476.988\n",
      "12    36.0        54.326\n",
      "4     25.2        42.232\n",
      "18    48.0        57.392\n",
      "28    82.0       109.316\n",
      "49   571.4       359.333\n"
     ]
    },
    {
     "data": {
      "image/png": "[encoded data removed]",
      "text/plain": [
       "<Figure size 504x504 with 1 Axes>"
      ]
     },
     "metadata": {
      "needs_background": "light"
     },
     "output_type": "display_data"
    }
   ],
   "source": [
    "# from sklearn.model_selection import train_test_split\n",
    "import matplotlib.pyplot as plt\n",
    "from sklearn.ensemble import RandomForestRegressor\n",
    "rf_model = RandomForestRegressor(random_state=43)      \n",
    "rf_model = rf_model.fit(X_train,y_train)\n",
    "rf_model.score(X_test,y_test)\n",
    "\n",
    "predicted_value=rf_model.predict(X_test)\n",
    "true_value=y_test\n",
    "\n",
    "comparison = pd.DataFrame({'Actual':true_value,'RF Predicted':predicted_value})\n",
    "print(comparison)\n",
    "\n",
    "\n",
    "plt.figure(figsize=(7,7))\n",
    "plt.scatter(true_value, predicted_value, c='crimson')\n",
    "plt.yscale('log')\n",
    "plt.xscale('log')\n",
    "\n",
    "p1 = max(max(predicted_value), max(true_value))\n",
    "p2 = min(min(predicted_value), min(true_value))\n",
    "plt.plot([p1, p2], [p1, p2], 'b-')\n",
    "plt.xlabel('True Values', fontsize=15)\n",
    "plt.ylabel('Predictions', fontsize=15)\n",
    "plt.axis('equal')\n",
    "plt.show()"
   ]
  },
  {
   "cell_type": "markdown",
   "id": "482c3f5b",
   "metadata": {},
   "source": [
    "# Decision Tree Regression"
   ]
  },
  {
   "cell_type": "code",
   "execution_count": 23,
   "id": "a32ae679",
   "metadata": {},
   "outputs": [
    {
     "name": "stdout",
     "output_type": "stream",
     "text": [
      "    Actual  DT Predicted\n",
      "40  1248.0         480.0\n",
      "22   120.0          90.0\n",
      "55  1181.0        1368.0\n",
      "72   300.0         300.0\n",
      "0    117.6         117.6\n",
      "26    70.0         170.0\n",
      "39   114.0         210.0\n",
      "67   192.0         444.0\n",
      "10    24.0          18.0\n",
      "44   400.0         432.0\n",
      "83   430.0         648.0\n",
      "35    42.0          18.0\n",
      "90   480.0         155.0\n",
      "62   162.0         278.0\n",
      "12    36.0          50.0\n",
      "4     25.2          36.0\n",
      "18    48.0          60.0\n",
      "28    82.0         170.0\n",
      "49   571.4         239.0\n"
     ]
    },
    {
     "data": {
      "image/png": "[encoded data removed]",
      "text/plain": [
       "<Figure size 504x504 with 1 Axes>"
      ]
     },
     "metadata": {
      "needs_background": "light"
     },
     "output_type": "display_data"
    }
   ],
   "source": [
    "from sklearn.tree import DecisionTreeRegressor\n",
    "D_model=DecisionTreeRegressor(max_depth=12)\n",
    "D_model.fit(X_train,y_train)\n",
    "D_model.score(X_test,y_test)\n",
    "predicted_value=D_model.predict(X_test)\n",
    "true_value=y_test\n",
    "\n",
    "comparison = pd.DataFrame({'Actual':true_value,'DT Predicted':predicted_value})\n",
    "print(comparison)\n",
    "\n",
    "\n",
    "plt.figure(figsize=(7,7))\n",
    "plt.scatter(true_value, predicted_value, c='crimson')\n",
    "plt.yscale('log')\n",
    "plt.xscale('log')\n",
    "\n",
    "p1 = max(max(predicted_value), max(true_value))\n",
    "p2 = min(min(predicted_value), min(true_value))\n",
    "plt.plot([p1, p2], [p1, p2], 'b-')\n",
    "plt.xlabel('True Values', fontsize=15)\n",
    "plt.ylabel('Predictions', fontsize=15)\n",
    "plt.axis('equal')\n",
    "plt.show()"
   ]
  },
  {
   "cell_type": "markdown",
   "id": "efd320cd",
   "metadata": {},
   "source": [
    "# Plotting"
   ]
  },
  {
   "cell_type": "code",
   "execution_count": 24,
   "id": "6af12c1a",
   "metadata": {},
   "outputs": [
    {
     "data": {
      "text/html": [
       "<div>\n",
       "<style scoped>\n",
       "    .dataframe tbody tr th:only-of-type {\n",
       "        vertical-align: middle;\n",
       "    }\n",
       "\n",
       "    .dataframe tbody tr th {\n",
       "        vertical-align: top;\n",
       "    }\n",
       "\n",
       "    .dataframe thead th {\n",
       "        text-align: right;\n",
       "    }\n",
       "</style>\n",
       "<table border=\"1\" class=\"dataframe\">\n",
       "  <thead>\n",
       "    <tr style=\"text-align: right;\">\n",
       "      <th></th>\n",
       "      <th>Linear Regression</th>\n",
       "      <th>Gradient Boosting</th>\n",
       "      <th>Random Forest</th>\n",
       "      <th>Decision Tree</th>\n",
       "    </tr>\n",
       "  </thead>\n",
       "  <tbody>\n",
       "    <tr>\n",
       "      <th>0</th>\n",
       "      <td>-1.971191</td>\n",
       "      <td>0.445891</td>\n",
       "      <td>-0.158314</td>\n",
       "      <td>0.583626</td>\n",
       "    </tr>\n",
       "  </tbody>\n",
       "</table>\n",
       "</div>"
      ],
      "text/plain": [
       "   Linear Regression   Gradient Boosting  Random Forest  Decision Tree\n",
       "0           -1.971191           0.445891      -0.158314       0.583626"
      ]
     },
     "execution_count": 24,
     "metadata": {},
     "output_type": "execute_result"
    }
   ],
   "source": [
    "lr_score=lr_model.score(X_test,y_test)\n",
    "gb_score=gb_model.score(X_test,y_test)\n",
    "rf_score=rf_model.score(X_test,y_test)\n",
    "d_score=D_model.score(X_test,y_test)\n",
    "\n",
    "\n",
    "Score=pd.DataFrame({'Linear Regression ':[lr_score],'Gradient Boosting':[gb_score],'Random Forest':[rf_score],'Decision Tree':[d_score]})\n",
    "Score"
   ]
  },
  {
   "cell_type": "code",
   "execution_count": 25,
   "id": "2fe64bcc",
   "metadata": {},
   "outputs": [],
   "source": [
    "names=[]\n",
    "\n",
    "for i in Score.columns:\n",
    "    names.append(i)"
   ]
  },
  {
   "cell_type": "code",
   "execution_count": 26,
   "id": "e1d1a4e4",
   "metadata": {},
   "outputs": [
    {
     "data": {
      "text/plain": [
       "<BarContainer object of 4 artists>"
      ]
     },
     "execution_count": 26,
     "metadata": {},
     "output_type": "execute_result"
    },
    {
     "data": {
      "image/png": "[encoded data removed]",
      "text/plain": [
       "<Figure size 576x396 with 1 Axes>"
      ]
     },
     "metadata": {
      "needs_background": "light"
     },
     "output_type": "display_data"
    }
   ],
   "source": [
    "plt.rcParams[\"figure.figsize\"] = (8,5.5)\n",
    "plt.bar(names,Score.iloc[0].values)"
   ]
  },
  {
   "cell_type": "code",
   "execution_count": 27,
   "id": "655ef27b",
   "metadata": {},
   "outputs": [
    {
     "data": {
      "text/plain": [
       "[<matplotlib.lines.Line2D at 0x1c97aca7640>]"
      ]
     },
     "execution_count": 27,
     "metadata": {},
     "output_type": "execute_result"
    },
    {
     "data": {
      "image/png": "[encoded data removed]",
      "text/plain": [
       "<Figure size 576x396 with 1 Axes>"
      ]
     },
     "metadata": {
      "needs_background": "light"
     },
     "output_type": "display_data"
    }
   ],
   "source": [
    "plt.plot(names,Score.iloc[0].values)"
   ]
  },
  {
   "cell_type": "markdown",
   "id": "c70e10d0",
   "metadata": {},
   "source": [
    "# R2"
   ]
  },
  {
   "cell_type": "code",
   "execution_count": 28,
   "id": "9c9bb5e6",
   "metadata": {},
   "outputs": [],
   "source": [
    "lr_score=lr_model.score(X_test,y_test)\n",
    "gb_score=gb_model.score(X_test,y_test)\n",
    "rf_score=rf_model.score(X_test,y_test)\n",
    "d_score=D_model.score(X_test,y_test)"
   ]
  },
  {
   "cell_type": "code",
   "execution_count": 29,
   "id": "71ff5138",
   "metadata": {},
   "outputs": [],
   "source": [
    "lr_pred=lr_model.predict(X_test)\n",
    "gb_pred=gb_model.predict(X_test)\n",
    "rf_pred=rf_model.predict(X_test)\n",
    "d_pred=D_model.predict(X_test)"
   ]
  },
  {
   "cell_type": "code",
   "execution_count": 30,
   "id": "fd341c18",
   "metadata": {},
   "outputs": [],
   "source": [
    "from sklearn.metrics import r2_score, mean_squared_error\n",
    "import numpy as np"
   ]
  },
  {
   "cell_type": "code",
   "execution_count": 31,
   "id": "032bfc86",
   "metadata": {},
   "outputs": [],
   "source": [
    "lr_r2_score=r2_score(y_test, lr_pred)\n",
    "gb_r2_score=r2_score(y_test,gb_pred)\n",
    "rf_r2_score=r2_score(y_test,rf_pred)\n",
    "d_r2_score=r2_score(y_test,d_pred)"
   ]
  },
  {
   "cell_type": "code",
   "execution_count": 32,
   "id": "88e68b44",
   "metadata": {},
   "outputs": [
    {
     "data": {
      "text/html": [
       "<div>\n",
       "<style scoped>\n",
       "    .dataframe tbody tr th:only-of-type {\n",
       "        vertical-align: middle;\n",
       "    }\n",
       "\n",
       "    .dataframe tbody tr th {\n",
       "        vertical-align: top;\n",
       "    }\n",
       "\n",
       "    .dataframe thead th {\n",
       "        text-align: right;\n",
       "    }\n",
       "</style>\n",
       "<table border=\"1\" class=\"dataframe\">\n",
       "  <thead>\n",
       "    <tr style=\"text-align: right;\">\n",
       "      <th></th>\n",
       "      <th>Linear Regression</th>\n",
       "      <th>Gradient Boosting Tree</th>\n",
       "      <th>Random Forest</th>\n",
       "      <th>Decision Tree</th>\n",
       "    </tr>\n",
       "  </thead>\n",
       "  <tbody>\n",
       "    <tr>\n",
       "      <th>0</th>\n",
       "      <td>-1.971191</td>\n",
       "      <td>0.445891</td>\n",
       "      <td>-0.158314</td>\n",
       "      <td>0.583626</td>\n",
       "    </tr>\n",
       "  </tbody>\n",
       "</table>\n",
       "</div>"
      ],
      "text/plain": [
       "   Linear Regression   Gradient Boosting Tree  Random Forest  Decision Tree\n",
       "0           -1.971191                0.445891      -0.158314       0.583626"
      ]
     },
     "execution_count": 32,
     "metadata": {},
     "output_type": "execute_result"
    }
   ],
   "source": [
    "r2_Score=pd.DataFrame({'Linear Regression ':[lr_r2_score],'Gradient Boosting Tree':[gb_r2_score],'Random Forest':[rf_r2_score],'Decision Tree':[d_r2_score]})\n",
    "r2_Score"
   ]
  },
  {
   "cell_type": "code",
   "execution_count": 33,
   "id": "2394f41f",
   "metadata": {},
   "outputs": [
    {
     "data": {
      "text/plain": [
       "[<matplotlib.lines.Line2D at 0x1c97abcc580>]"
      ]
     },
     "execution_count": 33,
     "metadata": {},
     "output_type": "execute_result"
    },
    {
     "data": {
      "image/png": "[encoded data removed]",
      "text/plain": [
       "<Figure size 576x396 with 1 Axes>"
      ]
     },
     "metadata": {
      "needs_background": "light"
     },
     "output_type": "display_data"
    }
   ],
   "source": [
    "plt.plot(names,r2_Score.iloc[0].values)"
   ]
  },
  {
   "cell_type": "markdown",
   "id": "cfc0981f",
   "metadata": {},
   "source": [
    "# RMSE (Root Mean Square Error)"
   ]
  },
  {
   "cell_type": "code",
   "execution_count": 34,
   "id": "fb260d34",
   "metadata": {},
   "outputs": [],
   "source": [
    "lr_rmse=np.sqrt(mean_squared_error(lr_pred, y_test))\n",
    "gb_rmse=np.sqrt(mean_squared_error(gb_pred, y_test))\n",
    "rf_rmse=np.sqrt(mean_squared_error(rf_pred, y_test))\n",
    "d_rmse=np.sqrt(mean_squared_error(d_pred, y_test))"
   ]
  },
  {
   "cell_type": "code",
   "execution_count": 35,
   "id": "040cba2c",
   "metadata": {},
   "outputs": [
    {
     "data": {
      "text/html": [
       "<div>\n",
       "<style scoped>\n",
       "    .dataframe tbody tr th:only-of-type {\n",
       "        vertical-align: middle;\n",
       "    }\n",
       "\n",
       "    .dataframe tbody tr th {\n",
       "        vertical-align: top;\n",
       "    }\n",
       "\n",
       "    .dataframe thead th {\n",
       "        text-align: right;\n",
       "    }\n",
       "</style>\n",
       "<table border=\"1\" class=\"dataframe\">\n",
       "  <thead>\n",
       "    <tr style=\"text-align: right;\">\n",
       "      <th></th>\n",
       "      <th>Linear Regression</th>\n",
       "      <th>Gradient Boosting Tree</th>\n",
       "      <th>Random Forest</th>\n",
       "      <th>Decision Tree</th>\n",
       "    </tr>\n",
       "  </thead>\n",
       "  <tbody>\n",
       "    <tr>\n",
       "      <th>0</th>\n",
       "      <td>611.411231</td>\n",
       "      <td>264.037568</td>\n",
       "      <td>381.751923</td>\n",
       "      <td>228.881077</td>\n",
       "    </tr>\n",
       "  </tbody>\n",
       "</table>\n",
       "</div>"
      ],
      "text/plain": [
       "   Linear Regression   Gradient Boosting Tree  Random Forest  Decision Tree\n",
       "0          611.411231              264.037568     381.751923     228.881077"
      ]
     },
     "execution_count": 35,
     "metadata": {},
     "output_type": "execute_result"
    }
   ],
   "source": [
    "rmse=pd.DataFrame({'Linear Regression ':[lr_rmse],'Gradient Boosting Tree':[gb_rmse],'Random Forest':[rf_rmse],'Decision Tree':[d_rmse]})\n",
    "rmse"
   ]
  },
  {
   "cell_type": "code",
   "execution_count": 36,
   "id": "346bb3c5",
   "metadata": {},
   "outputs": [
    {
     "data": {
      "text/plain": [
       "[<matplotlib.lines.Line2D at 0x1c979b25790>]"
      ]
     },
     "execution_count": 36,
     "metadata": {},
     "output_type": "execute_result"
    },
    {
     "data": {
      "image/png": "[encoded data removed]",
      "text/plain": [
       "<Figure size 576x396 with 1 Axes>"
      ]
     },
     "metadata": {
      "needs_background": "light"
     },
     "output_type": "display_data"
    }
   ],
   "source": [
    "plt.plot(names,rmse.iloc[0].values)"
   ]
  },
  {
   "cell_type": "code",
   "execution_count": null,
   "id": "100f6396",
   "metadata": {},
   "outputs": [],
   "source": []
  }
 ],
 "metadata": {
  "kernelspec": {
   "display_name": "Python 3",
   "language": "python",
   "name": "python3"
  },
  "language_info": {
   "codemirror_mode": {
    "name": "ipython",
    "version": 3
   },
   "file_extension": ".py",
   "mimetype": "text/x-python",
   "name": "python",
   "nbconvert_exporter": "python",
   "pygments_lexer": "ipython3",
   "version": "3.8.8"
  }
 },
 "nbformat": 4,
 "nbformat_minor": 5
}
